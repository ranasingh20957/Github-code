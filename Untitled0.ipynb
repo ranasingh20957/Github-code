{
  "cells": [
    {
      "cell_type": "code",
      "execution_count": null,
      "metadata": {
        "colab": {
          "background_save": true,
          "base_uri": "https://localhost:8080/"
        },
        "id": "d5xRzZDl9Yhy",
        "outputId": "7f7662a0-1263-4312-90d7-550a2ac61f2f"
      },
      "outputs": [
        {
          "name": "stdout",
          "output_type": "stream",
          "text": [
            "False\n"
          ]
        }
      ],
      "source": [
        "# string ----> alphabet+number+special char+anything\n",
        "# it should me in single ,double or triple quotes\n",
        "a=123\n",
        "b='123'\n",
        "print(a==b)"
      ]
    },
    {
      "cell_type": "code",
      "execution_count": null,
      "metadata": {
        "id": "JwLr6hhO9wWM"
      },
      "outputs": [],
      "source": [
        "#variable & data type\n",
        "\n",
        "a ='10'"
      ]
    },
    {
      "cell_type": "code",
      "execution_count": null,
      "metadata": {
        "colab": {
          "base_uri": "https://localhost:8080/"
        },
        "id": "e-Kdlo5g9134",
        "outputId": "e6bd9710-8568-49ee-e990-49f082e37146"
      },
      "outputs": [
        {
          "output_type": "stream",
          "name": "stdout",
          "text": [
            "10\n"
          ]
        }
      ],
      "source": [
        "#data types----> int,string,float,boolean,complex.\n",
        "a = 10\n",
        "print(a)\n"
      ]
    },
    {
      "cell_type": "code",
      "execution_count": null,
      "metadata": {
        "colab": {
          "base_uri": "https://localhost:8080/"
        },
        "id": "rsm6baCm-ISI",
        "outputId": "8fdea5ed-e991-466a-82fa-01ef52b2f724"
      },
      "outputs": [
        {
          "data": {
            "text/plain": [
              "int"
            ]
          },
          "execution_count": 11,
          "metadata": {},
          "output_type": "execute_result"
        }
      ],
      "source": [
        "type(a)"
      ]
    },
    {
      "cell_type": "code",
      "execution_count": null,
      "metadata": {
        "colab": {
          "base_uri": "https://localhost:8080/"
        },
        "id": "rm6UtiVG-LtN",
        "outputId": "d5184d1f-4070-44fb-863c-7ec764aeeec2"
      },
      "outputs": [
        {
          "name": "stdout",
          "output_type": "stream",
          "text": [
            "10\n"
          ]
        }
      ],
      "source": [
        "a='10'\n",
        "print(a)\n"
      ]
    },
    {
      "cell_type": "code",
      "execution_count": null,
      "metadata": {
        "colab": {
          "base_uri": "https://localhost:8080/"
        },
        "id": "7fDlfvbD-PkE",
        "outputId": "f60c2c3f-65c2-498a-e9c1-ce0cf353ee4f"
      },
      "outputs": [
        {
          "data": {
            "text/plain": [
              "str"
            ]
          },
          "execution_count": 13,
          "metadata": {},
          "output_type": "execute_result"
        }
      ],
      "source": [
        "type(a)\n"
      ]
    },
    {
      "cell_type": "code",
      "execution_count": null,
      "metadata": {
        "colab": {
          "base_uri": "https://localhost:8080/"
        },
        "id": "EnagxAUe-T2B",
        "outputId": "47fc4181-7c3a-46ff-c92f-c8fa589e5eee"
      },
      "outputs": [
        {
          "name": "stdout",
          "output_type": "stream",
          "text": [
            "-12\n"
          ]
        }
      ],
      "source": [
        "#data types----> int,string,float,boolean,complex.\n",
        "a = -12\n",
        "print(a)\n"
      ]
    },
    {
      "cell_type": "code",
      "execution_count": null,
      "metadata": {
        "colab": {
          "base_uri": "https://localhost:8080/"
        },
        "id": "0KV7xC_1-fQ1",
        "outputId": "24b1ff6f-c350-46bd-af79-cd0d3b13f9b9"
      },
      "outputs": [
        {
          "name": "stdout",
          "output_type": "stream",
          "text": [
            "-100.987\n"
          ]
        }
      ],
      "source": [
        "# float----->decimal values\n",
        "x= -100.987\n",
        "print(x)\n"
      ]
    },
    {
      "cell_type": "code",
      "execution_count": null,
      "metadata": {
        "colab": {
          "base_uri": "https://localhost:8080/"
        },
        "id": "hxmpbWbT-lpK",
        "outputId": "d7ffba6f-2ec3-4a50-cbcb-a1227deb28f1"
      },
      "outputs": [
        {
          "data": {
            "text/plain": [
              "float"
            ]
          },
          "execution_count": 16,
          "metadata": {},
          "output_type": "execute_result"
        }
      ],
      "source": [
        "type(x)\n"
      ]
    },
    {
      "cell_type": "code",
      "execution_count": null,
      "metadata": {
        "colab": {
          "base_uri": "https://localhost:8080/"
        },
        "id": "BnT4MQx0-pkw",
        "outputId": "7281562e-b225-4a09-bce3-3cc774b0b452"
      },
      "outputs": [
        {
          "name": "stdout",
          "output_type": "stream",
          "text": [
            "True\n"
          ]
        }
      ],
      "source": [
        "a=True\n",
        "print(a)\n"
      ]
    },
    {
      "cell_type": "code",
      "execution_count": null,
      "metadata": {
        "colab": {
          "base_uri": "https://localhost:8080/"
        },
        "id": "3RMJcNPU-tBt",
        "outputId": "f1f51271-1d40-4222-feb3-c38e8de83a67"
      },
      "outputs": [
        {
          "data": {
            "text/plain": [
              "bool"
            ]
          },
          "execution_count": 18,
          "metadata": {},
          "output_type": "execute_result"
        }
      ],
      "source": [
        "type(a)\n"
      ]
    },
    {
      "cell_type": "code",
      "execution_count": null,
      "metadata": {
        "colab": {
          "base_uri": "https://localhost:8080/"
        },
        "id": "D6QySkMF-xEe",
        "outputId": "54bb7fa2-1221-40ad-cad9-7fb703cb62fd"
      },
      "outputs": [
        {
          "name": "stdout",
          "output_type": "stream",
          "text": [
            "(3+5j)\n"
          ]
        }
      ],
      "source": [
        "x = 3+5j\n",
        "print(x)\n"
      ]
    },
    {
      "cell_type": "code",
      "execution_count": null,
      "metadata": {
        "colab": {
          "base_uri": "https://localhost:8080/"
        },
        "id": "4jRyvoxf-1EP",
        "outputId": "b1ca3442-a37a-4d4e-dd90-45ac3bca20e1"
      },
      "outputs": [
        {
          "data": {
            "text/plain": [
              "complex"
            ]
          },
          "execution_count": 20,
          "metadata": {},
          "output_type": "execute_result"
        }
      ],
      "source": [
        "type(x)\n"
      ]
    },
    {
      "cell_type": "code",
      "execution_count": null,
      "metadata": {
        "colab": {
          "base_uri": "https://localhost:8080/"
        },
        "id": "2EAIsGTh-9Ri",
        "outputId": "6ded5fca-281f-4c34-b3f7-c667563fa2dd"
      },
      "outputs": [
        {
          "data": {
            "text/plain": [
              "3"
            ]
          },
          "execution_count": 21,
          "metadata": {},
          "output_type": "execute_result"
        }
      ],
      "source": [
        "#wap to add two numbers.\n",
        "2+1\n"
      ]
    },
    {
      "cell_type": "code",
      "execution_count": null,
      "metadata": {
        "colab": {
          "base_uri": "https://localhost:8080/"
        },
        "id": "rdfB_TS6-_Cj",
        "outputId": "df1be8a6-9984-47b4-b489-1fffce922bd6"
      },
      "outputs": [
        {
          "data": {
            "text/plain": [
              "123"
            ]
          },
          "execution_count": 22,
          "metadata": {},
          "output_type": "execute_result"
        }
      ],
      "source": [
        "a=10\n",
        "a=123\n",
        "a\n"
      ]
    },
    {
      "cell_type": "code",
      "execution_count": null,
      "metadata": {
        "colab": {
          "base_uri": "https://localhost:8080/"
        },
        "id": "JSapnwF7_DIi",
        "outputId": "ff0e4e41-0324-44c5-d7b7-f9cc0ab763b3"
      },
      "outputs": [
        {
          "name": "stdout",
          "output_type": "stream",
          "text": [
            "4\n"
          ]
        }
      ],
      "source": [
        "a=3\n",
        "b=1\n",
        "c=a+b\n",
        "print(c)"
      ]
    },
    {
      "cell_type": "code",
      "execution_count": null,
      "metadata": {
        "colab": {
          "base_uri": "https://localhost:8080/"
        },
        "id": "KJ4EDe-i_NES",
        "outputId": "23edb5f2-4808-4f11-c06c-573b8b66762b"
      },
      "outputs": [
        {
          "name": "stdout",
          "output_type": "stream",
          "text": [
            "1\n"
          ]
        }
      ],
      "source": [
        "# Airthmetic operator-----> +,-,*,/,%\n",
        "#wap to divide two numbers .\n",
        "a=4\n",
        "b=3\n",
        "c=a//b\n",
        "print(c)\n"
      ]
    },
    {
      "cell_type": "code",
      "execution_count": null,
      "metadata": {
        "colab": {
          "base_uri": "https://localhost:8080/"
        },
        "id": "X06OfgYn_Scm",
        "outputId": "bee21249-41c4-4ed9-ccfc-a2b494156091"
      },
      "outputs": [
        {
          "name": "stdout",
          "output_type": "stream",
          "text": [
            "4\n"
          ]
        }
      ],
      "source": [
        "a= 1234\n",
        "b= 6\n",
        "result = a%b\n",
        "print(result)\n"
      ]
    },
    {
      "cell_type": "code",
      "execution_count": null,
      "metadata": {
        "colab": {
          "base_uri": "https://localhost:8080/"
        },
        "id": "eKJLwz9m_Z6C",
        "outputId": "39a2deea-0723-49ff-c84e-01e4a47967d3"
      },
      "outputs": [
        {
          "name": "stdout",
          "output_type": "stream",
          "text": [
            "Plz enter the pin66\n",
            "66\n"
          ]
        }
      ],
      "source": [
        "#User input-----> \n",
        "# add two numbers with the help of user inputs.\n",
        "\n",
        "# syntax----> input('print your Msg')\n",
        "\n",
        "x = input('Plz enter the pin')\n",
        "print(x)\n"
      ]
    },
    {
      "cell_type": "code",
      "execution_count": null,
      "metadata": {
        "colab": {
          "base_uri": "https://localhost:8080/"
        },
        "id": "MJ6Buo56_eBT",
        "outputId": "288b5067-f5c3-4c5f-9eec-1157cf44b8ef"
      },
      "outputs": [
        {
          "name": "stdout",
          "output_type": "stream",
          "text": [
            "Enter the first number88\n",
            "Enter the second number88\n",
            "176\n"
          ]
        }
      ],
      "source": [
        "x= int(input('Enter the first number'))\n",
        "y= int(input('Enter the second number'))\n",
        "z = x+y\n",
        "print(z)\n"
      ]
    },
    {
      "cell_type": "code",
      "execution_count": null,
      "metadata": {
        "colab": {
          "base_uri": "https://localhost:8080/"
        },
        "id": "gq5Nh6Ik_kQ6",
        "outputId": "b42dda8c-40e7-4cdd-e30d-3142c0eadf6b"
      },
      "outputs": [
        {
          "name": "stdout",
          "output_type": "stream",
          "text": [
            "12\n"
          ]
        }
      ],
      "source": [
        "x = '1'\n",
        "y= '2'\n",
        "z = x+y\n",
        "print(z)\n"
      ]
    },
    {
      "cell_type": "code",
      "execution_count": null,
      "metadata": {
        "colab": {
          "base_uri": "https://localhost:8080/"
        },
        "id": "aMFhwc9Z_ouH",
        "outputId": "e3366dca-62f2-47ad-cb32-3b8d21954698"
      },
      "outputs": [
        {
          "name": "stdout",
          "output_type": "stream",
          "text": [
            "Enter the first number67\n",
            "Enter the second number7\n",
            "74\n"
          ]
        }
      ],
      "source": [
        "x= input('Enter the first number')\n",
        "y= input('Enter the second number')\n",
        "z = int(x)+int(y)\n",
        "print(z)\n"
      ]
    },
    {
      "cell_type": "code",
      "execution_count": null,
      "metadata": {
        "colab": {
          "base_uri": "https://localhost:8080/"
        },
        "id": "lcY9Y5yw_xm4",
        "outputId": "9b124edb-5ff2-4d46-9aa9-5e9509db97b2"
      },
      "outputs": [
        {
          "name": "stdout",
          "output_type": "stream",
          "text": [
            "Enter the first number67\n",
            "Enter the second number1.6\n",
            "68.6\n"
          ]
        }
      ],
      "source": [
        "x= int(input('Enter the first number'))\n",
        "y= float(input('Enter the second number'))\n",
        "z = x+y\n",
        "print(z)\n"
      ]
    },
    {
      "cell_type": "code",
      "execution_count": null,
      "metadata": {
        "colab": {
          "base_uri": "https://localhost:8080/"
        },
        "id": "XZQo17aH_9Pd",
        "outputId": "346cc853-438e-459c-a251-8d4a3a8fe30a"
      },
      "outputs": [
        {
          "name": "stdout",
          "output_type": "stream",
          "text": [
            "Enter your age20\n",
            "Adult\n"
          ]
        }
      ],
      "source": [
        "#conditions---->\n",
        "#syntax\n",
        "\n",
        "age = int(input(\"Enter your age\"))\n",
        "if age>18:\n",
        "    print('Adult')\n",
        "else:\n",
        "    print('ye toh baccha hai bhai!!')\n",
        "    "
      ]
    },
    {
      "cell_type": "code",
      "execution_count": null,
      "metadata": {
        "colab": {
          "base_uri": "https://localhost:8080/"
        },
        "id": "0BNCIo74AA8U",
        "outputId": "a768243c-c189-44d9-b9e7-4bd9d4f513e6"
      },
      "outputs": [
        {
          "name": "stdout",
          "output_type": "stream",
          "text": [
            "Enter your age33\n",
            "Adult\n"
          ]
        }
      ],
      "source": [
        "# cond for elif--->1. there must be if present already \n",
        "# in the code\n",
        "\n",
        "# 2. if i declare else then you can't use elif anymore\n",
        "age = int(input(\"Enter your age\"))\n",
        "if age>18:\n",
        "    print('Adult')\n",
        "elif age==18:\n",
        "    print(\"Teenager\")\n",
        "else:\n",
        "    print('ye toh baccha hai bhai!!')\n",
        "    "
      ]
    },
    {
      "cell_type": "code",
      "execution_count": null,
      "metadata": {
        "colab": {
          "base_uri": "https://localhost:8080/"
        },
        "id": "2Pp2dxXjAHDY",
        "outputId": "a3482089-6e0f-4239-9f62-38200670100f"
      },
      "outputs": [
        {
          "data": {
            "text/plain": [
              "True"
            ]
          },
          "execution_count": 33,
          "metadata": {},
          "output_type": "execute_result"
        }
      ],
      "source": [
        "a=2\n",
        "b=2\n",
        "a==b\n"
      ]
    },
    {
      "cell_type": "code",
      "execution_count": null,
      "metadata": {
        "colab": {
          "base_uri": "https://localhost:8080/"
        },
        "id": "k4z6zFBKAL6i",
        "outputId": "acbfa88e-0ae4-4b49-ac12-4d6851e6be3d"
      },
      "outputs": [
        {
          "name": "stdout",
          "output_type": "stream",
          "text": [
            "Enter the salary4445\n",
            "Enter the year of service5\n",
            "No bonus!!\n"
          ]
        }
      ],
      "source": [
        "# A company decided to give bonus of 5% to \n",
        "# employee if his/her year of service \n",
        "# is more than 5 years.\n",
        "# Ask user for their salary and year\n",
        "# of service and print the net bonus amount.\n",
        "\n",
        "salary = int(input(\"Enter the salary\"))\n",
        "year_of_service =int(input(\"Enter the year of service\"))\n",
        "\n",
        "if year_of_service>5:\n",
        "    bonus = (salary * 5)/100\n",
        "    print(\"You will get the bonus\",bonus )\n",
        "    \n",
        "else:\n",
        "    print(\"No bonus!!\")\n",
        "    "
      ]
    },
    {
      "cell_type": "code",
      "execution_count": null,
      "metadata": {
        "colab": {
          "base_uri": "https://localhost:8080/"
        },
        "id": "7jF6ZWInOADp",
        "outputId": "acbfa88e-0ae4-4b49-ac12-4d6851e6be3d"
      },
      "outputs": [
        {
          "name": "stdout",
          "output_type": "stream",
          "text": [
            "Enter the salary4445\n",
            "Enter the year of service5\n",
            "No bonus!!\n"
          ]
        }
      ],
      "source": [
        "# A company decided to give bonus of 5% to \n",
        "# employee if his/her year of service \n",
        "# is more than 5 years.\n",
        "# Ask user for their salary and year\n",
        "# of service and print the net bonus amount.\n",
        "\n",
        "salary = int(input(\"Enter the salary\"))\n",
        "year_of_service =int(input(\"Enter the year of service\"))\n",
        "\n",
        "if year_of_service>5:\n",
        "    bonus = (salary * 5)/100\n",
        "    print(\"You will get the bonus\",bonus )\n",
        "    \n",
        "else:\n",
        "    print(\"No bonus!!\")\n",
        "    "
      ]
    },
    {
      "cell_type": "code",
      "execution_count": null,
      "metadata": {
        "colab": {
          "base_uri": "https://localhost:8080/"
        },
        "id": "yTV4UpgcAia6",
        "outputId": "3a91c1a8-7cd4-4d12-804a-f3387f488d24"
      },
      "outputs": [
        {
          "data": {
            "text/plain": [
              "5.0"
            ]
          },
          "execution_count": 1,
          "metadata": {},
          "output_type": "execute_result"
        }
      ],
      "source": [
        "a = 10\n",
        "b = 2\n",
        "c = a/b\n",
        "c5\n"
      ]
    },
    {
      "cell_type": "code",
      "execution_count": null,
      "metadata": {
        "colab": {
          "base_uri": "https://localhost:8080/"
        },
        "id": "xh--5gITAodD",
        "outputId": "2a8d67d5-5c32-4a82-e5a5-dc6526f87806"
      },
      "outputs": [
        {
          "name": "stdout",
          "output_type": "stream",
          "text": [
            "Enter the salary4545\n",
            "Enter the yos6\n",
            "bonus amt will be 227.25\n",
            "Total salary will be----> 4772.25\n"
          ]
        }
      ],
      "source": [
        "# A company decided to give bonus of 5% to \n",
        "# employee if his/her year of service \n",
        "# is more than 5 years.\n",
        "\n",
        "# Ask user for their salary and year\n",
        "# of service and print the net bonus amount.\n",
        "# also print the exact amt/total salary received by the user.\n",
        "\n",
        "salary = int(input(\"Enter the salary\"))\n",
        "yos = int(input(\"Enter the yos\"))\n",
        "\n",
        "if yos>5:\n",
        "    bonus = salary * 0.05\n",
        "    total_sal = salary + bonus\n",
        "    print('bonus amt will be',bonus)\n",
        "    print(\"Total salary will be---->\",total_sal)\n",
        "else:\n",
        "    print('no bonus')\n",
        "    "
      ]
    },
    {
      "cell_type": "code",
      "execution_count": null,
      "metadata": {
        "colab": {
          "base_uri": "https://localhost:8080/"
        },
        "id": "DIiE6YURAvwf",
        "outputId": "bb682439-1557-4862-8545-0c5f931acb23"
      },
      "outputs": [
        {
          "name": "stdout",
          "output_type": "stream",
          "text": [
            "Enter the length5\n",
            "Enter the breadth5\n",
            "SQuare\n"
          ]
        }
      ],
      "source": [
        "# Take values of length and breadth of a \n",
        "# rectangle from user and \n",
        "# check if it is square or not.\n",
        "l = float(input(\"Enter the length\"))\n",
        "b = float(input(\"Enter the breadth\"))\n",
        "if l==b:\n",
        "    print(\"SQuare\")\n",
        "else:\n",
        "    print('Rectangle')\n",
        "    "
      ]
    },
    {
      "cell_type": "code",
      "execution_count": null,
      "metadata": {
        "id": "PH6RwJ_GA2yI"
      },
      "outputs": [],
      "source": [
        "# Take three int values \n",
        "# from user and print \n",
        "# greatest among them.\n",
        "\n",
        "a=9\n",
        "b=9\n",
        "c=9\n",
        "\n",
        "if a>b and a>c:\n",
        "    print(\"A is greater\")\n",
        "elif b>a and b>c:\n",
        "    print(\"B is greater\")\n",
        "# else:\n",
        "#     print(\"C is greater\")\n",
        "    \n",
        "elif c>a and c>b:\n",
        "    print(\"C is greater\")\n",
        "    \n",
        "    "
      ]
    },
    {
      "cell_type": "code",
      "execution_count": null,
      "metadata": {
        "colab": {
          "base_uri": "https://localhost:8080/"
        },
        "id": "benjHFK9BFa5",
        "outputId": "38d611ff-ffe9-43e1-d042-96f0fe785f7b"
      },
      "outputs": [
        {
          "name": "stdout",
          "output_type": "stream",
          "text": [
            "Enter the first number5\n",
            "Enter the second number6\n",
            "Enter the third number8\n",
            "third number is greater\n"
          ]
        }
      ],
      "source": [
        "first_number=float(input('Enter the first number'))\n",
        "second_number=float(input('Enter the second number'))\n",
        "third_number=float(input('Enter the third number'))\n",
        "if first_number> second_number and first_number> third_number:\n",
        "    print('first number is greater')\n",
        "elif second_number>first_number and second_number>third_number:\n",
        "    print('second number is greater')\n",
        "elif third_number>first_number and third_number>second_number:\n",
        "    print ('third number is greater')\n",
        "else:\n",
        "    print('all number are equal')\n",
        "    "
      ]
    },
    {
      "cell_type": "code",
      "execution_count": null,
      "metadata": {
        "id": "fOOZ4fFfBO3p"
      },
      "outputs": [],
      "source": [
        "# A shop will give discount of 10% if the cost of \n",
        "# purchased bill is more than 1000.\n",
        "# Ask user for quantity\n",
        "# Suppose, one unit will cost 100.\n",
        "# Judge and print total cost for user.\n",
        "\n",
        "\n",
        "\n",
        "item_price = int(input(\"Enter the price\"))\n",
        "quantity_of_item_purchase = 34\n",
        "total_bill = item_price * quantity_of_item_purchase\n",
        "\n",
        "\n",
        "if total_bill > 1000:\n",
        "    discount = (total_bill *10 )/100\n",
        "    \n",
        "    price_after_discount = total_bill - discount\n",
        "    print(\"discount op!!\",discount)\n",
        "    print(\"User will pay ---->\",price_after_discount)\n",
        "    \n",
        "else:\n",
        "    print(\"no discount\")\n",
        "    "
      ]
    },
    {
      "cell_type": "code",
      "execution_count": null,
      "metadata": {
        "id": "BXyhhuK-BZLR"
      },
      "outputs": [],
      "source": [
        "# A school has following rules for grading system:\n",
        "# a. Below 25 - F\n",
        "# b. 25 to 45 - E\n",
        "# c. 45 to 50 - D\n",
        "# d. 50 to 60 - C\n",
        "# e. 60 to 80 - B\n",
        "# f. Above 80 - A\n",
        "# Ask user to enter marks and print the corresponding grade\n",
        "\n",
        "\n",
        "grade =float(input(\"Enter your marks/percentage\"))\n",
        "if grade>80:\n",
        "    print(\"A grade\")\n",
        "elif grade <= 80 and grade > 60:\n",
        "    print(\"B grade\")\n",
        "elif grade >50 and grade <= 60:\n",
        "    print(\"C grade\")\n",
        "elif grade > 45 and grade <=50:\n",
        "    print(\"D grade\")\n",
        "elif grade >= 25 and grade <= 45:\n",
        "    print(\"E grade\")\n",
        "elif grade < 25:\n",
        "    print(\"F grade\")\n",
        "    \n",
        "    "
      ]
    },
    {
      "cell_type": "code",
      "execution_count": null,
      "metadata": {
        "id": "NxjCmk3QBddz"
      },
      "outputs": [],
      "source": [
        "a=20\n",
        "b=45\n",
        "c = a\n",
        "a = b\n",
        "b = c\n",
        "\n",
        "print(a)\n"
      ]
    },
    {
      "cell_type": "code",
      "execution_count": null,
      "metadata": {
        "id": "l1E5QCPQBhFR"
      },
      "outputs": [],
      "source": [
        "#without temp variable.\n",
        "# a=23\n",
        "# b=90\n",
        "a,b = 23,90\n",
        "\n",
        "print(a)\n"
      ]
    },
    {
      "cell_type": "code",
      "execution_count": null,
      "metadata": {
        "id": "gyeu0Be-Bp-9"
      },
      "outputs": [],
      "source": [
        "print(b)\n"
      ]
    },
    {
      "cell_type": "code",
      "execution_count": null,
      "metadata": {
        "id": "mPvEdfT3Brjm"
      },
      "outputs": [],
      "source": [
        "a = 10\n",
        "b = 45\n",
        "a,b = b,a\n",
        "print(a)\n"
      ]
    },
    {
      "cell_type": "code",
      "execution_count": null,
      "metadata": {
        "id": "GkuDA9MFBxDX"
      },
      "outputs": [],
      "source": [
        "print(b)\n"
      ]
    },
    {
      "cell_type": "code",
      "execution_count": null,
      "metadata": {
        "id": "Gao-HyyJBzYv"
      },
      "outputs": [],
      "source": [
        "a=9\n",
        "b=0\n",
        "a=b\n",
        "b=a\n",
        "print(a)\n"
      ]
    },
    {
      "cell_type": "code",
      "execution_count": null,
      "metadata": {
        "id": "cwUBrIk4B3IA"
      },
      "outputs": [],
      "source": [
        "# A student will not be allowed to sit in exam \n",
        "# if his/her attendance is less than 75%.\n",
        "\n",
        "# Take following input from user\n",
        "# Number of classes held\n",
        "# Number of classes attended.\n",
        "# And print\n",
        "# percentage of class attended\n",
        "# Is student is allowed to sit in exam or not.\n",
        "\n",
        "\n",
        "num_of_classes_held = 45\n",
        "num_of_classes_attend = 40\n",
        "\n",
        "per_class_attend = (num_of_classes_attend * 100 )/ num_of_classes_held\n",
        "print(per_class_attend)\n",
        "\n",
        "if per_class_attend > 75:\n",
        "    print(\"Allowed in exam\")\n",
        "else:\n",
        "    print(\"Not allowed!!\")\n",
        "    "
      ]
    },
    {
      "cell_type": "code",
      "execution_count": null,
      "metadata": {
        "colab": {
          "base_uri": "https://localhost:8080/",
          "height": 132
        },
        "id": "oP4yTZ1qB8Z-",
        "outputId": "66f377b9-a14d-4e16-fa43-7595c6d61b9f"
      },
      "outputs": [
        {
          "ename": "SyntaxError",
          "evalue": "ignored",
          "output_type": "error",
          "traceback": [
            "\u001b[0;36m  File \u001b[0;32m\"<ipython-input-3-366fd6b5a126>\"\u001b[0;36m, line \u001b[0;32m18\u001b[0m\n\u001b[0;31m    else:\u001b[0m\n\u001b[0m       ^\u001b[0m\n\u001b[0;31mSyntaxError\u001b[0m\u001b[0;31m:\u001b[0m invalid syntax\n"
          ]
        }
      ],
      "source": [
        "# Modify the above question to allow student to sit if he/she has medical cause. Ask user if he/she has medical cause \n",
        "# or not ( 'Y' or 'N' ) and print accordingly.\n",
        "\n",
        "num_of_classes_held = 45\n",
        "num_of_classes_attend = 4\n",
        "medical_condition = 'no'\n",
        "\n",
        "per_class_attend = (num_of_classes_attend * 100 )/ num_of_classes_held\n",
        "print(per_class_attend)\n",
        "\n",
        "if per_class_attend > 75:\n",
        "    print(\"Allowed in exam\")\n",
        "elif per_class_attend < 75:\n",
        "    if medical_condition =='yes':\n",
        "     print(\"Allowed due to medical condition\")      \n",
        "else:\n",
        "     print(\"Not allowed---- No medical condition!!\")\n",
        "else:\n",
        "     print(\"Not allowed!!\")\n",
        "    "
      ]
    },
    {
      "cell_type": "code",
      "execution_count": null,
      "metadata": {
        "id": "7c4OPHTQCBIu"
      },
      "outputs": [],
      "source": [
        "#two types of loop\n",
        "# 1 for loop\n",
        "# 2 while loop\n",
        "#For loop\n",
        "#range function\n",
        "\n",
        "\n",
        "# Syntax of for loop.\n",
        "\n",
        "# for i in range()\n",
        "\n",
        "\n",
        "# code---->\n",
        "\n",
        "for x in range(10):\n",
        "    print(x)\n",
        "    "
      ]
    },
    {
      "cell_type": "code",
      "execution_count": null,
      "metadata": {
        "id": "2amugozsCSDk"
      },
      "outputs": [],
      "source": [
        "for i in range(2,10):\n",
        "    print(i)\n",
        "    "
      ]
    },
    {
      "cell_type": "code",
      "execution_count": null,
      "metadata": {
        "colab": {
          "base_uri": "https://localhost:8080/"
        },
        "id": "RNQ8seCzCWdj",
        "outputId": "c049355e-983a-4756-dee2-91a5f9edea86"
      },
      "outputs": [
        {
          "name": "stdout",
          "output_type": "stream",
          "text": [
            "1\n",
            "3\n",
            "5\n",
            "7\n",
            "9\n",
            "11\n",
            "13\n",
            "15\n",
            "17\n",
            "19\n"
          ]
        }
      ],
      "source": [
        "for i in range(1,20,2):\n",
        "    print(i)\n",
        "    "
      ]
    },
    {
      "cell_type": "code",
      "execution_count": null,
      "metadata": {
        "colab": {
          "base_uri": "https://localhost:8080/"
        },
        "id": "DSPC1D-ICakV",
        "outputId": "7e8d5fe0-7c61-47c2-ede5-42fb7d80031f"
      },
      "outputs": [
        {
          "name": "stdout",
          "output_type": "stream",
          "text": [
            "20\n",
            "19\n",
            "18\n",
            "17\n",
            "16\n",
            "15\n",
            "14\n",
            "13\n",
            "12\n",
            "11\n",
            "10\n",
            "9\n",
            "8\n",
            "7\n",
            "6\n",
            "5\n",
            "4\n",
            "3\n"
          ]
        }
      ],
      "source": [
        "for i in range(20,2,-1):\n",
        "    print(i)\n",
        "    "
      ]
    },
    {
      "cell_type": "code",
      "execution_count": null,
      "metadata": {
        "colab": {
          "base_uri": "https://localhost:8080/"
        },
        "id": "6LokUf4ACh-g",
        "outputId": "14818d1e-f331-448d-f577-2f23d35aa22a"
      },
      "outputs": [
        {
          "name": "stdout",
          "output_type": "stream",
          "text": [
            "1\n",
            "2\n",
            "3\n",
            "4\n",
            "5\n",
            "6\n",
            "7\n",
            "8\n",
            "9\n",
            "10\n"
          ]
        }
      ],
      "source": [
        "#Wap to print 10 natural no. using loop.\n",
        "\n",
        "for a in range(1,11):\n",
        "    print(a)\n",
        "    "
      ]
    },
    {
      "cell_type": "code",
      "execution_count": null,
      "metadata": {
        "id": "6GXvtySqCmHw"
      },
      "outputs": [],
      "source": [
        "# WAP to print number from -10 to 10 using loop.\n",
        "for i in range(-10,11):\n",
        "    print(i)\n",
        "    "
      ]
    },
    {
      "cell_type": "code",
      "execution_count": null,
      "metadata": {
        "id": "QgtpAZvxCpUL"
      },
      "outputs": [],
      "source": [
        "#While loop\n",
        "#1. initialization-----> from where to start\n",
        "# 2. condition\n",
        "# 3. increment/decrement.\n",
        "\n",
        "\n",
        "# wap to print 1-10.\n",
        "\n",
        "x=1\n",
        "while x<10:\n",
        "    print(x)\n",
        "    x=x+1\n",
        "#     x+=1\n",
        "#     x++/x--\n"
      ]
    },
    {
      "cell_type": "code",
      "execution_count": null,
      "metadata": {
        "colab": {
          "base_uri": "https://localhost:8080/"
        },
        "id": "7j2vAW9ACwTA",
        "outputId": "2209af5d-d1cb-49c7-f468-5bed91445b30"
      },
      "outputs": [
        {
          "name": "stdout",
          "output_type": "stream",
          "text": [
            "Odd number---> 1\n",
            "Even number---> 2\n",
            "Odd number---> 3\n",
            "Even number---> 4\n",
            "Odd number---> 5\n",
            "Even number---> 6\n",
            "Odd number---> 7\n",
            "Even number---> 8\n",
            "Odd number---> 9\n",
            "Even number---> 10\n"
          ]
        }
      ],
      "source": [
        "# wap to find odd & even number from 1-20 using while loop.\n",
        "\n",
        "x = 1\n",
        "while x <= 10:\n",
        "    if x % 2 == 0:\n",
        "        print(\"Even number--->\",x)\n",
        "    else:\n",
        "        print(\"Odd number--->\",x)\n",
        "        \n",
        "    x+=1\n",
        "   \n",
        "   "
      ]
    },
    {
      "cell_type": "code",
      "execution_count": null,
      "metadata": {
        "colab": {
          "base_uri": "https://localhost:8080/"
        },
        "id": "FyWWgeA0Cz39",
        "outputId": "54376453-6369-42d9-8864-243dcd7ddfbb"
      },
      "outputs": [
        {
          "name": "stdout",
          "output_type": "stream",
          "text": [
            "Even number\n"
          ]
        }
      ],
      "source": [
        "x=10\n",
        "if x % 2 == 0:\n",
        "    print(\"Even number\")\n",
        "else:\n",
        "    print(\"Odd number\")\n",
        "    "
      ]
    },
    {
      "cell_type": "code",
      "execution_count": null,
      "metadata": {
        "colab": {
          "base_uri": "https://localhost:8080/"
        },
        "id": "8HGXdRl9C4pL",
        "outputId": "1d8fc311-cb99-46be-b00a-6b341942d717"
      },
      "outputs": [
        {
          "name": "stdout",
          "output_type": "stream",
          "text": [
            "Odd number---> 1\n",
            "Even number---> 2\n",
            "Odd number---> 3\n",
            "Even number---> 4\n",
            "Odd number---> 5\n",
            "Even number---> 6\n",
            "Odd number---> 7\n",
            "Even number---> 8\n",
            "Odd number---> 9\n",
            "Even number---> 10\n"
          ]
        }
      ],
      "source": [
        "x = 1\n",
        "while x <= 10:\n",
        "    if x % 2 != 0:\n",
        "        print(\"Odd number--->\",x)\n",
        "    else:\n",
        "        print(\"Even number--->\",x)\n",
        "        \n",
        "    x+=1\n",
        "    "
      ]
    },
    {
      "cell_type": "code",
      "execution_count": null,
      "metadata": {
        "colab": {
          "base_uri": "https://localhost:8080/"
        },
        "id": "xGsjtK2eC8Vi",
        "outputId": "04d82d3d-4de7-480d-d190-672714eea65b"
      },
      "outputs": [
        {
          "data": {
            "text/plain": [
              "1"
            ]
          },
          "execution_count": 5,
          "metadata": {},
          "output_type": "execute_result"
        }
      ],
      "source": [
        "# wap to count total number in a digit ?\n",
        "#wap to reverse a number?\n",
        "# Wap to find a number is prime number or not?\n",
        "#wap to find a number is palindrome or not??\n",
        "\n",
        "\n",
        "\n",
        "a=10\n",
        "b=3\n",
        "c = a%b\n",
        "c\n"
      ]
    },
    {
      "cell_type": "code",
      "execution_count": null,
      "metadata": {
        "colab": {
          "base_uri": "https://localhost:8080/"
        },
        "id": "gQa8yK9nDPF7",
        "outputId": "f2b30dd5-4eaf-473f-a355-7ae2fe5c0443"
      },
      "outputs": [
        {
          "name": "stdout",
          "output_type": "stream",
          "text": [
            "9\n",
            "98\n",
            "985\n",
            "9854\n"
          ]
        }
      ],
      "source": [
        "a = 4589\n",
        "reverse_num = 0\n",
        "\n",
        "while a > 0:\n",
        "    digit = a % 10\n",
        "    reverse_num = reverse_num * 10 +digit\n",
        "    a = a//10\n",
        "    \n",
        "    print(reverse_num)\n",
        "    "
      ]
    },
    {
      "cell_type": "code",
      "execution_count": null,
      "metadata": {
        "id": "r_ZlvOrXDQz7"
      },
      "outputs": [],
      "source": [
        "#wap to solve prime number.\n",
        "\n",
        "#wap to find number which is not only divisible by both 6 & 2 but also by 5.\n",
        "\n",
        "\n",
        "a = 30\n",
        "if a%5 == 0 and a% 2 == 0 and a % 6 ==0:\n",
        "    print(\"Divisible\")\n",
        "    \n",
        "else:\n",
        "    print('Not div!!')\n",
        "    "
      ]
    },
    {
      "cell_type": "code",
      "execution_count": null,
      "metadata": {
        "colab": {
          "base_uri": "https://localhost:8080/"
        },
        "id": "b7cz2p-aDVvB",
        "outputId": "eaa8c0f6-7942-43e9-fd37-1f01a7b5075e"
      },
      "outputs": [
        {
          "name": "stdout",
          "output_type": "stream",
          "text": [
            "not prime\n"
          ]
        }
      ],
      "source": [
        "x = 57\n",
        "n = 0 \n",
        "for i in range(1,x+1):\n",
        "    if x % i == 0 :\n",
        "        n = n+i\n",
        "if n == x+1:\n",
        "    print(\"prime number\")\n",
        "else:\n",
        "    print(\"not prime\")\n",
        "    "
      ]
    },
    {
      "cell_type": "code",
      "execution_count": null,
      "metadata": {
        "colab": {
          "base_uri": "https://localhost:8080/"
        },
        "id": "tVy2MiFvDZxJ",
        "outputId": "d8142cb9-1722-4fdc-c038-cdce6362ed6d"
      },
      "outputs": [
        {
          "name": "stdout",
          "output_type": "stream",
          "text": [
            "Palindrome\n"
          ]
        }
      ],
      "source": [
        "#wap to find a string is palindrome or not??\n",
        "a = 'nitin'\n",
        "b = ''\n",
        "for i in a:\n",
        "    b = i+b\n",
        "if a==b:\n",
        "    print(\"Palindrome\")\n",
        "else:\n",
        "    print(\"Palindrome ni hai bhai!!\")\n",
        "    "
      ]
    },
    {
      "cell_type": "code",
      "execution_count": null,
      "metadata": {
        "colab": {
          "base_uri": "https://localhost:8080/"
        },
        "id": "v0LAONrSDdc0",
        "outputId": "763c17bd-75aa-403e-c1d9-42ea4b8ae02a"
      },
      "outputs": [
        {
          "name": "stdout",
          "output_type": "stream",
          "text": [
            "8\n"
          ]
        }
      ],
      "source": [
        "n = 71923487\n",
        "count = 0\n",
        "while n>0:\n",
        "    count = count + 1\n",
        "    n=n//10\n",
        "   \n",
        "    \n",
        "print(count)\n"
      ]
    },
    {
      "cell_type": "code",
      "execution_count": null,
      "metadata": {
        "id": "jie8mxWFENeP"
      },
      "outputs": [],
      "source": [
        "n = 344555\n",
        "count = 0\n",
        "while n>0:\n",
        "    count = count + 1\n",
        "    n=n//10 \n",
        "\n",
        "print(count)\n",
        "\n"
      ]
    },
    {
      "cell_type": "code",
      "execution_count": null,
      "metadata": {
        "id": "TwyA7eULhKpY"
      },
      "outputs": [],
      "source": [
        "# list----->\n",
        "# tuple\n",
        "# dict\n",
        "# set\n",
        "\n",
        "# list----> \n",
        "\n",
        "\n",
        "# creating a list\n",
        "\n",
        "a = [90,34,56,78,12,32,67]\n",
        "print(a)\n"
      ]
    },
    {
      "cell_type": "code",
      "execution_count": null,
      "metadata": {
        "id": "xO6LGEArhPkD"
      },
      "outputs": [],
      "source": [
        "type(a)\n"
      ]
    },
    {
      "cell_type": "code",
      "execution_count": null,
      "metadata": {
        "id": "4rwwqe73hU58"
      },
      "outputs": [],
      "source": [
        "x = ['hello','bhai',-1,2,3,-45.5,78.2]\n",
        "x\n"
      ]
    },
    {
      "cell_type": "code",
      "execution_count": null,
      "metadata": {
        "id": "XbV-KYBKhgw3"
      },
      "outputs": [],
      "source": [
        "type(x)\n"
      ]
    },
    {
      "cell_type": "code",
      "execution_count": null,
      "metadata": {
        "id": "ghH2YsythmDN"
      },
      "outputs": [],
      "source": [
        "#slicing & indexing \n",
        "x\n"
      ]
    },
    {
      "cell_type": "code",
      "execution_count": null,
      "metadata": {
        "id": "tHjoMU6Shsps"
      },
      "outputs": [],
      "source": [
        "x[3]\n"
      ]
    },
    {
      "cell_type": "code",
      "execution_count": null,
      "metadata": {
        "id": "d3miGnyXhyL-"
      },
      "outputs": [],
      "source": [
        "x"
      ]
    },
    {
      "cell_type": "code",
      "execution_count": null,
      "metadata": {
        "id": "a5kWqLNai9OG"
      },
      "outputs": [],
      "source": [
        "x[0]\n"
      ]
    },
    {
      "cell_type": "code",
      "execution_count": null,
      "metadata": {
        "id": "Y1eEFR82jGCo"
      },
      "outputs": [],
      "source": [
        "x[3:6]\n"
      ]
    },
    {
      "cell_type": "code",
      "execution_count": null,
      "metadata": {
        "id": "0j96tonWjPw7"
      },
      "outputs": [],
      "source": [
        "x\n"
      ]
    },
    {
      "cell_type": "code",
      "execution_count": null,
      "metadata": {
        "id": "RMFSXZ4WjS8L"
      },
      "outputs": [],
      "source": [
        "x[0:7]\n"
      ]
    },
    {
      "cell_type": "code",
      "execution_count": null,
      "metadata": {
        "id": "oI5s5nh5jalx"
      },
      "outputs": [],
      "source": [
        "x[0:]\n"
      ]
    },
    {
      "cell_type": "code",
      "execution_count": null,
      "metadata": {
        "id": "xAVuqSLRjnUL"
      },
      "outputs": [],
      "source": [
        "x[:]\n"
      ]
    },
    {
      "cell_type": "code",
      "execution_count": null,
      "metadata": {
        "id": "HSFi8ShYjus4"
      },
      "outputs": [],
      "source": [
        "x[7:1:-1]"
      ]
    },
    {
      "cell_type": "code",
      "execution_count": null,
      "metadata": {
        "id": "BAFCUXd6j4hO"
      },
      "outputs": [],
      "source": [
        "x[7:0:-1]"
      ]
    },
    {
      "cell_type": "code",
      "execution_count": null,
      "metadata": {
        "id": "B_WcK_fcj7N-"
      },
      "outputs": [],
      "source": [
        "x[7:-1:-1]"
      ]
    },
    {
      "cell_type": "code",
      "execution_count": null,
      "metadata": {
        "id": "WSWDAXsEkE2f"
      },
      "outputs": [],
      "source": [
        "x[::-1]"
      ]
    },
    {
      "cell_type": "code",
      "execution_count": null,
      "metadata": {
        "id": "gmYGl5_7kM3d"
      },
      "outputs": [],
      "source": [
        "x[6]\n"
      ]
    },
    {
      "cell_type": "code",
      "execution_count": null,
      "metadata": {
        "id": "fb5JFHxRkRk5"
      },
      "outputs": [],
      "source": [
        "x[-1]"
      ]
    },
    {
      "cell_type": "code",
      "execution_count": null,
      "metadata": {
        "id": "tx5ScsWakXLn"
      },
      "outputs": [],
      "source": [
        "x[-0]"
      ]
    },
    {
      "cell_type": "code",
      "execution_count": null,
      "metadata": {
        "id": "X0_p-smikdii"
      },
      "outputs": [],
      "source": [
        "x[0]"
      ]
    },
    {
      "cell_type": "code",
      "execution_count": null,
      "metadata": {
        "id": "m699gg4XlWwf"
      },
      "outputs": [],
      "source": [
        "x\n"
      ]
    },
    {
      "cell_type": "code",
      "execution_count": null,
      "metadata": {
        "id": "Taxiqd0ZlahO"
      },
      "outputs": [],
      "source": [
        "x[-7:-1]"
      ]
    },
    {
      "cell_type": "code",
      "execution_count": null,
      "metadata": {
        "id": "dnjZ_Rvmln7j"
      },
      "outputs": [],
      "source": [
        "x[6:0:-1]"
      ]
    },
    {
      "cell_type": "code",
      "execution_count": null,
      "metadata": {
        "id": "6qK91PH5ltky"
      },
      "outputs": [],
      "source": [
        "x[:]"
      ]
    },
    {
      "cell_type": "code",
      "execution_count": null,
      "metadata": {
        "id": "AenZyJDNl-Zi"
      },
      "outputs": [],
      "source": [
        "x[-1:-8:-1]"
      ]
    },
    {
      "cell_type": "code",
      "execution_count": null,
      "metadata": {
        "id": "IAIbZXLumGif"
      },
      "outputs": [],
      "source": [
        "#mutable or immutable\n",
        "x"
      ]
    },
    {
      "cell_type": "code",
      "execution_count": null,
      "metadata": {
        "id": "7p5s2FVRmODN"
      },
      "outputs": [],
      "source": [
        "x[-2]='welcome nikhil'\n"
      ]
    },
    {
      "cell_type": "code",
      "execution_count": null,
      "metadata": {
        "id": "hXGHlq3hmUPI"
      },
      "outputs": [],
      "source": [
        "x"
      ]
    },
    {
      "cell_type": "code",
      "execution_count": null,
      "metadata": {
        "id": "xJMlY8Y3mdtw"
      },
      "outputs": [],
      "source": [
        "x = ['delhi','mumbai','chennai','osolo','new york','gurgaon']"
      ]
    },
    {
      "cell_type": "code",
      "execution_count": null,
      "metadata": {
        "id": "199zYkL0mjL3"
      },
      "outputs": [],
      "source": [
        "x"
      ]
    },
    {
      "cell_type": "code",
      "execution_count": null,
      "metadata": {
        "id": "pwgHgHXImram"
      },
      "outputs": [],
      "source": [
        "type(x)"
      ]
    },
    {
      "cell_type": "code",
      "execution_count": null,
      "metadata": {
        "id": "CHu6wuyxmuWn"
      },
      "outputs": [],
      "source": [
        "x[2]='Bangalore'"
      ]
    },
    {
      "cell_type": "code",
      "execution_count": null,
      "metadata": {
        "id": "aMLzTAewm0js"
      },
      "outputs": [],
      "source": [
        "x"
      ]
    },
    {
      "cell_type": "code",
      "execution_count": null,
      "metadata": {
        "colab": {
          "base_uri": "https://localhost:8080/"
        },
        "id": "T1bW9QUom3S2",
        "outputId": "9ad07c39-6f70-4b30-fba8-0a41a8520a87"
      },
      "outputs": [
        {
          "data": {
            "text/plain": [
              "100"
            ]
          },
          "execution_count": 8,
          "metadata": {},
          "output_type": "execute_result"
        }
      ],
      "source": [
        "#wap to add the number present in the list.\n",
        "a = [10,20,30,40]\n",
        "sum1 = sum(a)\n",
        "sum1"
      ]
    },
    {
      "cell_type": "code",
      "execution_count": null,
      "metadata": {
        "id": "8VJDzOy_m-UL"
      },
      "outputs": [],
      "source": [
        "a = [10,20,30,40]\n",
        "total = 0\n",
        "for i in a:\n",
        "#     print(i)\n",
        "    total = total+i\n",
        "print(total)"
      ]
    },
    {
      "cell_type": "code",
      "execution_count": null,
      "metadata": {
        "id": "iSKWiSYAnCFW"
      },
      "outputs": [],
      "source": [
        "a = [1,2,3]\n",
        "b = [4,5,6]\n",
        "c = a+b\n",
        "print(c)"
      ]
    },
    {
      "cell_type": "code",
      "execution_count": null,
      "metadata": {
        "id": "AkVvMr6SnG4s"
      },
      "outputs": [],
      "source": [
        "# function/method in list\n",
        "# 1.remove\n",
        "# 2.insert\n",
        "# 3.pop\n",
        "x"
      ]
    },
    {
      "cell_type": "code",
      "execution_count": null,
      "metadata": {
        "id": "EWpYHUIunKXJ"
      },
      "outputs": [],
      "source": [
        "x.insert(0,100)"
      ]
    },
    {
      "cell_type": "code",
      "execution_count": null,
      "metadata": {
        "id": "b_UIxnggnOsQ"
      },
      "outputs": [],
      "source": [
        "x"
      ]
    },
    {
      "cell_type": "code",
      "execution_count": null,
      "metadata": {
        "id": "WO25x5t5nUVP"
      },
      "outputs": [],
      "source": [
        "# 5 ----> boolean??\n",
        "x.insert(5,True)"
      ]
    },
    {
      "cell_type": "code",
      "execution_count": null,
      "metadata": {
        "id": "h-YuB4NKnXf_"
      },
      "outputs": [],
      "source": [
        "x"
      ]
    },
    {
      "cell_type": "code",
      "execution_count": null,
      "metadata": {
        "id": "M_aRlejsncu5"
      },
      "outputs": [],
      "source": [
        "x.pop()"
      ]
    },
    {
      "cell_type": "code",
      "execution_count": null,
      "metadata": {
        "id": "kz9sInaKngU5"
      },
      "outputs": [],
      "source": [
        "x.pop()"
      ]
    },
    {
      "cell_type": "code",
      "execution_count": null,
      "metadata": {
        "id": "uYUx2HHNnkRS"
      },
      "outputs": [],
      "source": [
        "x.pop(1)"
      ]
    },
    {
      "cell_type": "code",
      "execution_count": null,
      "metadata": {
        "id": "w0N_gPyCnore"
      },
      "outputs": [],
      "source": [
        "x"
      ]
    },
    {
      "cell_type": "code",
      "execution_count": null,
      "metadata": {
        "id": "WCi-L_ZIoH4d"
      },
      "outputs": [],
      "source": [
        "x"
      ]
    },
    {
      "cell_type": "code",
      "execution_count": null,
      "metadata": {
        "id": "VexErKgIoL4-"
      },
      "outputs": [],
      "source": [
        "x[1]"
      ]
    },
    {
      "cell_type": "code",
      "execution_count": null,
      "metadata": {
        "id": "twnIFEMMoSJM"
      },
      "outputs": [],
      "source": [
        "x[3]"
      ]
    },
    {
      "cell_type": "code",
      "execution_count": null,
      "metadata": {
        "id": "BQLRoPSeoWjV"
      },
      "outputs": [],
      "source": [
        "x"
      ]
    },
    {
      "cell_type": "code",
      "execution_count": null,
      "metadata": {
        "id": "gj4eu0URofct"
      },
      "outputs": [],
      "source": [
        "for i in x:\n",
        "    print(i)"
      ]
    },
    {
      "cell_type": "code",
      "execution_count": null,
      "metadata": {
        "id": "G6r8W8hDoqtj"
      },
      "outputs": [],
      "source": [
        "x"
      ]
    },
    {
      "cell_type": "code",
      "execution_count": null,
      "metadata": {
        "id": "ZcuJC98EovVb"
      },
      "outputs": [],
      "source": [
        "x.remove(True)"
      ]
    },
    {
      "cell_type": "code",
      "execution_count": null,
      "metadata": {
        "id": "2chpKQ2Po1bw"
      },
      "outputs": [],
      "source": [
        "x"
      ]
    },
    {
      "cell_type": "code",
      "execution_count": null,
      "metadata": {
        "id": "Qp6Ob8b8pLCI"
      },
      "outputs": [],
      "source": [
        "# sort\n",
        "# reverse\n",
        "# append\n",
        "\n",
        "a = [42,9,87,44,99,-2,43,43,78,54]\n",
        "a.sort()\n",
        "a"
      ]
    },
    {
      "cell_type": "code",
      "execution_count": null,
      "metadata": {
        "id": "HSuZG8qRy4Ae"
      },
      "outputs": [],
      "source": [
        "a"
      ]
    },
    {
      "cell_type": "code",
      "execution_count": null,
      "metadata": {
        "id": "nzfZyxdwy7iI"
      },
      "outputs": [],
      "source": [
        "a.sort(reverse = True)\n",
        "a"
      ]
    },
    {
      "cell_type": "code",
      "execution_count": null,
      "metadata": {
        "id": "HrQzIriYzZ2p"
      },
      "outputs": [],
      "source": [
        "a = [42,9,87,44,99,-2,43,43,78,54]\n",
        "a.sort()\n",
        "a"
      ]
    },
    {
      "cell_type": "code",
      "execution_count": null,
      "metadata": {
        "id": "Kvvh14sjzqVE"
      },
      "outputs": [],
      "source": [
        "a = [42,9,87,44,99,-2,43,43,78,54]\n",
        "a.reverse()\n",
        "a"
      ]
    },
    {
      "cell_type": "code",
      "execution_count": null,
      "metadata": {
        "id": "n6eQPhn4z8M4"
      },
      "outputs": [],
      "source": [
        "# append\n",
        "a = [42,9,87,44,99,-2,43,43,78,54]\n",
        "a.append(0)\n",
        "a"
      ]
    },
    {
      "cell_type": "code",
      "execution_count": null,
      "metadata": {
        "id": "0UfDDeg00H9B"
      },
      "outputs": [],
      "source": [
        "a = [42,9,87,44,99,-2,43,43,78,54]\n",
        "b=[]\n",
        "for i in a:\n",
        "    b.append(8)\n",
        "#     b = a+i\n",
        "print(b)"
      ]
    },
    {
      "cell_type": "code",
      "execution_count": null,
      "metadata": {
        "id": "zly6Gkpp0MdU"
      },
      "outputs": [],
      "source": [
        "#Tuple\n",
        "#it excatly work like list.\n",
        "\n",
        "a = (1,2,3,4,5,6,7,8,9,0)\n",
        "print(a)\n",
        "(1, 2, 3, 4, 5, 6, 7, 8, 9, 0)\n",
        "type(a)"
      ]
    },
    {
      "cell_type": "code",
      "execution_count": null,
      "metadata": {
        "id": "L8T3YKIQ0e8k"
      },
      "outputs": [],
      "source": [
        "a = (1,2,3,4,5,6,7,8,9,0,34.5,56.7,\"I\",\"am\",\"python\")\n",
        "a"
      ]
    },
    {
      "cell_type": "code",
      "execution_count": null,
      "metadata": {
        "id": "B_9hz_Sh0meu"
      },
      "outputs": [],
      "source": [
        ""
      ]
    },
    {
      "cell_type": "code",
      "execution_count": null,
      "metadata": {
        "id": "U_pWOibo0pjL"
      },
      "outputs": [],
      "source": [
        "type(a)"
      ]
    },
    {
      "cell_type": "code",
      "execution_count": null,
      "metadata": {
        "id": "c5dfzppg0sqq"
      },
      "outputs": [],
      "source": [
        "# slicing with indexing\n",
        "a"
      ]
    },
    {
      "cell_type": "code",
      "execution_count": null,
      "metadata": {
        "id": "wiUOFroq0y3Q"
      },
      "outputs": [],
      "source": [
        "a[0]"
      ]
    },
    {
      "cell_type": "code",
      "execution_count": null,
      "metadata": {
        "id": "66jiZnWi05Ch"
      },
      "outputs": [],
      "source": [
        "# wap to find a data from 9-\"I\" with the help of negative slicing.\n",
        "a[-7:-2]"
      ]
    },
    {
      "cell_type": "code",
      "execution_count": null,
      "metadata": {
        "id": "t1UO9RgE1AB_"
      },
      "outputs": [],
      "source": [
        "#tuple method----> count & index\n",
        "# count---->\n",
        "a = (1,2,3,0,4,5,6,7,8,9,0,0,34.5,56.7,\"I\",\"am\",\"pythoIn\",\"I\",'False')\n",
        "a.count(\"I\")"
      ]
    },
    {
      "cell_type": "code",
      "execution_count": null,
      "metadata": {
        "id": "PXwTzMTU1J9U"
      },
      "outputs": [],
      "source": [
        "# True ==> 1\n",
        "# false ==> 0\n",
        "\n",
        "\n",
        "# index\n",
        "a.index(56.7)"
      ]
    },
    {
      "cell_type": "code",
      "execution_count": null,
      "metadata": {
        "id": "nGHl37De1QsD",
        "colab": {
          "base_uri": "https://localhost:8080/"
        },
        "outputId": "7091bef0-4a99-4804-91f0-cf07c567d5c6"
      },
      "outputs": [
        {
          "output_type": "execute_result",
          "data": {
            "text/plain": [
              "(1,\n",
              " 2,\n",
              " 3,\n",
              " 0,\n",
              " 4,\n",
              " 5,\n",
              " 6,\n",
              " 7,\n",
              " [8, 9, 0, 0, 34.5, 56.7],\n",
              " 'I',\n",
              " 'am',\n",
              " 'pythoIn',\n",
              " 'I',\n",
              " 'False')"
            ]
          },
          "metadata": {},
          "execution_count": 2
        }
      ],
      "source": [
        "a = (1,2,3,0,4,5,6,7,[8,9,0,0,34.5,56.7],\"I\",\"am\",\"pythoIn\",\"I\",'False')\n",
        "a"
      ]
    },
    {
      "cell_type": "code",
      "execution_count": null,
      "metadata": {
        "id": "iNt1h9d71T5k",
        "colab": {
          "base_uri": "https://localhost:8080/"
        },
        "outputId": "3c3360d0-12d8-46e4-d1e6-c2d01f1c174d"
      },
      "outputs": [
        {
          "output_type": "execute_result",
          "data": {
            "text/plain": [
              "(1,\n",
              " 2,\n",
              " 3,\n",
              " 0,\n",
              " 4,\n",
              " 5,\n",
              " 6,\n",
              " 7,\n",
              " [8, 900, 0, 0, 34.5, 56.7],\n",
              " 'I',\n",
              " 'am',\n",
              " 'pythoIn',\n",
              " 'I',\n",
              " 'False')"
            ]
          },
          "metadata": {},
          "execution_count": 3
        }
      ],
      "source": [
        "a[8][1]=900\n",
        "a"
      ]
    },
    {
      "cell_type": "code",
      "execution_count": null,
      "metadata": {
        "id": "JiGGQQjg1b5p"
      },
      "outputs": [],
      "source": [
        "# Wap to store 7 fruits items in a list entered by the user.\n",
        "\n",
        "# Wap to display marks of 5 students & display them in sorted way.\n",
        "\n",
        "# check if tuple is mutable or not?\n",
        "\n",
        "#wap to add list of 4 numbers?\n",
        "\n",
        "#wap to count 7 in the tuple\n",
        "# t = (7,77,777,-77,87,97,-7)"
      ]
    },
    {
      "cell_type": "code",
      "execution_count": null,
      "metadata": {
        "colab": {
          "base_uri": "https://localhost:8080/"
        },
        "id": "Rf_vuCaX1dsd",
        "outputId": "c5d5e098-2644-44b2-f1d8-29b189a353f5"
      },
      "outputs": [
        {
          "name": "stdout",
          "output_type": "stream",
          "text": [
            "enter the friut55\n",
            "enter the friut7\n",
            "enter the friut\n",
            "enter the friut8\n",
            "['55', '7', '', '8']\n"
          ]
        }
      ],
      "source": [
        "#wap to store 3 fruit items in a list entered by the user.\n",
        "b = []\n",
        "for i in range(4):\n",
        "    x = input(\"enter the friut\")\n",
        "    b.append(x)\n",
        "    \n",
        "print(b)\n"
      ]
    },
    {
      "cell_type": "code",
      "execution_count": null,
      "metadata": {
        "id": "IgDuCoc3gWm8"
      },
      "outputs": [],
      "source": [
        "#wap to display marks of 5 students & display them in sorted way.\n",
        "a = []\n",
        "for i in range(5):\n",
        "    x = int(input(\"Enter your marks\"))\n",
        "    a.append(x)\n",
        "    \n",
        "print(\"Marks in random order\",a)\n",
        "a.sort()\n",
        "print(\"Marks in sorted form\",a)"
      ]
    },
    {
      "cell_type": "code",
      "execution_count": null,
      "metadata": {
        "colab": {
          "base_uri": "https://localhost:8080/"
        },
        "id": "Ey6u9DHTgv2Y",
        "outputId": "058a4cc4-0fa5-4968-ad7b-0cd54b6e0d8b"
      },
      "outputs": [
        {
          "data": {
            "text/plain": [
              "(23, 'hello mark', 78, 45.3)"
            ]
          },
          "execution_count": 2,
          "metadata": {},
          "output_type": "execute_result"
        }
      ],
      "source": [
        "#check if tuple is mutable or not?\n",
        "t = (23,'hello mark',78,45.3)\n",
        "t\n"
      ]
    },
    {
      "cell_type": "code",
      "execution_count": null,
      "metadata": {
        "colab": {
          "base_uri": "https://localhost:8080/"
        },
        "id": "Nwo7UOD3iI-V",
        "outputId": "c4b994f3-6dae-4fa5-ccd3-764df70725d3"
      },
      "outputs": [
        {
          "data": {
            "text/plain": [
              "tuple"
            ]
          },
          "execution_count": 3,
          "metadata": {},
          "output_type": "execute_result"
        }
      ],
      "source": [
        "type(t)\n"
      ]
    },
    {
      "cell_type": "code",
      "execution_count": null,
      "metadata": {
        "id": "vVFYbZH8iPui"
      },
      "outputs": [],
      "source": [
        "t[0]=100\n"
      ]
    },
    {
      "cell_type": "code",
      "execution_count": null,
      "metadata": {
        "colab": {
          "base_uri": "https://localhost:8080/"
        },
        "id": "7BpZW-6siTNT",
        "outputId": "ccde28f8-5718-4ece-9733-452110dc3f7b"
      },
      "outputs": [
        {
          "name": "stdout",
          "output_type": "stream",
          "text": [
            "10\n"
          ]
        }
      ],
      "source": [
        "#wap to add list of 4 numbers?\n",
        "l = [1,2,3,4]\n",
        "count = 0\n",
        "for i in l:\n",
        "    count = count+i\n",
        "print(count)"
      ]
    },
    {
      "cell_type": "code",
      "execution_count": null,
      "metadata": {
        "colab": {
          "base_uri": "https://localhost:8080/"
        },
        "id": "KeILXdpSiYtz",
        "outputId": "767609ed-254c-41e4-e94d-0985addc733a"
      },
      "outputs": [
        {
          "name": "stdout",
          "output_type": "stream",
          "text": [
            "enter your marks7\n",
            "enter your marks7\n",
            "enter your marks6\n",
            "enter your marks5\n",
            "enter your marks7\n",
            "[7, 7, 6, 5, 7]\n",
            "[5, 6, 7, 7, 7]\n"
          ]
        }
      ],
      "source": [
        "a=[]\n",
        "for i in range(5):\n",
        "    x=int(input(\"enter your marks\"))\n",
        "    a.append(x)\n",
        "print(a)\n",
        "a.sort()\n",
        "print(a)"
      ]
    },
    {
      "cell_type": "code",
      "execution_count": null,
      "metadata": {
        "colab": {
          "base_uri": "https://localhost:8080/"
        },
        "id": "GAPPGkpbilSw",
        "outputId": "917892f7-7af8-4a67-cf5d-c02e47b82098"
      },
      "outputs": [
        {
          "data": {
            "text/plain": [
              "2"
            ]
          },
          "execution_count": 6,
          "metadata": {},
          "output_type": "execute_result"
        }
      ],
      "source": [
        "# wap to count 7 in the tuple \n",
        "t=(7,77,777,-77,87,97,-7,-7)\n",
        "t.count(-7)"
      ]
    },
    {
      "cell_type": "code",
      "execution_count": null,
      "metadata": {
        "colab": {
          "base_uri": "https://localhost:8080/"
        },
        "id": "xQAstotkjD49",
        "outputId": "b37a8307-5382-4c66-d018-373d9b738743"
      },
      "outputs": [
        {
          "name": "stdout",
          "output_type": "stream",
          "text": [
            "{'name': 'Banti bhai'}\n"
          ]
        }
      ],
      "source": [
        "#dict\n",
        "x = {\n",
        "    'name':'Banti bhai'\n",
        "}\n",
        "\n",
        "print(x)"
      ]
    },
    {
      "cell_type": "code",
      "execution_count": null,
      "metadata": {
        "colab": {
          "base_uri": "https://localhost:8080/"
        },
        "id": "yO4n9BKqkIjZ",
        "outputId": "fd65539a-1c95-4d8d-95b2-487b738c04b3"
      },
      "outputs": [
        {
          "data": {
            "text/plain": [
              "dict"
            ]
          },
          "execution_count": 11,
          "metadata": {},
          "output_type": "execute_result"
        }
      ],
      "source": [
        "type(x)"
      ]
    },
    {
      "cell_type": "code",
      "execution_count": null,
      "metadata": {
        "colab": {
          "base_uri": "https://localhost:8080/"
        },
        "id": "f1N35MVdkRjl",
        "outputId": "b7b0a9e9-312d-4d29-ad00-a31ef6bce217"
      },
      "outputs": [
        {
          "name": "stdout",
          "output_type": "stream",
          "text": [
            "{'name': 'Banti bhai', 'age': 45, 'marks': 90}\n"
          ]
        }
      ],
      "source": [
        "my_dict = {\n",
        "    'name':'Banti bhai',\n",
        "    'age':45,\n",
        "    'marks':90\n",
        "}\n",
        "print(my_dict)"
      ]
    },
    {
      "cell_type": "code",
      "execution_count": null,
      "metadata": {
        "colab": {
          "base_uri": "https://localhost:8080/"
        },
        "id": "s58E7JmBkXoy",
        "outputId": "b985b7ee-1351-4cc6-f041-b7f73d3651c0"
      },
      "outputs": [
        {
          "name": "stdout",
          "output_type": "stream",
          "text": [
            "{'name': ['Banti bhai', 'A', 'B'], 'age': (45, 89, 67), 'salary': [90, 89, 45]}\n"
          ]
        }
      ],
      "source": [
        "#wap to make a dict of emp.\n",
        "emp = {\n",
        "    'name':['Banti bhai','A',\"B\"],\n",
        "    'age':(45,89,67),\n",
        "    'salary':[90,89,45]\n",
        "}\n",
        "print(emp)"
      ]
    },
    {
      "cell_type": "code",
      "execution_count": null,
      "metadata": {
        "colab": {
          "base_uri": "https://localhost:8080/"
        },
        "id": "x4iroKGgkgyg",
        "outputId": "63d96dd5-5e6e-4bc4-d1e4-fb86282f8873"
      },
      "outputs": [
        {
          "name": "stdout",
          "output_type": "stream",
          "text": [
            "{'name': ['Banti bhai', 'A', 'B', 'C'], 'age': 45, 'marks': 90}\n"
          ]
        }
      ],
      "source": [
        "my_dict = {\n",
        "    'name':['Banti bhai','A','B','C'],\n",
        "    'age':45,\n",
        "    'marks':90\n",
        "}\n",
        "print(my_dict)"
      ]
    },
    {
      "cell_type": "code",
      "execution_count": null,
      "metadata": {
        "colab": {
          "base_uri": "https://localhost:8080/"
        },
        "id": "6pWZ6eRXknnd",
        "outputId": "746050fd-3c59-4928-a420-bfa7d5593c90"
      },
      "outputs": [
        {
          "name": "stdout",
          "output_type": "stream",
          "text": [
            "{'name': ['Banti bhai', 'A', 'B', 89], 'age': 45, 'marks': 90}\n"
          ]
        }
      ],
      "source": [
        "# indexing slicing---->\n",
        "# no index in dict\n",
        "# no slicing\n",
        "\n",
        "my_dict['name'][3]=89\n",
        "\n",
        "print(my_dict)"
      ]
    },
    {
      "cell_type": "code",
      "execution_count": null,
      "metadata": {
        "id": "fPtTHClsvKnz"
      },
      "outputs": [],
      "source": [
        "x = {\n",
        "    'name':['X','Y','Z'],\n",
        "    'age': (45,89,56),\n",
        "    'salary':20000,\n",
        "    'id':1\n",
        "}"
      ]
    },
    {
      "cell_type": "code",
      "execution_count": null,
      "metadata": {
        "id": "oyEdz4b0vSqB"
      },
      "outputs": [],
      "source": [
        "data_from_dict = x['name']"
      ]
    },
    {
      "cell_type": "code",
      "execution_count": null,
      "metadata": {
        "colab": {
          "base_uri": "https://localhost:8080/",
          "height": 35
        },
        "id": "AjHxCoGCvXl4",
        "outputId": "f1acf465-5953-4411-f1c4-da86f8938b8e"
      },
      "outputs": [
        {
          "data": {
            "application/vnd.google.colaboratory.intrinsic+json": {
              "type": "string"
            },
            "text/plain": [
              "'Y'"
            ]
          },
          "execution_count": 11,
          "metadata": {},
          "output_type": "execute_result"
        }
      ],
      "source": [
        "data_from_dict[1]"
      ]
    },
    {
      "cell_type": "code",
      "execution_count": null,
      "metadata": {
        "colab": {
          "base_uri": "https://localhost:8080/",
          "height": 35
        },
        "id": "7-5gfMmgvhyc",
        "outputId": "f23fe28d-7c1e-47c9-c3d4-14ad92638bb6"
      },
      "outputs": [
        {
          "data": {
            "application/vnd.google.colaboratory.intrinsic+json": {
              "type": "string"
            },
            "text/plain": [
              "'Z'"
            ]
          },
          "execution_count": 12,
          "metadata": {},
          "output_type": "execute_result"
        }
      ],
      "source": [
        "x['name'][-1]"
      ]
    },
    {
      "cell_type": "code",
      "execution_count": null,
      "metadata": {
        "colab": {
          "base_uri": "https://localhost:8080/",
          "height": 35
        },
        "id": "QNeE52ikvocp",
        "outputId": "86f5383a-6e06-4cd2-fced-cc38b704316f"
      },
      "outputs": [
        {
          "data": {
            "application/vnd.google.colaboratory.intrinsic+json": {
              "type": "string"
            },
            "text/plain": [
              "'Z'"
            ]
          },
          "execution_count": 13,
          "metadata": {},
          "output_type": "execute_result"
        }
      ],
      "source": [
        "x['name'][2]"
      ]
    },
    {
      "cell_type": "code",
      "execution_count": null,
      "metadata": {
        "colab": {
          "base_uri": "https://localhost:8080/"
        },
        "id": "mbQ1sbOFvtNK",
        "outputId": "9b2a50fa-d210-486c-f235-0aaa4eb54657"
      },
      "outputs": [
        {
          "data": {
            "text/plain": [
              "(45, 89, 56)"
            ]
          },
          "execution_count": 14,
          "metadata": {},
          "output_type": "execute_result"
        }
      ],
      "source": [
        "x['age']"
      ]
    },
    {
      "cell_type": "code",
      "execution_count": null,
      "metadata": {
        "colab": {
          "base_uri": "https://localhost:8080/"
        },
        "id": "ES80JUz4vygI",
        "outputId": "09ccfe2d-cdc9-48ec-d7ca-ab75d8d03484"
      },
      "outputs": [
        {
          "data": {
            "text/plain": [
              "89"
            ]
          },
          "execution_count": 15,
          "metadata": {},
          "output_type": "execute_result"
        }
      ],
      "source": [
        "x['age'][1]"
      ]
    },
    {
      "cell_type": "code",
      "execution_count": null,
      "metadata": {
        "colab": {
          "base_uri": "https://localhost:8080/"
        },
        "id": "FJO2NsNWv1Ki",
        "outputId": "b17600f1-a736-48be-a8a2-1d30b1092cdb"
      },
      "outputs": [
        {
          "data": {
            "text/plain": [
              "{'a': {'address': ['Noida', 'Delhi', 'Goa'], 'rank': 'senior'},\n",
              " 'age': (45, 89, 56),\n",
              " 'id': 1,\n",
              " 'name': ['X', 'Y', 'Z'],\n",
              " 'salary': 20000}"
            ]
          },
          "execution_count": 16,
          "metadata": {},
          "output_type": "execute_result"
        }
      ],
      "source": [
        "x = {\n",
        "    'name':['X','Y','Z'],\n",
        "    'age': (45,89,56),\n",
        "    'salary':20000,\n",
        "    'id':1,\n",
        "    \n",
        "     'a': {\n",
        "        'rank':'senior',\n",
        "        'address': ['Noida','Delhi','Goa']\n",
        "    }\n",
        "    \n",
        "    \n",
        "}\n",
        "x"
      ]
    },
    {
      "cell_type": "code",
      "execution_count": null,
      "metadata": {
        "colab": {
          "base_uri": "https://localhost:8080/",
          "height": 35
        },
        "id": "4_h5E0u2v9iY",
        "outputId": "3306acb7-3c49-4cc9-96da-2ca0c08a0dd2"
      },
      "outputs": [
        {
          "data": {
            "application/vnd.google.colaboratory.intrinsic+json": {
              "type": "string"
            },
            "text/plain": [
              "'Delhi'"
            ]
          },
          "execution_count": 17,
          "metadata": {},
          "output_type": "execute_result"
        }
      ],
      "source": [
        "x['a']['address'][1]"
      ]
    },
    {
      "cell_type": "code",
      "execution_count": null,
      "metadata": {
        "colab": {
          "base_uri": "https://localhost:8080/"
        },
        "id": "wIW1VsUHwAlv",
        "outputId": "dd59cacb-970d-4c66-f96a-f0f551c561b0"
      },
      "outputs": [
        {
          "data": {
            "text/plain": [
              "{0: 2,\n",
              " '1': 'hari bhai',\n",
              " 1: 'Rana',\n",
              " 'a': {'address': ['Noida', 'Delhi', 'Goa'], 'rank': 'senior'},\n",
              " 'age': (45, 89, 56),\n",
              " 'id': 1,\n",
              " 'name': ['X', 'Y', 'Z'],\n",
              " 'salary': 20000}"
            ]
          },
          "execution_count": 18,
          "metadata": {},
          "output_type": "execute_result"
        }
      ],
      "source": [
        "x = {\n",
        "    'name':['X','Y','Z'],\n",
        "    'age': (45,89,56),\n",
        "    'salary':20000,\n",
        "    'id':1,\n",
        "    0:2,\n",
        "    '1':'hari bhai',\n",
        "    1:'Rana',\n",
        "    \n",
        "    \n",
        "     'a': {\n",
        "        'rank':'senior',\n",
        "        'address': ['Noida','Delhi','Goa']\n",
        "    }\n",
        "    \n",
        "    \n",
        "}\n",
        "x"
      ]
    },
    {
      "cell_type": "code",
      "execution_count": null,
      "metadata": {
        "colab": {
          "base_uri": "https://localhost:8080/"
        },
        "id": "qE8cdgUJwMnx",
        "outputId": "abda753a-dd47-431e-a2d4-5c7f5b4dc310"
      },
      "outputs": [
        {
          "data": {
            "text/plain": [
              "2"
            ]
          },
          "execution_count": 19,
          "metadata": {},
          "output_type": "execute_result"
        }
      ],
      "source": [
        "x[0]"
      ]
    },
    {
      "cell_type": "code",
      "execution_count": null,
      "metadata": {
        "colab": {
          "base_uri": "https://localhost:8080/",
          "height": 35
        },
        "id": "slFkc82CwSe-",
        "outputId": "f6953d5d-d25b-4959-98ba-cd5b69f68194"
      },
      "outputs": [
        {
          "data": {
            "application/vnd.google.colaboratory.intrinsic+json": {
              "type": "string"
            },
            "text/plain": [
              "'hari bhai'"
            ]
          },
          "execution_count": 20,
          "metadata": {},
          "output_type": "execute_result"
        }
      ],
      "source": [
        "x['1']"
      ]
    },
    {
      "cell_type": "code",
      "execution_count": null,
      "metadata": {
        "colab": {
          "base_uri": "https://localhost:8080/",
          "height": 35
        },
        "id": "HayKZIQQwU7t",
        "outputId": "8f56198e-bd18-47ca-f9fc-a2647c6149bc"
      },
      "outputs": [
        {
          "data": {
            "application/vnd.google.colaboratory.intrinsic+json": {
              "type": "string"
            },
            "text/plain": [
              "'Rana'"
            ]
          },
          "execution_count": 21,
          "metadata": {},
          "output_type": "execute_result"
        }
      ],
      "source": [
        "x[1]"
      ]
    },
    {
      "cell_type": "code",
      "execution_count": null,
      "metadata": {
        "colab": {
          "base_uri": "https://localhost:8080/",
          "height": 35
        },
        "id": "KnWNeSHDweGx",
        "outputId": "6322ad1e-60f7-4b54-cb91-3d63026159ae"
      },
      "outputs": [
        {
          "data": {
            "application/vnd.google.colaboratory.intrinsic+json": {
              "type": "string"
            },
            "text/plain": [
              "'Goa'"
            ]
          },
          "execution_count": 22,
          "metadata": {},
          "output_type": "execute_result"
        }
      ],
      "source": [
        "x['a']['address'][2]"
      ]
    },
    {
      "cell_type": "code",
      "execution_count": null,
      "metadata": {
        "colab": {
          "base_uri": "https://localhost:8080/"
        },
        "id": "MFa7Megewhd-",
        "outputId": "4e82e643-da32-44d2-a843-e5e93b860b25"
      },
      "outputs": [
        {
          "data": {
            "text/plain": [
              "{'add': 'Delhi',\n",
              " 'age': 34,\n",
              " 'emp': {'add': 'Delhi', 'holidays': 12, 'name': 'A', 'salary': 2},\n",
              " 'name': 'A'}"
            ]
          },
          "execution_count": 23,
          "metadata": {},
          "output_type": "execute_result"
        }
      ],
      "source": [
        "#wap and a dict of student & emp and try to fetch the common data.\n",
        "s = {\n",
        "    'name':'A',\n",
        "    'age':34,\n",
        "    'add': 'Delhi',\n",
        "    \n",
        "    'emp':{\n",
        "        'name':'A',\n",
        "        'salary':2,\n",
        "        'holidays':12,\n",
        "        'add':'Delhi'\n",
        "    }\n",
        "}\n",
        "s"
      ]
    },
    {
      "cell_type": "code",
      "execution_count": null,
      "metadata": {
        "colab": {
          "base_uri": "https://localhost:8080/",
          "height": 35
        },
        "id": "Xy4urB1-wrPq",
        "outputId": "76202b22-ca7a-49c1-82bb-edcbbd385d62"
      },
      "outputs": [
        {
          "data": {
            "application/vnd.google.colaboratory.intrinsic+json": {
              "type": "string"
            },
            "text/plain": [
              "'A'"
            ]
          },
          "execution_count": 24,
          "metadata": {},
          "output_type": "execute_result"
        }
      ],
      "source": [
        "s['emp']['name']"
      ]
    },
    {
      "cell_type": "code",
      "execution_count": null,
      "metadata": {
        "colab": {
          "base_uri": "https://localhost:8080/",
          "height": 35
        },
        "id": "3pUE1S_2wxRA",
        "outputId": "9f155bd0-24fb-473f-bfd3-9172e144107d"
      },
      "outputs": [
        {
          "data": {
            "application/vnd.google.colaboratory.intrinsic+json": {
              "type": "string"
            },
            "text/plain": [
              "'Delhi'"
            ]
          },
          "execution_count": 25,
          "metadata": {},
          "output_type": "execute_result"
        }
      ],
      "source": [
        "s['add']"
      ]
    },
    {
      "cell_type": "code",
      "execution_count": null,
      "metadata": {
        "colab": {
          "base_uri": "https://localhost:8080/",
          "height": 35
        },
        "id": "YsEbF_PHw3_5",
        "outputId": "24c3c6b9-fca7-4636-ec1b-fc223e7ed0ea"
      },
      "outputs": [
        {
          "data": {
            "application/vnd.google.colaboratory.intrinsic+json": {
              "type": "string"
            },
            "text/plain": [
              "'Delhi'"
            ]
          },
          "execution_count": 26,
          "metadata": {},
          "output_type": "execute_result"
        }
      ],
      "source": [
        "s['emp']['add']"
      ]
    },
    {
      "cell_type": "code",
      "execution_count": null,
      "metadata": {
        "id": "MQH_q2naw_4J"
      },
      "outputs": [],
      "source": [
        "#Dict method \n",
        "# copy\n",
        "# clear\n",
        "# pop\n",
        "# items\n",
        "# values\n",
        "# keys\n",
        "s = {\n",
        "    'name':'A',\n",
        "    'age':34,\n",
        "    'add': 'Delhi',\n",
        "    \n",
        "    'emp':{\n",
        "        'name':'A',\n",
        "        'salary':2,\n",
        "        'holidays':12,\n",
        "        'add':'Delhi'\n",
        "    }\n",
        "}"
      ]
    },
    {
      "cell_type": "code",
      "execution_count": null,
      "metadata": {
        "colab": {
          "base_uri": "https://localhost:8080/"
        },
        "id": "N8PYQXfhxaDR",
        "outputId": "408fbb25-c43e-4f6f-d48f-c8f1cb5b7097"
      },
      "outputs": [
        {
          "data": {
            "text/plain": [
              "{'add': 'Delhi',\n",
              " 'age': 34,\n",
              " 'emp': {'add': 'Delhi', 'holidays': 12, 'name': 'A', 'salary': 2},\n",
              " 'name': 'A'}"
            ]
          },
          "execution_count": 29,
          "metadata": {},
          "output_type": "execute_result"
        }
      ],
      "source": [
        "s"
      ]
    },
    {
      "cell_type": "code",
      "execution_count": null,
      "metadata": {
        "id": "lYDsf-imxg8W"
      },
      "outputs": [],
      "source": [
        "copy_data = s.copy()"
      ]
    },
    {
      "cell_type": "code",
      "execution_count": null,
      "metadata": {
        "colab": {
          "base_uri": "https://localhost:8080/"
        },
        "id": "bIEmrxQTxlEo",
        "outputId": "e332718d-9bf2-42bf-d8c8-a7d1a29a08ca"
      },
      "outputs": [
        {
          "data": {
            "text/plain": [
              "{'add': 'Delhi',\n",
              " 'age': 34,\n",
              " 'emp': {'add': 'Delhi', 'holidays': 12, 'name': 'A', 'salary': 2},\n",
              " 'name': 'A'}"
            ]
          },
          "execution_count": 31,
          "metadata": {},
          "output_type": "execute_result"
        }
      ],
      "source": [
        "copy_data"
      ]
    },
    {
      "cell_type": "code",
      "execution_count": null,
      "metadata": {
        "colab": {
          "base_uri": "https://localhost:8080/"
        },
        "id": "_D1tnsYqxuIB",
        "outputId": "1a047f15-0cad-4412-f84a-9f20ddd2e70f"
      },
      "outputs": [
        {
          "data": {
            "text/plain": [
              "{'add': 'Delhi',\n",
              " 'age': 34,\n",
              " 'emp': {'add': 'Delhi', 'holidays': 12, 'name': 'A', 'salary': 2},\n",
              " 'name': 'A'}"
            ]
          },
          "execution_count": 32,
          "metadata": {},
          "output_type": "execute_result"
        }
      ],
      "source": [
        "s"
      ]
    },
    {
      "cell_type": "code",
      "execution_count": null,
      "metadata": {
        "colab": {
          "base_uri": "https://localhost:8080/"
        },
        "id": "8wBQ33jLxy9T",
        "outputId": "fcfdb7d4-7580-4edd-8814-9f6c5cf5431e"
      },
      "outputs": [
        {
          "data": {
            "text/plain": [
              "{'add': 'Delhi',\n",
              " 'age': 34,\n",
              " 'emp': {'add': 'Delhi', 'holidays': 12, 'name': 'A', 'salary': 2},\n",
              " 'name': 'A'}"
            ]
          },
          "execution_count": 33,
          "metadata": {},
          "output_type": "execute_result"
        }
      ],
      "source": [
        "copy_data "
      ]
    },
    {
      "cell_type": "code",
      "execution_count": null,
      "metadata": {
        "id": "ezhPXMPBx3Y-"
      },
      "outputs": [],
      "source": [
        "a = {\n",
        "    'name':'hello'\n",
        "}"
      ]
    },
    {
      "cell_type": "code",
      "execution_count": null,
      "metadata": {
        "id": "ydzEXyCrx-xy"
      },
      "outputs": [],
      "source": [
        "x = a"
      ]
    },
    {
      "cell_type": "code",
      "execution_count": null,
      "metadata": {
        "colab": {
          "base_uri": "https://localhost:8080/"
        },
        "id": "k4Svm20xyBYN",
        "outputId": "24f22612-1b5d-488d-eb22-122f8b6810a5"
      },
      "outputs": [
        {
          "data": {
            "text/plain": [
              "{'name': 'hello'}"
            ]
          },
          "execution_count": 36,
          "metadata": {},
          "output_type": "execute_result"
        }
      ],
      "source": [
        "x"
      ]
    },
    {
      "cell_type": "code",
      "execution_count": null,
      "metadata": {
        "colab": {
          "base_uri": "https://localhost:8080/"
        },
        "id": "tz3di5l1yJTt",
        "outputId": "21c92dc2-9151-46d0-ba2d-5c18af2f1e7c"
      },
      "outputs": [
        {
          "data": {
            "text/plain": [
              "{'name': 'hello'}"
            ]
          },
          "execution_count": 37,
          "metadata": {},
          "output_type": "execute_result"
        }
      ],
      "source": [
        "a"
      ]
    },
    {
      "cell_type": "code",
      "execution_count": null,
      "metadata": {
        "id": "QlCSPhJ9yObw"
      },
      "outputs": [],
      "source": [
        "a.clear()"
      ]
    },
    {
      "cell_type": "code",
      "execution_count": null,
      "metadata": {
        "colab": {
          "base_uri": "https://localhost:8080/"
        },
        "id": "ItGz7J8gyTN0",
        "outputId": "f634691e-8940-47ea-ff2e-b25f16b5ef14"
      },
      "outputs": [
        {
          "data": {
            "text/plain": [
              "{}"
            ]
          },
          "execution_count": 39,
          "metadata": {},
          "output_type": "execute_result"
        }
      ],
      "source": [
        "a"
      ]
    },
    {
      "cell_type": "code",
      "execution_count": null,
      "metadata": {
        "colab": {
          "base_uri": "https://localhost:8080/"
        },
        "id": "Q2zRgCh8yW5o",
        "outputId": "621bd0cd-6c67-4378-b64c-995542f3b5ae"
      },
      "outputs": [
        {
          "data": {
            "text/plain": [
              "{'add': 'Delhi',\n",
              " 'age': 34,\n",
              " 'emp': {'add': 'Delhi', 'holidays': 12, 'name': 'A', 'salary': 2},\n",
              " 'name': 'A'}"
            ]
          },
          "execution_count": 40,
          "metadata": {},
          "output_type": "execute_result"
        }
      ],
      "source": [
        "s"
      ]
    },
    {
      "cell_type": "code",
      "execution_count": null,
      "metadata": {
        "colab": {
          "base_uri": "https://localhost:8080/"
        },
        "id": "I6e9XxZ9yarr",
        "outputId": "66a5b198-d676-4eab-83ca-faf5485a0aee"
      },
      "outputs": [
        {
          "data": {
            "text/plain": [
              "34"
            ]
          },
          "execution_count": 41,
          "metadata": {},
          "output_type": "execute_result"
        }
      ],
      "source": [
        "s.pop('age')"
      ]
    },
    {
      "cell_type": "code",
      "execution_count": null,
      "metadata": {
        "colab": {
          "base_uri": "https://localhost:8080/"
        },
        "id": "6F0ncDoAyj3d",
        "outputId": "ddd1c2f2-d929-42aa-f9d4-0cf2236468e9"
      },
      "outputs": [
        {
          "data": {
            "text/plain": [
              "{'add': 'Delhi',\n",
              " 'emp': {'add': 'Delhi', 'holidays': 12, 'name': 'A', 'salary': 2},\n",
              " 'name': 'A'}"
            ]
          },
          "execution_count": 42,
          "metadata": {},
          "output_type": "execute_result"
        }
      ],
      "source": [
        "s"
      ]
    },
    {
      "cell_type": "code",
      "execution_count": null,
      "metadata": {
        "colab": {
          "base_uri": "https://localhost:8080/",
          "height": 35
        },
        "id": "yzGC1mfYyoUx",
        "outputId": "ce9a198e-4b12-4f60-8072-774567997ba1"
      },
      "outputs": [
        {
          "data": {
            "application/vnd.google.colaboratory.intrinsic+json": {
              "type": "string"
            },
            "text/plain": [
              "'Delhi'"
            ]
          },
          "execution_count": 43,
          "metadata": {},
          "output_type": "execute_result"
        }
      ],
      "source": [
        "s.pop('add')"
      ]
    },
    {
      "cell_type": "code",
      "execution_count": null,
      "metadata": {
        "colab": {
          "base_uri": "https://localhost:8080/"
        },
        "id": "J6H7-ERMytmG",
        "outputId": "0b18b274-bb68-4a47-a425-b39424f1e1f5"
      },
      "outputs": [
        {
          "data": {
            "text/plain": [
              "{'emp': {'add': 'Delhi', 'holidays': 12, 'name': 'A', 'salary': 2},\n",
              " 'name': 'A'}"
            ]
          },
          "execution_count": 44,
          "metadata": {},
          "output_type": "execute_result"
        }
      ],
      "source": [
        "s"
      ]
    },
    {
      "cell_type": "code",
      "execution_count": null,
      "metadata": {
        "id": "dG2hWEWTyy3k"
      },
      "outputs": [],
      "source": [
        "# keys\n",
        "s = {\n",
        "    'name':'A',\n",
        "    'age':34,\n",
        "    'add': 'Delhi',\n",
        "    \n",
        "    'emp':{\n",
        "        'name':'A',\n",
        "        'salary':2,\n",
        "        'holidays':12,\n",
        "        'add':'Delhi'\n",
        "    }\n",
        "}  "
      ]
    },
    {
      "cell_type": "code",
      "execution_count": null,
      "metadata": {
        "colab": {
          "base_uri": "https://localhost:8080/"
        },
        "id": "xYPdIxLzzBEn",
        "outputId": "2587d940-fbb0-4fd1-f1d4-789a118a0691"
      },
      "outputs": [
        {
          "data": {
            "text/plain": [
              "{'add': 'Delhi',\n",
              " 'age': 34,\n",
              " 'emp': {'add': 'Delhi', 'holidays': 12, 'name': 'A', 'salary': 2},\n",
              " 'name': 'A'}"
            ]
          },
          "execution_count": 47,
          "metadata": {},
          "output_type": "execute_result"
        }
      ],
      "source": [
        "s"
      ]
    },
    {
      "cell_type": "code",
      "execution_count": null,
      "metadata": {
        "colab": {
          "base_uri": "https://localhost:8080/"
        },
        "id": "4Ou-92ztzEQk",
        "outputId": "0a4f1de6-0dd4-472e-f3db-092124df630a"
      },
      "outputs": [
        {
          "data": {
            "text/plain": [
              "dict_keys(['name', 'age', 'add', 'emp'])"
            ]
          },
          "execution_count": 48,
          "metadata": {},
          "output_type": "execute_result"
        }
      ],
      "source": [
        "s.keys()"
      ]
    },
    {
      "cell_type": "code",
      "execution_count": null,
      "metadata": {
        "colab": {
          "base_uri": "https://localhost:8080/"
        },
        "id": "iHVKv7LYzKjL",
        "outputId": "f371f15d-06b0-42d9-f85a-b6fcabc0ce37"
      },
      "outputs": [
        {
          "data": {
            "text/plain": [
              "dict_keys(['name', 'salary', 'holidays', 'add'])"
            ]
          },
          "execution_count": 49,
          "metadata": {},
          "output_type": "execute_result"
        }
      ],
      "source": [
        "s['emp'].keys()"
      ]
    },
    {
      "cell_type": "code",
      "execution_count": null,
      "metadata": {
        "colab": {
          "base_uri": "https://localhost:8080/"
        },
        "id": "fBLhIzZQzPUD",
        "outputId": "3be829c5-36f1-4030-b294-f7339904d1c1"
      },
      "outputs": [
        {
          "data": {
            "text/plain": [
              "dict_keys(['name', 'age', 'add', 'emp'])"
            ]
          },
          "execution_count": 50,
          "metadata": {},
          "output_type": "execute_result"
        }
      ],
      "source": [
        "s.keys()"
      ]
    },
    {
      "cell_type": "code",
      "execution_count": null,
      "metadata": {
        "colab": {
          "base_uri": "https://localhost:8080/"
        },
        "id": "7H6un1cxzUFR",
        "outputId": "0a8202a1-9f55-49f8-c76e-f683f2878cbd"
      },
      "outputs": [
        {
          "data": {
            "text/plain": [
              "dict_keys(['name', 'salary', 'holidays', 'add'])"
            ]
          },
          "execution_count": 51,
          "metadata": {},
          "output_type": "execute_result"
        }
      ],
      "source": [
        "s['emp'].keys()"
      ]
    },
    {
      "cell_type": "code",
      "execution_count": null,
      "metadata": {
        "colab": {
          "base_uri": "https://localhost:8080/"
        },
        "id": "ASdKmHNzzZlz",
        "outputId": "f56183d4-1e81-4888-f852-9c74af5d1395"
      },
      "outputs": [
        {
          "data": {
            "text/plain": [
              "dict_values(['A', 34, 'Delhi', {'name': 'A', 'salary': 2, 'holidays': 12, 'add': 'Delhi'}])"
            ]
          },
          "execution_count": 52,
          "metadata": {},
          "output_type": "execute_result"
        }
      ],
      "source": [
        "# values\n",
        "s.values()"
      ]
    },
    {
      "cell_type": "code",
      "execution_count": null,
      "metadata": {
        "colab": {
          "base_uri": "https://localhost:8080/"
        },
        "id": "MAfxM2e6zftf",
        "outputId": "a7157953-5c84-4f25-f754-e16440a40a5b"
      },
      "outputs": [
        {
          "data": {
            "text/plain": [
              "dict_values(['A', 2, 12, 'Delhi'])"
            ]
          },
          "execution_count": 53,
          "metadata": {},
          "output_type": "execute_result"
        }
      ],
      "source": [
        "s['emp'].values()"
      ]
    },
    {
      "cell_type": "code",
      "execution_count": null,
      "metadata": {
        "id": "xSOPHH1tzo2S"
      },
      "outputs": [],
      "source": [
        "x = {\n",
        "    \"bhai1\":\"muje smj ni aareha hai bhai\",\n",
        "    \"bhai2\": \"muje sab smjh aagya mai expert hu\",\n",
        "    \n",
        "    \"y\":{\n",
        "        'x':'kya haal hai bhai!!'\n",
        "    }\n",
        "}"
      ]
    },
    {
      "cell_type": "code",
      "execution_count": null,
      "metadata": {
        "colab": {
          "base_uri": "https://localhost:8080/"
        },
        "id": "4AWm9iY1zrad",
        "outputId": "96855d28-7675-416f-f497-cc2fbedf48bc"
      },
      "outputs": [
        {
          "data": {
            "text/plain": [
              "{'bhai1': 'muje smj ni aareha hai bhai',\n",
              " 'bhai2': 'muje sab smjh aagya mai expert hu',\n",
              " 'y': {'x': 'kya haal hai bhai!!'}}"
            ]
          },
          "execution_count": 55,
          "metadata": {},
          "output_type": "execute_result"
        }
      ],
      "source": [
        "x"
      ]
    },
    {
      "cell_type": "code",
      "execution_count": null,
      "metadata": {
        "colab": {
          "base_uri": "https://localhost:8080/"
        },
        "id": "urZYazOAzwCH",
        "outputId": "a3eb4f6d-3c91-418d-e76e-42a371e690b5"
      },
      "outputs": [
        {
          "data": {
            "text/plain": [
              "dict_keys(['bhai1', 'bhai2', 'y'])"
            ]
          },
          "execution_count": 56,
          "metadata": {},
          "output_type": "execute_result"
        }
      ],
      "source": [
        "# keys\n",
        "x.keys()"
      ]
    },
    {
      "cell_type": "code",
      "execution_count": null,
      "metadata": {
        "colab": {
          "base_uri": "https://localhost:8080/"
        },
        "id": "eoecYZmGz0mK",
        "outputId": "e33e2458-0cf8-4150-8d2a-fe9f7d2c4950"
      },
      "outputs": [
        {
          "data": {
            "text/plain": [
              "dict_keys(['bhai1', 'bhai2', 'y'])"
            ]
          },
          "execution_count": 57,
          "metadata": {},
          "output_type": "execute_result"
        }
      ],
      "source": [
        "x.keys()"
      ]
    },
    {
      "cell_type": "code",
      "execution_count": null,
      "metadata": {
        "colab": {
          "base_uri": "https://localhost:8080/"
        },
        "id": "DxHEqBttz6_9",
        "outputId": "59364b8f-f98e-4a78-b562-a0d8b78123af"
      },
      "outputs": [
        {
          "data": {
            "text/plain": [
              "dict_values(['muje smj ni aareha hai bhai', 'muje sab smjh aagya mai expert hu', {'x': 'kya haal hai bhai!!'}])"
            ]
          },
          "execution_count": 58,
          "metadata": {},
          "output_type": "execute_result"
        }
      ],
      "source": [
        "x.values()"
      ]
    },
    {
      "cell_type": "code",
      "execution_count": null,
      "metadata": {
        "colab": {
          "base_uri": "https://localhost:8080/"
        },
        "id": "D-KWt3UGz-y0",
        "outputId": "a134b55d-1c1f-4d43-95e3-746a214d3b3c"
      },
      "outputs": [
        {
          "data": {
            "text/plain": [
              "dict_keys(['x'])"
            ]
          },
          "execution_count": 59,
          "metadata": {},
          "output_type": "execute_result"
        }
      ],
      "source": [
        "x['y'].keys()"
      ]
    },
    {
      "cell_type": "code",
      "execution_count": null,
      "metadata": {
        "colab": {
          "base_uri": "https://localhost:8080/"
        },
        "id": "K-iLlzQB0D5G",
        "outputId": "1509b80c-ee16-4c9d-bd14-ef22c1d93763"
      },
      "outputs": [
        {
          "data": {
            "text/plain": [
              "dict_values(['kya haal hai bhai!!'])"
            ]
          },
          "execution_count": 60,
          "metadata": {},
          "output_type": "execute_result"
        }
      ],
      "source": [
        "x['y'].values()"
      ]
    },
    {
      "cell_type": "code",
      "execution_count": null,
      "metadata": {
        "colab": {
          "base_uri": "https://localhost:8080/"
        },
        "id": "oUryhtra0I_9",
        "outputId": "e1b38b9e-aa0f-415c-efd7-ed760a1af8da"
      },
      "outputs": [
        {
          "data": {
            "text/plain": [
              "dict_items([('bhai1', 'muje smj ni aareha hai bhai'), ('bhai2', 'muje sab smjh aagya mai expert hu'), ('y', {'x': 'kya haal hai bhai!!'})])"
            ]
          },
          "execution_count": 61,
          "metadata": {},
          "output_type": "execute_result"
        }
      ],
      "source": [
        "x.items()"
      ]
    },
    {
      "cell_type": "code",
      "execution_count": null,
      "metadata": {
        "colab": {
          "base_uri": "https://localhost:8080/"
        },
        "id": "hLoTHw-Y0NYA",
        "outputId": "d7db7295-fd7a-4caf-964d-0d2893479bf0"
      },
      "outputs": [
        {
          "data": {
            "text/plain": [
              "dict_items([('name', 'A'), ('age', 34), ('add', 'Delhi'), ('emp', {'name': 'A', 'salary': 2, 'holidays': 12, 'add': 'Delhi'})])"
            ]
          },
          "execution_count": 62,
          "metadata": {},
          "output_type": "execute_result"
        }
      ],
      "source": [
        "s.items()"
      ]
    },
    {
      "cell_type": "code",
      "execution_count": null,
      "metadata": {
        "colab": {
          "base_uri": "https://localhost:8080/"
        },
        "id": "sBXYKJSE0Xqi",
        "outputId": "e71e1313-c986-4a68-9f4b-b1912459f718"
      },
      "outputs": [
        {
          "name": "stdout",
          "output_type": "stream",
          "text": [
            "0\n",
            "1\n",
            "1\n",
            "2\n",
            "3\n",
            "5\n",
            "8\n",
            "13\n",
            "21\n",
            "34\n"
          ]
        }
      ],
      "source": [
        "# wap to find fibonacci series??\n",
        "n1,n2 = 0,1\n",
        "nterms = 10\n",
        "count = 0 \n",
        "\n",
        "if nterms <= 0:\n",
        "    print(\"Please entr positive number\")\n",
        "    \n",
        "elif nterms == 1:\n",
        "    print(n1)\n",
        "\n",
        "else:\n",
        "#     print(\"sequence\")\n",
        "    while count < nterms:\n",
        "        print(n1)\n",
        "        nth = n1+n2\n",
        "        n1  = n2\n",
        "        n2  = nth\n",
        "        count+=1"
      ]
    },
    {
      "cell_type": "code",
      "execution_count": null,
      "metadata": {
        "colab": {
          "base_uri": "https://localhost:8080/"
        },
        "id": "MFt0hP33kzxR",
        "outputId": "68b7ce85-f4b7-4f2d-c944-2694e5d09b67"
      },
      "outputs": [
        {
          "name": "stdout",
          "output_type": "stream",
          "text": [
            "55\n",
            "89\n",
            "144\n",
            "233\n",
            "377\n",
            "610\n",
            "987\n",
            "1597\n",
            "2584\n",
            "4181\n"
          ]
        }
      ],
      "source": [
        "count = 0\n",
        "nterms = 10\n",
        "while count < nterms:\n",
        "        print(n1)\n",
        "        nth = n1+n2\n",
        "        n1  = n2\n",
        "        n2  = nth\n",
        "        count+=1"
      ]
    },
    {
      "cell_type": "code",
      "execution_count": null,
      "metadata": {
        "colab": {
          "base_uri": "https://localhost:8080/"
        },
        "id": "ecAaiLWHk-78",
        "outputId": "cb7398d7-34a2-49c7-b275-9c8b69fa57ef"
      },
      "outputs": [
        {
          "name": "stdout",
          "output_type": "stream",
          "text": [
            "1\n",
            "2\n",
            "3\n",
            "5\n",
            "8\n",
            "13\n",
            "21\n",
            "34\n",
            "55\n",
            "89\n",
            "144\n",
            "233\n",
            "377\n",
            "610\n",
            "987\n",
            "1597\n",
            "2584\n",
            "4181\n",
            "6765\n",
            "10946\n",
            "17711\n",
            "28657\n",
            "46368\n",
            "75025\n",
            "121393\n",
            "196418\n",
            "317811\n",
            "514229\n",
            "832040\n",
            "1346269\n",
            "2178309\n",
            "3524578\n",
            "5702887\n",
            "9227465\n",
            "14930352\n",
            "24157817\n",
            "39088169\n",
            "63245986\n",
            "102334155\n",
            "165580141\n",
            "267914296\n",
            "433494437\n",
            "701408733\n",
            "1134903170\n",
            "1836311903\n",
            "2971215073\n",
            "4807526976\n",
            "7778742049\n",
            "12586269025\n",
            "20365011074\n",
            "32951280099\n",
            "53316291173\n",
            "86267571272\n",
            "139583862445\n",
            "225851433717\n",
            "365435296162\n",
            "591286729879\n",
            "956722026041\n",
            "1548008755920\n",
            "2504730781961\n",
            "4052739537881\n",
            "6557470319842\n",
            "10610209857723\n",
            "17167680177565\n",
            "27777890035288\n",
            "44945570212853\n",
            "72723460248141\n",
            "117669030460994\n",
            "190392490709135\n",
            "308061521170129\n",
            "498454011879264\n",
            "806515533049393\n",
            "1304969544928657\n",
            "2111485077978050\n",
            "3416454622906707\n",
            "5527939700884757\n",
            "8944394323791464\n",
            "14472334024676221\n",
            "23416728348467685\n",
            "37889062373143906\n",
            "61305790721611591\n",
            "99194853094755497\n",
            "160500643816367088\n",
            "259695496911122585\n",
            "420196140727489673\n",
            "679891637638612258\n",
            "1100087778366101931\n",
            "1779979416004714189\n",
            "2880067194370816120\n",
            "4660046610375530309\n"
          ]
        }
      ],
      "source": [
        "x = 10\n",
        "a,b=0,1\n",
        "while x < 100:\n",
        "#     print(x)\n",
        "    z = a+b\n",
        "    a=b\n",
        "    b=z\n",
        "    print(z)\n",
        "    x+=1"
      ]
    },
    {
      "cell_type": "code",
      "execution_count": null,
      "metadata": {
        "id": "uhR50iMllCYo"
      },
      "outputs": [],
      "source": [
        "# function syntax----->\n",
        "# define_the_function  function_name():\n",
        "# msg\n",
        "\n",
        "\n",
        "def greet():\n",
        "    print(\"hello\")\n",
        "    "
      ]
    },
    {
      "cell_type": "code",
      "execution_count": null,
      "metadata": {
        "colab": {
          "base_uri": "https://localhost:8080/"
        },
        "id": "rc-sfvhDlNL9",
        "outputId": "f751b798-6ec1-42d8-aa9a-f71d0383ec23"
      },
      "outputs": [
        {
          "name": "stdout",
          "output_type": "stream",
          "text": [
            "hello\n"
          ]
        }
      ],
      "source": [
        "# function_name()\n",
        "\n",
        "greet()"
      ]
    },
    {
      "cell_type": "code",
      "execution_count": null,
      "metadata": {
        "id": "zCJxzRWklPcI"
      },
      "outputs": [],
      "source": [
        "#wap to add two numbers with the help of function?\n",
        "def add():\n",
        "    a=1\n",
        "    b=9\n",
        "    c= a+b\n",
        "    print(c)"
      ]
    },
    {
      "cell_type": "code",
      "execution_count": null,
      "metadata": {
        "colab": {
          "base_uri": "https://localhost:8080/"
        },
        "id": "eBQvoYdClXNJ",
        "outputId": "b2db35f9-e8d3-4bb6-d4d4-98d984c201b2"
      },
      "outputs": [
        {
          "name": "stdout",
          "output_type": "stream",
          "text": [
            "10\n"
          ]
        }
      ],
      "source": [
        "add()"
      ]
    },
    {
      "cell_type": "code",
      "execution_count": null,
      "metadata": {
        "id": "pwvmgY6ZlbP3"
      },
      "outputs": [],
      "source": [
        "# types of function\n",
        "# 1. no return no arg\n",
        "# 2. no return with arg\n",
        "# 3. with arg with return\n",
        "# 4. with arg no return"
      ]
    },
    {
      "cell_type": "code",
      "execution_count": null,
      "metadata": {
        "colab": {
          "base_uri": "https://localhost:8080/"
        },
        "id": "ku46wfjElc43",
        "outputId": "606caf87-5151-4fe0-dcd0-af8a2f27346c"
      },
      "outputs": [
        {
          "name": "stdout",
          "output_type": "stream",
          "text": [
            "10\n"
          ]
        }
      ],
      "source": [
        "# no arg no return\n",
        "def add():\n",
        "    a=1\n",
        "    b=9\n",
        "    c= a+b\n",
        "    print(c)\n",
        "add()"
      ]
    },
    {
      "cell_type": "code",
      "execution_count": null,
      "metadata": {
        "colab": {
          "base_uri": "https://localhost:8080/"
        },
        "id": "rPKzME40ljLe",
        "outputId": "2acba552-9c95-4883-dc87-957c7f32d9ab"
      },
      "outputs": [
        {
          "name": "stdout",
          "output_type": "stream",
          "text": [
            "3\n"
          ]
        }
      ],
      "source": [
        "# with arg no return\n",
        "def add(x,y):\n",
        "    result = x+y\n",
        "    print(result)\n",
        "    \n",
        "add(1,2)"
      ]
    },
    {
      "cell_type": "code",
      "execution_count": null,
      "metadata": {
        "colab": {
          "base_uri": "https://localhost:8080/"
        },
        "id": "P_nydq_GlpzQ",
        "outputId": "d5f458e8-fb23-47ec-8388-f10d1881e614"
      },
      "outputs": [
        {
          "data": {
            "text/plain": [
              "10"
            ]
          },
          "execution_count": 10,
          "metadata": {},
          "output_type": "execute_result"
        }
      ],
      "source": [
        "#no arg with return\n",
        "\n",
        "def add():\n",
        "    a = 9 \n",
        "    b= 1\n",
        "    c = a+b\n",
        "    return (c)\n",
        "add()"
      ]
    },
    {
      "cell_type": "code",
      "execution_count": null,
      "metadata": {
        "colab": {
          "base_uri": "https://localhost:8080/"
        },
        "id": "j4BQYp_0lw17",
        "outputId": "d5171262-3c5a-499b-9e6d-864c1cde9f74"
      },
      "outputs": [
        {
          "data": {
            "text/plain": [
              "150"
            ]
          },
          "execution_count": 11,
          "metadata": {},
          "output_type": "execute_result"
        }
      ],
      "source": [
        "# with arg with return\n",
        "def add(a,b):\n",
        "    return (a*b)\n",
        "#     return result\n",
        "add(3,50)"
      ]
    },
    {
      "cell_type": "code",
      "execution_count": null,
      "metadata": {
        "id": "pbGyRWPxmpIe"
      },
      "outputs": [],
      "source": [
        "#wap to find mix no. from three numbers using function.\n",
        "#wap to find min no. from three numbers using function.\n",
        "#Wap to sum all number present in a list.\n",
        "#wap to check a string is reversed or not?\n",
        "#Wap to find odd number using funtion.\n",
        "#wap to find even no. using function.\n",
        "# Write a function to check a string is palindrome or not?\n",
        "#Wap to sum the first 10 natural numbers using function?\n",
        "\n",
        "# Wap to calculate the percentage of 5 students??\n",
        "\n",
        "# Wap to find out the average cost of 5 quantity each\n",
        "# quantity is having the value of 80 and if the value exceed by\n",
        "# avg value then also calculate the total price of whole quantity\n",
        "# avg value => 350\n",
        "\n",
        "# Wap to find the area and circumference of circle and also try to find\n",
        "# if this circle is going to be square or not?\n",
        "\n",
        "# Calculate the total area of a land having l=20 b=30.If the land\n",
        "# is greater than 100sq fit then also calculate the cost of \n",
        "# remaining land. Price of land is 20000K.\n",
        "\n",
        "# Wap to find out the average cost of 5 quantity each\n",
        "# quantity is having the value of 80 and if the value exceed by\n",
        "# avg value then also calculate the total price of whole quantity\n",
        "# avg value => 350"
      ]
    },
    {
      "cell_type": "code",
      "execution_count": null,
      "metadata": {
        "colab": {
          "base_uri": "https://localhost:8080/"
        },
        "id": "hYHlU_uWmq4I",
        "outputId": "f905aaca-9836-4dc0-8ed6-daecba6c1d34"
      },
      "outputs": [
        {
          "name": "stdout",
          "output_type": "stream",
          "text": [
            "14\n"
          ]
        }
      ],
      "source": [
        "#1->#wap to find mix no. from three numbers using function.\n",
        "def maximum(a, b, c):\n",
        "  \n",
        "    if (a >= b) and (a >= c):\n",
        "        largest = a\n",
        "  \n",
        "    elif (b >= a) and (b >= c):\n",
        "        largest = b\n",
        "    else:\n",
        "        largest = c\n",
        "          \n",
        "    return largest\n",
        "a = 10\n",
        "b = 14\n",
        "c = 12\n",
        "print(maximum(a, b, c))"
      ]
    },
    {
      "cell_type": "code",
      "execution_count": null,
      "metadata": {
        "colab": {
          "base_uri": "https://localhost:8080/"
        },
        "id": "_ffZyLgmX8mZ",
        "outputId": "e813906f-a814-4c51-ee73-bef0e7de593d"
      },
      "outputs": [
        {
          "name": "stdout",
          "output_type": "stream",
          "text": [
            "10\n"
          ]
        }
      ],
      "source": [
        "#wap to find min no. from three numbers using function.\n",
        "#2->\n",
        "def manimum(a, b, c):\n",
        "  \n",
        "    if (a <= b) and (a <= c):\n",
        "        smallest = a\n",
        "  \n",
        "    elif (b <= a) and (b <= c):\n",
        "        smallest = b\n",
        "    else:\n",
        "        smallest = c\n",
        "          \n",
        "    return smallest\n",
        "a = 10\n",
        "b = 14\n",
        "c = 12\n",
        "print(manimum(a, b, c))"
      ]
    },
    {
      "cell_type": "code",
      "execution_count": null,
      "metadata": {
        "colab": {
          "base_uri": "https://localhost:8080/"
        },
        "id": "zx_7w-KIYYew",
        "outputId": "4bb51c35-3804-42e1-cf24-e90871e85b05"
      },
      "outputs": [
        {
          "name": "stdout",
          "output_type": "stream",
          "text": [
            "15\n"
          ]
        }
      ],
      "source": [
        "#Wap to sum all number present in a list.\n",
        "#3->\n",
        "a=[2,2,3,4,4]\n",
        "total=0\n",
        "for i in a:\n",
        "    total=total+i\n",
        "print(total)\n"
      ]
    },
    {
      "cell_type": "code",
      "execution_count": null,
      "metadata": {
        "colab": {
          "base_uri": "https://localhost:8080/"
        },
        "id": "Z4Y60ef4c2Aq",
        "outputId": "d68d2811-1b05-42a2-e338-3786024ac2d2"
      },
      "outputs": [
        {
          "name": "stdout",
          "output_type": "stream",
          "text": [
            "The original string is: rana singh\n",
            "The reverse string is: hgnis anar \n"
          ]
        }
      ],
      "source": [
        "#wap to check a string is reversed or not?\n",
        "#4->\n",
        "def reverse(str):\n",
        "    string = \" \"\n",
        "    for i in str:\n",
        "        string = i + string\n",
        "    return string\n",
        "str = \"rana singh\"\n",
        "print(\"The original string is:\",str)\n",
        "print(\"The reverse string is:\", reverse(str)) "
      ]
    },
    {
      "cell_type": "code",
      "execution_count": null,
      "metadata": {
        "colab": {
          "base_uri": "https://localhost:8080/"
        },
        "id": "5bRAmXeedSEY",
        "outputId": "f5fe4e10-014a-4e5c-bf2f-16b813fa8b5b"
      },
      "outputs": [
        {
          "name": "stdout",
          "output_type": "stream",
          "text": [
            "odd number\n"
          ]
        }
      ],
      "source": [
        "#Wap to find odd number using function.\n",
        "#5=>\n",
        "def rana():\n",
        "   x=9\n",
        "   if x % 2 == 0:\n",
        "       print(\"even number\")\n",
        "   else:\n",
        "       print(\"odd number\")\n",
        "rana()"
      ]
    },
    {
      "cell_type": "code",
      "execution_count": null,
      "metadata": {
        "colab": {
          "base_uri": "https://localhost:8080/"
        },
        "id": "HNrrdDkEeZ-_",
        "outputId": "4a0e0a9b-53e4-4163-d41c-1d0cb566753e"
      },
      "outputs": [
        {
          "name": "stdout",
          "output_type": "stream",
          "text": [
            "011100"
          ]
        }
      ],
      "source": [
        "# decimal to binary\n",
        "def btd(num):\n",
        "    if num>=1:\n",
        "        btd(num//2)\n",
        "    print(num%2,end=\"\")\n",
        "dec_val = 28\n",
        "btd(dec_val)"
      ]
    },
    {
      "cell_type": "code",
      "execution_count": null,
      "metadata": {
        "colab": {
          "base_uri": "https://localhost:8080/"
        },
        "id": "lVGNLfOrwhaf",
        "outputId": "c37f4fef-c9a4-4db0-ef68-c69e095e5ee8"
      },
      "outputs": [
        {
          "name": "stdout",
          "output_type": "stream",
          "text": [
            "21\n"
          ]
        }
      ],
      "source": [
        "x= 0\n",
        "while x<20:\n",
        "  x=x+3\n",
        "print(x)"
      ]
    },
    {
      "cell_type": "code",
      "execution_count": null,
      "metadata": {
        "id": "a-LGcmPDzSfu"
      },
      "outputs": [],
      "source": [
        "# Wap to convert tuple to string!!\n",
        "# Use str.join() to convert tuple to string.\n",
        "def func():\n",
        "    tup1 = ('h','e','l','l','o')\n",
        "    str = ''.join(tup1)\n",
        "    print (str)\n",
        "func()\n"
      ]
    },
    {
      "cell_type": "code",
      "execution_count": null,
      "metadata": {
        "id": "pLd4IWuXwbvd"
      },
      "outputs": [],
      "source": [
        "#wap to find even no. using function.\n",
        "#6=>\n",
        "def no():\n",
        "   x=int(input(\"enter the number\"))\n",
        "   if x%2==0:\n",
        "      print(\"odd number\")\n",
        "   else:\n",
        "      print(\"even number\")\n",
        "no()\n"
      ]
    },
    {
      "cell_type": "code",
      "execution_count": null,
      "metadata": {
        "id": "O5fLwKQYwqnz"
      },
      "outputs": [],
      "source": [
        "# Write a function to check a string is palindrome or not?\n",
        "#7=>\n",
        "def str():\n",
        "   x=\"ana\"\n",
        "   y=''\n",
        "   for i in x:\n",
        "      y=i+y\n",
        "   if x==y:\n",
        "       print(\"palindrome\")\n",
        "   else:\n",
        "       print(\"no palindrome\")\n",
        "str()           \n"
      ]
    },
    {
      "cell_type": "code",
      "execution_count": null,
      "metadata": {
        "id": "yaDzVC1twz2B"
      },
      "outputs": [],
      "source": [
        "#Wap to sum the first 10 natural numbers using function?\n",
        "#8=>\n",
        "def add_list():\n",
        "    total = 0\n",
        "    for i in range(11):\n",
        "        total = total+i\n",
        "    print(total)\n",
        "    \n",
        "add_list()\n"
      ]
    },
    {
      "cell_type": "code",
      "execution_count": null,
      "metadata": {
        "colab": {
          "base_uri": "https://localhost:8080/"
        },
        "id": "VT1OZXEIxeej",
        "outputId": "3fb4331d-ecb7-47a8-d20d-59a8ce3d9536"
      },
      "outputs": [
        {
          "name": "stdout",
          "output_type": "stream",
          "text": [
            "marks of students456\n",
            "91.2\n"
          ]
        }
      ],
      "source": [
        "# Wap to calculate the percentage of 5 students??\n",
        "#9=>\n",
        "def grade():\n",
        "    total=float(input(\"marks of students\"))\n",
        "    percentage=(total/500.0)*100\n",
        "    print(percentage)\n",
        "\n",
        "grade()\n"
      ]
    },
    {
      "cell_type": "code",
      "execution_count": null,
      "metadata": {
        "colab": {
          "base_uri": "https://localhost:8080/"
        },
        "id": "SOPExJm2yv8Y",
        "outputId": "03d0e6d0-1172-4c39-c229-9e3b52463e43"
      },
      "outputs": [
        {
          "name": "stdout",
          "output_type": "stream",
          "text": [
            "500\n",
            "10000000\n"
          ]
        }
      ],
      "source": [
        "# Calculate the total area of a land having l=20 b=30.If the land\n",
        "# is greater than 100sq fit then also calculate the cost of \n",
        "# remaining land. Price of land is 20000K.\n",
        "#13->\n",
        "\n",
        "def fun():\n",
        "    l = 20\n",
        "    b = 30\n",
        "    landArea = 100\n",
        "\n",
        "    area = l*b\n",
        "\n",
        "    if area > 100:\n",
        "        remainland = area - landArea\n",
        "        print(remainland)\n",
        "\n",
        "        cost = remainland * 20000\n",
        "        print(cost)\n",
        "        \n",
        "fun()"
      ]
    },
    {
      "cell_type": "code",
      "execution_count": null,
      "metadata": {
        "colab": {
          "base_uri": "https://localhost:8080/"
        },
        "id": "WKlVhuhz_kV5",
        "outputId": "b2f95750-cf73-4a8e-ad98-eae4062d6d21"
      },
      "outputs": [
        {
          "data": {
            "text/plain": [
              "16"
            ]
          },
          "execution_count": 8,
          "metadata": {},
          "output_type": "execute_result"
        }
      ],
      "source": [
        "def add(x,y=7):\n",
        "    c = x+y\n",
        "    return c\n",
        "add(9)\n",
        "    "
      ]
    },
    {
      "cell_type": "code",
      "execution_count": null,
      "metadata": {
        "colab": {
          "base_uri": "https://localhost:8080/"
        },
        "id": "cQWgOoLD_16n",
        "outputId": "2f943ac3-2d51-4a3a-d3bc-97fc3007d6eb"
      },
      "outputs": [
        {
          "data": {
            "text/plain": [
              "16"
            ]
          },
          "execution_count": 9,
          "metadata": {},
          "output_type": "execute_result"
        }
      ],
      "source": [
        "def add(x=6,y=7):\n",
        "    c = x+y\n",
        "    return c\n",
        "add(9)"
      ]
    },
    {
      "cell_type": "code",
      "execution_count": null,
      "metadata": {
        "colab": {
          "base_uri": "https://localhost:8080/"
        },
        "id": "J0-IwRIb_-A-",
        "outputId": "831fd51f-6f30-4cd7-b605-35cc2c71bef9"
      },
      "outputs": [
        {
          "data": {
            "text/plain": [
              "13"
            ]
          },
          "execution_count": 10,
          "metadata": {},
          "output_type": "execute_result"
        }
      ],
      "source": [
        "def add(x=6,y=7):\n",
        "    c = x+y\n",
        "    return c\n",
        "add()"
      ]
    },
    {
      "cell_type": "code",
      "execution_count": null,
      "metadata": {
        "colab": {
          "base_uri": "https://localhost:8080/"
        },
        "id": "gDI-JlBcAEmx",
        "outputId": "5943f63d-79dd-41bf-bd26-30461097864b"
      },
      "outputs": [
        {
          "data": {
            "text/plain": [
              "20"
            ]
          },
          "execution_count": 11,
          "metadata": {},
          "output_type": "execute_result"
        }
      ],
      "source": [
        "def add(x=6,y=7):\n",
        "    c = x+y\n",
        "    return c\n",
        "add(9,11)"
      ]
    },
    {
      "cell_type": "code",
      "execution_count": null,
      "metadata": {
        "colab": {
          "base_uri": "https://localhost:8080/",
          "height": 306
        },
        "id": "xIFVXa5xAMMk",
        "outputId": "827e7006-8fa6-402d-c210-fce1bfa936dc"
      },
      "outputs": [
        {
          "ename": "TypeError",
          "evalue": "ignored",
          "output_type": "error",
          "traceback": [
            "\u001b[0;31m---------------------------------------------------------------------------\u001b[0m",
            "\u001b[0;31mTypeError\u001b[0m                                 Traceback (most recent call last)",
            "\u001b[0;32m<ipython-input-12-d069b76a4384>\u001b[0m in \u001b[0;36m<module>\u001b[0;34m()\u001b[0m\n\u001b[1;32m      2\u001b[0m     \u001b[0mc\u001b[0m \u001b[0;34m=\u001b[0m \u001b[0mx\u001b[0m\u001b[0;34m+\u001b[0m\u001b[0my\u001b[0m\u001b[0;34m\u001b[0m\u001b[0;34m\u001b[0m\u001b[0m\n\u001b[1;32m      3\u001b[0m     \u001b[0;32mreturn\u001b[0m \u001b[0mc\u001b[0m\u001b[0;34m\u001b[0m\u001b[0;34m\u001b[0m\u001b[0m\n\u001b[0;32m----> 4\u001b[0;31m \u001b[0madd\u001b[0m\u001b[0;34m(\u001b[0m\u001b[0;34m'x'\u001b[0m\u001b[0;34m,\u001b[0m\u001b[0;36m7\u001b[0m\u001b[0;34m)\u001b[0m\u001b[0;34m\u001b[0m\u001b[0;34m\u001b[0m\u001b[0m\n\u001b[0m",
            "\u001b[0;32m<ipython-input-12-d069b76a4384>\u001b[0m in \u001b[0;36madd\u001b[0;34m(x, y)\u001b[0m\n\u001b[1;32m      1\u001b[0m \u001b[0;32mdef\u001b[0m \u001b[0madd\u001b[0m\u001b[0;34m(\u001b[0m\u001b[0mx\u001b[0m\u001b[0;34m=\u001b[0m\u001b[0;36m6\u001b[0m\u001b[0;34m,\u001b[0m\u001b[0my\u001b[0m\u001b[0;34m=\u001b[0m\u001b[0;36m7\u001b[0m\u001b[0;34m)\u001b[0m\u001b[0;34m:\u001b[0m\u001b[0;34m\u001b[0m\u001b[0;34m\u001b[0m\u001b[0m\n\u001b[0;32m----> 2\u001b[0;31m     \u001b[0mc\u001b[0m \u001b[0;34m=\u001b[0m \u001b[0mx\u001b[0m\u001b[0;34m+\u001b[0m\u001b[0my\u001b[0m\u001b[0;34m\u001b[0m\u001b[0;34m\u001b[0m\u001b[0m\n\u001b[0m\u001b[1;32m      3\u001b[0m     \u001b[0;32mreturn\u001b[0m \u001b[0mc\u001b[0m\u001b[0;34m\u001b[0m\u001b[0;34m\u001b[0m\u001b[0m\n\u001b[1;32m      4\u001b[0m \u001b[0madd\u001b[0m\u001b[0;34m(\u001b[0m\u001b[0;34m'x'\u001b[0m\u001b[0;34m,\u001b[0m\u001b[0;36m7\u001b[0m\u001b[0;34m)\u001b[0m\u001b[0;34m\u001b[0m\u001b[0;34m\u001b[0m\u001b[0m\n",
            "\u001b[0;31mTypeError\u001b[0m: can only concatenate str (not \"int\") to str"
          ]
        }
      ],
      "source": [
        "def add(x=6,y=7):\n",
        "    c = x+y\n",
        "    return c\n",
        "add('x',7)"
      ]
    },
    {
      "cell_type": "code",
      "execution_count": null,
      "metadata": {
        "colab": {
          "base_uri": "https://localhost:8080/",
          "height": 132
        },
        "id": "eyYLarg2AU8D",
        "outputId": "9515b882-f1cb-4c9d-c383-d5c9fd488ac9"
      },
      "outputs": [
        {
          "ename": "SyntaxError",
          "evalue": "ignored",
          "output_type": "error",
          "traceback": [
            "\u001b[0;36m  File \u001b[0;32m\"<ipython-input-13-163716fa7f35>\"\u001b[0;36m, line \u001b[0;32m1\u001b[0m\n\u001b[0;31m    def add(x=6,y):\u001b[0m\n\u001b[0m           ^\u001b[0m\n\u001b[0;31mSyntaxError\u001b[0m\u001b[0;31m:\u001b[0m non-default argument follows default argument\n"
          ]
        }
      ],
      "source": [
        "def add(x=6,y):\n",
        "    c = x+y\n",
        "    return c\n",
        "add('x')"
      ]
    },
    {
      "cell_type": "code",
      "execution_count": null,
      "metadata": {
        "colab": {
          "base_uri": "https://localhost:8080/",
          "height": 202
        },
        "id": "HMn6YjnpAZov",
        "outputId": "996c785e-373f-424f-f3e4-79890192b02e"
      },
      "outputs": [
        {
          "ename": "TypeError",
          "evalue": "ignored",
          "output_type": "error",
          "traceback": [
            "\u001b[0;31m---------------------------------------------------------------------------\u001b[0m",
            "\u001b[0;31mTypeError\u001b[0m                                 Traceback (most recent call last)",
            "\u001b[0;32m<ipython-input-14-693a50263d18>\u001b[0m in \u001b[0;36m<module>\u001b[0;34m()\u001b[0m\n\u001b[1;32m      2\u001b[0m     \u001b[0mc\u001b[0m \u001b[0;34m=\u001b[0m \u001b[0mx\u001b[0m\u001b[0;34m+\u001b[0m\u001b[0my\u001b[0m\u001b[0;34m\u001b[0m\u001b[0;34m\u001b[0m\u001b[0m\n\u001b[1;32m      3\u001b[0m     \u001b[0;32mreturn\u001b[0m \u001b[0mc\u001b[0m\u001b[0;34m\u001b[0m\u001b[0;34m\u001b[0m\u001b[0m\n\u001b[0;32m----> 4\u001b[0;31m \u001b[0madd\u001b[0m\u001b[0;34m(\u001b[0m\u001b[0mx\u001b[0m \u001b[0;34m=\u001b[0m \u001b[0;36m5\u001b[0m\u001b[0;34m,\u001b[0m\u001b[0my\u001b[0m \u001b[0;34m=\u001b[0m \u001b[0;36m7\u001b[0m\u001b[0;34m)\u001b[0m\u001b[0;34m\u001b[0m\u001b[0;34m\u001b[0m\u001b[0m\n\u001b[0m",
            "\u001b[0;31mTypeError\u001b[0m: add() got an unexpected keyword argument 'x'"
          ]
        }
      ],
      "source": [
        "def add():\n",
        "    c = x+y\n",
        "    return c\n",
        "add(x = 5,y = 7)"
      ]
    },
    {
      "cell_type": "code",
      "execution_count": null,
      "metadata": {
        "colab": {
          "base_uri": "https://localhost:8080/"
        },
        "id": "V5GoGI4TA7La",
        "outputId": "50b14afa-ed32-4476-834a-beb2b380ea3a"
      },
      "outputs": [
        {
          "name": "stdout",
          "output_type": "stream",
          "text": [
            "10\n"
          ]
        }
      ],
      "source": [
        "#oops->\n",
        "\n",
        "class bike:\n",
        "    a = 10\n",
        "    print (a)\n",
        "    \n",
        "b=bike()  "
      ]
    },
    {
      "cell_type": "code",
      "execution_count": null,
      "metadata": {
        "colab": {
          "base_uri": "https://localhost:8080/"
        },
        "id": "07FvR5ItAeAo",
        "outputId": "8eeeabf9-fd36-4822-8d38-f2fa33f0447b"
      },
      "outputs": [
        {
          "name": "stdout",
          "output_type": "stream",
          "text": [
            "hello bhai !! dev kaise ho??\n"
          ]
        }
      ],
      "source": [
        "#wap to greet hello hi how are you using class and object!!\n",
        "\n",
        "class greet:\n",
        "    a = \"hello bhai !! dev kaise ho??\"\n",
        "    print(a)\n",
        "    \n",
        "g = greet()"
      ]
    },
    {
      "cell_type": "code",
      "execution_count": null,
      "metadata": {
        "colab": {
          "base_uri": "https://localhost:8080/"
        },
        "id": "IsCVFaxCBhiq",
        "outputId": "a3da28da-4157-4ada-a070-487394f446d8"
      },
      "outputs": [
        {
          "name": "stdout",
          "output_type": "stream",
          "text": [
            "Dev\n"
          ]
        }
      ],
      "source": [
        "class student:\n",
        "    def info(self):\n",
        "        name = 'Dev'\n",
        "        print(name)\n",
        "        \n",
        "s = student()\n",
        "s.info()\n",
        "        "
      ]
    },
    {
      "cell_type": "code",
      "execution_count": null,
      "metadata": {
        "colab": {
          "base_uri": "https://localhost:8080/"
        },
        "id": "GjCPF6aUBs3_",
        "outputId": "666b3267-47ab-40bb-90b3-bdfb5245286d"
      },
      "outputs": [
        {
          "name": "stdout",
          "output_type": "stream",
          "text": [
            "12\n"
          ]
        }
      ],
      "source": [
        "#wap to add two number with the help of class and object using function.\n",
        "class add:\n",
        "    def add2(self):\n",
        "         a=4\n",
        "         b=8\n",
        "         c=a+b\n",
        "         print(c)\n",
        "n = add()\n",
        "n.add2()         "
      ]
    },
    {
      "cell_type": "code",
      "execution_count": null,
      "metadata": {
        "colab": {
          "base_uri": "https://localhost:8080/"
        },
        "id": "Yx-WoetGoFR1",
        "outputId": "42a16f4b-4145-4088-9c46-3b9e25015d7a"
      },
      "outputs": [
        {
          "data": {
            "text/plain": [
              "3"
            ]
          },
          "execution_count": 1,
          "metadata": {},
          "output_type": "execute_result"
        }
      ],
      "source": [
        "#wap to add two number with the help of class and object using function.\n",
        "\n",
        "class add:\n",
        "    def adding(self,x,y):\n",
        "        result = x+y\n",
        "        return result\n",
        "a = add()\n",
        "a.adding(1,2)"
      ]
    },
    {
      "cell_type": "code",
      "execution_count": null,
      "metadata": {
        "id": "CL3Oo-0goLlF"
      },
      "outputs": [],
      "source": [
        "                  # Constructor------> \n",
        "#wap to make class of emp having name,age & salary with the help of \n",
        "# constructor.\n",
        "\n",
        "\n",
        "class emp:\n",
        "    def __init__(self,name,age,salary):\n",
        "        self.name = name\n",
        "        self.age = age\n",
        "        self.salary = salary\n",
        "        \n",
        "e = emp('A',23,34000)\n",
        "        "
      ]
    },
    {
      "cell_type": "code",
      "execution_count": null,
      "metadata": {
        "colab": {
          "base_uri": "https://localhost:8080/"
        },
        "id": "r2a4u4_hoUsZ",
        "outputId": "af89c79e-4c8d-4f18-9dfe-1eb0868cf0c4"
      },
      "outputs": [
        {
          "data": {
            "text/plain": [
              "('A', 23, 34000)"
            ]
          },
          "execution_count": 4,
          "metadata": {},
          "output_type": "execute_result"
        }
      ],
      "source": [
        "e.name,e.age,e.salary"
      ]
    },
    {
      "cell_type": "code",
      "execution_count": null,
      "metadata": {
        "id": "fFT0oLVgogc9"
      },
      "outputs": [],
      "source": [
        "#wap and make a class of emp having properties of name , \n",
        "# age & salary and \n",
        " #   dery to get the ouput of the data with the help of constructor!!\n",
        "# also find the avg salary of the emp.\n",
        "class emp:\n",
        "\n",
        "    def __init__(self,name,age,salary):\n",
        "        self.name = name\n",
        "        self.age = age\n",
        "        self.salary = salary\n",
        "#         print(salary/12)\n",
        "        \n",
        "#     function for avg salary\n",
        "    def avg_sal(self):\n",
        "        sal = self.salary/12\n",
        "        return sal\n",
        "e = emp ('A',23,340000)"
      ]
    },
    {
      "cell_type": "code",
      "execution_count": null,
      "metadata": {
        "colab": {
          "base_uri": "https://localhost:8080/"
        },
        "id": "N-AtFqjBolgl",
        "outputId": "d87edb8f-4e3d-47a1-b66d-0627f507b047"
      },
      "outputs": [
        {
          "data": {
            "text/plain": [
              "28333.333333333332"
            ]
          },
          "execution_count": 4,
          "metadata": {},
          "output_type": "execute_result"
        }
      ],
      "source": [
        "e.avg_sal()"
      ]
    },
    {
      "cell_type": "code",
      "execution_count": null,
      "metadata": {
        "id": "1CFdMAgCopPG"
      },
      "outputs": [],
      "source": [
        "# wap to find the speed of the car which cover \n",
        "# a distance of 14km in 20min.Find the speed in km/hr\n",
        "# with the help of constructor.\n",
        "#1-\n",
        "class velocity:\n",
        "    def __init__(self,distance,time):\n",
        "        self.distance=distance\n",
        "        self.time=time/60\n",
        "    def avg_speed (self):\n",
        "        speed=self.distance/self.time\n",
        "        return speed\n",
        "v= velocity (14,20)"
      ]
    },
    {
      "cell_type": "code",
      "execution_count": null,
      "metadata": {
        "colab": {
          "base_uri": "https://localhost:8080/"
        },
        "id": "DxVv2r5aowe_",
        "outputId": "f3000f15-1486-4a2d-c1b5-c1d8b2957a2f"
      },
      "outputs": [
        {
          "data": {
            "text/plain": [
              "42.0"
            ]
          },
          "execution_count": 8,
          "metadata": {},
          "output_type": "execute_result"
        }
      ],
      "source": [
        "v.avg_speed()"
      ]
    },
    {
      "cell_type": "code",
      "execution_count": null,
      "metadata": {
        "id": "IEid7XJyo2sS"
      },
      "outputs": [],
      "source": [
        "#-2\n",
        "class car:\n",
        "    def __init__(self,dis,time):\n",
        "        self.dis = dis\n",
        "        self.time = time\n",
        "        \n",
        "    def speed(self):\n",
        "        t = self.time/60\n",
        "        s = self.dis/t\n",
        "        return s\n",
        "    \n",
        "c = car(14,20)"
      ]
    },
    {
      "cell_type": "code",
      "execution_count": null,
      "metadata": {
        "colab": {
          "base_uri": "https://localhost:8080/"
        },
        "id": "gIQadbJvpEnz",
        "outputId": "5f09cedf-73ec-44f8-96d1-b2c0bad66507"
      },
      "outputs": [
        {
          "data": {
            "text/plain": [
              "42.0"
            ]
          },
          "execution_count": 10,
          "metadata": {},
          "output_type": "execute_result"
        }
      ],
      "source": [
        "c.speed()"
      ]
    },
    {
      "cell_type": "code",
      "execution_count": null,
      "metadata": {
        "colab": {
          "base_uri": "https://localhost:8080/"
        },
        "id": "pq0N31pTpHDV",
        "outputId": "b40bb981-34ec-44b3-8626-b7c29f64f683"
      },
      "outputs": [
        {
          "name": "stdout",
          "output_type": "stream",
          "text": [
            "Tax is -----> 400000.0\n",
            "Discount-----> 140000.0\n",
            "2400000.0\n",
            "1860000.0\n",
            "Actual Price of car--------> 540000.0\n"
          ]
        }
      ],
      "source": [
        "#wap to make a class of automobile and try to calculate \n",
        "# the price of the\n",
        "# car if the car is of 20 lakh then you have to pay \n",
        "# the tax of 20%,\n",
        "# and the showroom give a discount of 7% on your \n",
        "# purchase,so try to \n",
        "# find the actual cost of the car with the help \n",
        "# of constructor??\n",
        "class info:\n",
        "    def __init__(self,price):\n",
        "        self.price = price\n",
        "        \n",
        "    def total_price(self):\n",
        "        tax = (self.price * 20 )/100\n",
        "        dis = (self.price * 7)/100\n",
        "        print(\"Tax is ----->\",tax)\n",
        "        print(\"Discount----->\",dis)\n",
        "        \n",
        "        total_tax = self.price+tax\n",
        "        total_dis = self.price-dis\n",
        "        print(total_tax)\n",
        "        print(total_dis)\n",
        "        \n",
        "        actual_price = total_tax - total_dis\n",
        "        print(\"Actual Price of car-------->\",actual_price)\n",
        "        \n",
        "i = info(2000000)\n",
        "i.total_price()\n",
        "        "
      ]
    },
    {
      "cell_type": "code",
      "execution_count": null,
      "metadata": {
        "id": "U2Mz_uat0XI_"
      },
      "outputs": [],
      "source": [
        "                         #Inheritance"
      ]
    },
    {
      "cell_type": "code",
      "execution_count": null,
      "metadata": {
        "id": "nsrQ-xHb0d-h"
      },
      "outputs": [],
      "source": [
        "#parent method-->\n",
        "class parent:\n",
        "    def __init__(self,name,age):\n",
        "        self.name = name\n",
        "        self.age = age\n",
        "        \n",
        "class child(parent):\n",
        "    def __init__(self,name,age,phone):\n",
        "        parent.__init__(self,name,age)\n",
        "        self.phone = phone\n",
        "        \n",
        "c = child('A',23,1234)"
      ]
    },
    {
      "cell_type": "code",
      "execution_count": null,
      "metadata": {
        "colab": {
          "base_uri": "https://localhost:8080/",
          "height": 35
        },
        "id": "tnYtBy_O0ixW",
        "outputId": "bc20de4c-5f89-4f6c-c7ce-f08bc45139ef"
      },
      "outputs": [
        {
          "data": {
            "application/vnd.google.colaboratory.intrinsic+json": {
              "type": "string"
            },
            "text/plain": [
              "'A'"
            ]
          },
          "execution_count": 3,
          "metadata": {},
          "output_type": "execute_result"
        }
      ],
      "source": [
        "c.name"
      ]
    },
    {
      "cell_type": "code",
      "execution_count": null,
      "metadata": {
        "id": "1l0YSuUb0r-C"
      },
      "outputs": [],
      "source": [
        "#super method--->\n",
        "class Parent:\n",
        "    def __init__(self,name,age):\n",
        "        self.name = name\n",
        "        self.age = age\n",
        "        \n",
        "class child(Parent):\n",
        "    def __init__(self,name,age,phone):\n",
        "        super().__init__(name,age)\n",
        "        self.phone = phone\n",
        "        \n",
        "c = child('A',23,1234)"
      ]
    },
    {
      "cell_type": "code",
      "execution_count": null,
      "metadata": {
        "colab": {
          "base_uri": "https://localhost:8080/",
          "height": 35
        },
        "id": "W9qlYAuz0uWw",
        "outputId": "22ce7baa-d455-447d-c7d8-7c8f86d1f440"
      },
      "outputs": [
        {
          "data": {
            "application/vnd.google.colaboratory.intrinsic+json": {
              "type": "string"
            },
            "text/plain": [
              "'A'"
            ]
          },
          "execution_count": 5,
          "metadata": {},
          "output_type": "execute_result"
        }
      ],
      "source": [
        "c.name"
      ]
    },
    {
      "cell_type": "code",
      "execution_count": null,
      "metadata": {
        "id": "7I_nMJn60xoe"
      },
      "outputs": [],
      "source": [
        "#1->\n",
        "# wap and make a class of emp and try to inherit the common properties\n",
        "# from  the emp and try to find the salary of emp if the emp take more\n",
        "# than 12 holidays total salary will deducted by 5%.\n",
        "class emp1:\n",
        "    def __init__(self,name,age,salary):\n",
        "        self.name = name\n",
        "        self.age = age\n",
        "        self.salary = salary\n",
        "#         self.leave = leave\n",
        "        \n",
        "class emp2(emp1):\n",
        "    def __init__(self,name,age,salary):\n",
        "        super().__init__(name,age,salary)\n",
        "        \n",
        "        \n",
        "    def holiday(self,leave):\n",
        "        if leave>12:\n",
        "            ded = self.salary * 0.05\n",
        "            print(ded)\n",
        "        \n",
        "        \n",
        "e = emp2('A',45,3400000)"
      ]
    },
    {
      "cell_type": "code",
      "execution_count": null,
      "metadata": {
        "colab": {
          "base_uri": "https://localhost:8080/"
        },
        "id": "DcuFt17o06ja",
        "outputId": "7b688f48-171c-471e-95ff-f53a16772b32"
      },
      "outputs": [
        {
          "data": {
            "text/plain": [
              "3400000"
            ]
          },
          "execution_count": 7,
          "metadata": {},
          "output_type": "execute_result"
        }
      ],
      "source": [
        "e.salary"
      ]
    },
    {
      "cell_type": "code",
      "execution_count": null,
      "metadata": {
        "colab": {
          "base_uri": "https://localhost:8080/"
        },
        "id": "EoW6i1xi1Bwl",
        "outputId": "ee345344-e97d-49f5-dc68-3aa13017b24f"
      },
      "outputs": [
        {
          "name": "stdout",
          "output_type": "stream",
          "text": [
            "170000.0\n"
          ]
        }
      ],
      "source": [
        "e.holiday(100)"
      ]
    },
    {
      "cell_type": "code",
      "execution_count": null,
      "metadata": {
        "id": "VMDgc2-b1l6c"
      },
      "outputs": [],
      "source": [
        "#2.wap to make a class of vechicle and define its attributes like \n",
        "# speed, color & engine and try to find out the total dist covered of\n",
        "# the particular vechile which having a speed of 80km/hr within 3hr.\n",
        "\n",
        "#3. wap and make a class of emp and try to inherit the common properties\n",
        "# from  the emp and try to find the salary of emp if the emp take more\n",
        "# than 12 holidays total salary will deducted by 5% and if the emp take 0 \n",
        "# holiday\n",
        "# then salary will be bonus by 7 % and also if a emp take atmost 6 holiday\n",
        "# then 2% of the salary is given to the emp.\n",
        "\n",
        "#4.wap to make a class and inherit the property of transport class like\n",
        "# color,milage,and speed also a child class which is having no unique property\n",
        "# to display.\n",
        "\n",
        "#5.wap to make a class of having no properties,attribute or method(empty class)\n",
        "# just try to \n",
        "# make the object of the empty class and try to get the output of the code.\n",
        "\n",
        "#6.wap and try to get the attributes of the particular \n",
        "# class through the object.\n"
      ]
    },
    {
      "cell_type": "code",
      "execution_count": null,
      "metadata": {
        "id": "IO15Tn675yCO"
      },
      "outputs": [],
      "source": [
        "#2.wap to make a class of vechicle and define its attributes like \n",
        "# speed, color & engine and try to find out the total dist covered of\n",
        "# the particular vechile which having a speed of 80km/hr within 3hr.\n",
        "\n",
        "class vechicle:\n",
        "     def __init__(self,speed,color,engine):\n",
        "         self.speed = speed\n",
        "         self.color = color\n",
        "         self.engine = engine\n",
        "\n",
        "class vechicle2(vechicle):\n",
        "      def __init__(self,speed,color,engine,time):\n",
        "          super().__init__(speed,color,engine)\n",
        "          self.time = time\n",
        "\n",
        "      def total_dis(self):\n",
        "          total_dis = self.speed*self.time\n",
        "          return total_dis\n",
        "\n",
        "v=vechicle2(80,'red','rtr',3)"
      ]
    },
    {
      "cell_type": "code",
      "execution_count": null,
      "metadata": {
        "colab": {
          "base_uri": "https://localhost:8080/"
        },
        "id": "aamj-G048ivL",
        "outputId": "bb0c4bd8-819e-424d-e005-bccfba812932"
      },
      "outputs": [
        {
          "data": {
            "text/plain": [
              "240"
            ]
          },
          "execution_count": 6,
          "metadata": {},
          "output_type": "execute_result"
        }
      ],
      "source": [
        "v.total_dis()"
      ]
    },
    {
      "cell_type": "code",
      "execution_count": null,
      "metadata": {
        "id": "q7VAvJ678oYn"
      },
      "outputs": [],
      "source": [
        "#3. wap and make a class of emp and try to inherit the common properties\n",
        "# from  the emp and try to find the salary of emp if the emp take more\n",
        "# than 12 holidays total salary will deducted by 5% and if the emp take 0 \n",
        "# holiday\n",
        "# then salary will be bonus by 7 % and also if a emp take atmost 6 holiday\n",
        "# then 2% of the salary is given to the emp.\n",
        "class emp1:\n",
        "    def __init__(self,name,age,salary):\n",
        "        self.name = name\n",
        "        self.age = age\n",
        "        self.salary = salary\n",
        "class emp2(emp1):\n",
        "     def __init__(self,name,age,salary):\n",
        "         super().__init__(name,age,salary)\n",
        "\n",
        "     def holiday(self,leave):\n",
        "         if leave>12:\n",
        "            deduct = self.salary*0.05\n",
        "            print(deduct)\n",
        "\n",
        "         elif leave == 0:\n",
        "              bonus = self.salary*0.07\n",
        "              print(\"bonus is---->\",bonus)\n",
        "\n",
        "         if leave == 6:\n",
        "            salary = self.salary*0.06\n",
        "            print(\"salary is----->\",salary)\n",
        "\n",
        "e = emp2('rana',25,45678)                                 \n"
      ]
    },
    {
      "cell_type": "code",
      "execution_count": null,
      "metadata": {
        "colab": {
          "base_uri": "https://localhost:8080/"
        },
        "id": "4351eCLnbU67",
        "outputId": "d4553eca-58be-4ee3-ed37-1d0184fc2aa6"
      },
      "outputs": [
        {
          "data": {
            "text/plain": [
              "45678"
            ]
          },
          "execution_count": 3,
          "metadata": {},
          "output_type": "execute_result"
        }
      ],
      "source": [
        "e.salary"
      ]
    },
    {
      "cell_type": "code",
      "execution_count": null,
      "metadata": {
        "colab": {
          "base_uri": "https://localhost:8080/"
        },
        "id": "mAM9Vgywb6QA",
        "outputId": "02e81fd2-104f-4dae-9d92-657d3afe10d0"
      },
      "outputs": [
        {
          "name": "stdout",
          "output_type": "stream",
          "text": [
            "2283.9\n"
          ]
        }
      ],
      "source": [
        "e.holiday(15)"
      ]
    },
    {
      "cell_type": "code",
      "execution_count": null,
      "metadata": {
        "id": "Jbe-V1GuAMLM"
      },
      "outputs": [],
      "source": [
        "#4.wap to make a class and inherit the property of transport class like\n",
        "# color,milage,and speed also a child class which is having no unique property\n",
        "# to display.\n",
        "class transport:\n",
        "     def __init__(self,color,milage,speed):\n",
        "         self.color = color\n",
        "         self.milage = milage\n",
        "         self.speed = speed\n",
        "\n",
        "class transpot2(transport):\n",
        "     def __init__(self,color,milage,speed):\n",
        "         super().__init__(color,milage,speed)\n",
        "\n",
        "t=transpot2('green',34,70)         \n",
        "         "
      ]
    },
    {
      "cell_type": "code",
      "execution_count": null,
      "metadata": {
        "colab": {
          "base_uri": "https://localhost:8080/",
          "height": 35
        },
        "id": "VN-hUBZLC0ej",
        "outputId": "0785a0ff-83b9-4f6c-9279-a49f5a84159f"
      },
      "outputs": [
        {
          "data": {
            "application/vnd.google.colaboratory.intrinsic+json": {
              "type": "string"
            },
            "text/plain": [
              "'green'"
            ]
          },
          "execution_count": 9,
          "metadata": {},
          "output_type": "execute_result"
        }
      ],
      "source": [
        "t.color"
      ]
    },
    {
      "cell_type": "code",
      "execution_count": null,
      "metadata": {
        "colab": {
          "base_uri": "https://localhost:8080/"
        },
        "id": "1BgIvqnTC6hS",
        "outputId": "732da28e-2b2f-471c-d369-a9be9f733e0f"
      },
      "outputs": [
        {
          "data": {
            "text/plain": [
              "<__main__.person at 0x7f5607bfd510>"
            ]
          },
          "execution_count": 12,
          "metadata": {},
          "output_type": "execute_result"
        }
      ],
      "source": [
        "#5.wap to make a class of having no properties,attribute or method(empty class)\n",
        "# just try to \n",
        "# make the object of the empty class and try to get the output of the code.\n",
        "class person:\n",
        "    pass\n",
        "\n",
        "person()\n",
        "    "
      ]
    },
    {
      "cell_type": "code",
      "execution_count": null,
      "metadata": {
        "colab": {
          "base_uri": "https://localhost:8080/",
          "height": 35
        },
        "id": "_AKqgRozDKXK",
        "outputId": "d3c7e288-33ab-47ff-e7f7-86a722ced2f9"
      },
      "outputs": [
        {
          "data": {
            "application/vnd.google.colaboratory.intrinsic+json": {
              "type": "string"
            },
            "text/plain": [
              "'Bahuballi'"
            ]
          },
          "execution_count": 13,
          "metadata": {},
          "output_type": "execute_result"
        }
      ],
      "source": [
        "#6.wap and try to get the attributes of the particular \n",
        "# class through the object.\n",
        "\n",
        "class person:\n",
        "    def __init__(self,name):\n",
        "        self.name = name\n",
        "        \n",
        "p = person(\"Bahuballi\")\n",
        "p.name\n",
        "        "
      ]
    },
    {
      "cell_type": "code",
      "execution_count": null,
      "metadata": {
        "colab": {
          "base_uri": "https://localhost:8080/"
        },
        "id": "oZ4dQO6eDYSu",
        "outputId": "fbd15b3b-7720-48a8-a2f6-118226ec9337"
      },
      "outputs": [
        {
          "name": "stdout",
          "output_type": "stream",
          "text": [
            "Bahuballi\n",
            "345\n"
          ]
        }
      ],
      "source": [
        "#6->     with the help of funtion\n",
        "class person:\n",
        "    def info(self,name,age):\n",
        "        print(name)\n",
        "        print(age)\n",
        "        \n",
        "        \n",
        "p = person()\n",
        "p.info(\"Bahuballi\",345)"
      ]
    },
    {
      "cell_type": "code",
      "execution_count": null,
      "metadata": {
        "id": "rBOV-dRQEHr-"
      },
      "outputs": [],
      "source": [
        "#                  Multilevel Inheritance"
      ]
    },
    {
      "cell_type": "code",
      "execution_count": null,
      "metadata": {
        "id": "CIfqYw1HEeMG"
      },
      "outputs": [],
      "source": [
        "# Method 1.\n",
        "# inherit from gpc to pc to child\n",
        "class gpc:\n",
        "    def __init__(self,name):\n",
        "        self.name= name\n",
        "        \n",
        "class pc(gpc):\n",
        "    def __init__(self,name,age):\n",
        "        super().__init__(name)\n",
        "        self.age = age\n",
        "        \n",
        "class child(pc):\n",
        "    def __init__(self,name,age,marks):\n",
        "        super().__init__(name,age)\n",
        "        self.marks = marks\n",
        "        \n",
        "    \n",
        "c = child(\"Jacky\",34,89)"
      ]
    },
    {
      "cell_type": "code",
      "execution_count": null,
      "metadata": {
        "colab": {
          "base_uri": "https://localhost:8080/",
          "height": 35
        },
        "id": "RLGweUhfEqZP",
        "outputId": "d431054b-e61f-432c-f295-99a5952047f0"
      },
      "outputs": [
        {
          "data": {
            "application/vnd.google.colaboratory.intrinsic+json": {
              "type": "string"
            },
            "text/plain": [
              "'Jacky'"
            ]
          },
          "execution_count": 16,
          "metadata": {},
          "output_type": "execute_result"
        }
      ],
      "source": [
        "c.name"
      ]
    },
    {
      "cell_type": "code",
      "execution_count": null,
      "metadata": {
        "id": "FqjuKaewFRLv"
      },
      "outputs": [],
      "source": [
        "# Method 2.\n",
        "# inherit from gpc to pc\n",
        "class gpc:\n",
        "    def __init__(self,name):\n",
        "        self.name= name\n",
        "        \n",
        "class pc(gpc):\n",
        "    def __init__(self,name,age):\n",
        "        super().__init__(name)\n",
        "        self.age = age\n",
        "        \n",
        "class child(pc):\n",
        "    def __init__(self,name,age,marks):\n",
        "        super().__init__(name,age)\n",
        "        self.marks = marks\n",
        "        \n",
        "p = pc(\"A\",78)\n",
        "        \n",
        "    "
      ]
    },
    {
      "cell_type": "code",
      "execution_count": null,
      "metadata": {
        "colab": {
          "base_uri": "https://localhost:8080/"
        },
        "id": "Kp7vONHPFaD_",
        "outputId": "d0b456c6-053a-408e-8dcc-ca3b3b748ceb"
      },
      "outputs": [
        {
          "data": {
            "text/plain": [
              "78"
            ]
          },
          "execution_count": 18,
          "metadata": {},
          "output_type": "execute_result"
        }
      ],
      "source": [
        "p.age"
      ]
    },
    {
      "cell_type": "code",
      "execution_count": null,
      "metadata": {
        "id": "syFX7J6qFiYF"
      },
      "outputs": [],
      "source": [
        "# Method 3:\n",
        "# inherit from gpc to child\n",
        "class gpc:\n",
        "    def __init__(self,name):\n",
        "        self.name= name\n",
        "        \n",
        "class pc(gpc):\n",
        "    def __init__(self,name,age):\n",
        "        super().__init__(name)\n",
        "        self.age = age\n",
        "        \n",
        "class child(gpc):\n",
        "    def __init__(self,name,marks):\n",
        "        super().__init__(name)\n",
        "        self.marks = marks\n",
        "        \n",
        "c = child(\"A\",89)\n",
        "        "
      ]
    },
    {
      "cell_type": "code",
      "execution_count": null,
      "metadata": {
        "colab": {
          "base_uri": "https://localhost:8080/"
        },
        "id": "_7Cs9NsjFqs7",
        "outputId": "41053502-0c85-4350-8a9f-ac05193489e3"
      },
      "outputs": [
        {
          "data": {
            "text/plain": [
              "('A', 89)"
            ]
          },
          "execution_count": 20,
          "metadata": {},
          "output_type": "execute_result"
        }
      ],
      "source": [
        "c.name,c.marks"
      ]
    },
    {
      "cell_type": "code",
      "execution_count": null,
      "metadata": {
        "id": "fBQO8B2TFxWO"
      },
      "outputs": [],
      "source": [
        "# Method 4:\n",
        "# inherit from pc to child.\n",
        "class gpc:\n",
        "    def __init__(self,name):\n",
        "        self.name= name\n",
        "        \n",
        "class pc:\n",
        "    def __init__(self,age):\n",
        "        self.age = age\n",
        "        \n",
        "class child(pc):\n",
        "    def __init__(self,age,marks):\n",
        "        super().__init__(age)\n",
        "        self.marks = marks\n",
        "        \n",
        "c = child(24,89)"
      ]
    },
    {
      "cell_type": "code",
      "execution_count": null,
      "metadata": {
        "colab": {
          "base_uri": "https://localhost:8080/"
        },
        "id": "ceSy-C1YF0a3",
        "outputId": "e7668d55-8db4-4182-bef1-261c133ab416"
      },
      "outputs": [
        {
          "data": {
            "text/plain": [
              "24"
            ]
          },
          "execution_count": 22,
          "metadata": {},
          "output_type": "execute_result"
        }
      ],
      "source": [
        "c.age"
      ]
    },
    {
      "cell_type": "code",
      "execution_count": null,
      "metadata": {
        "id": "4Hps0C8W3od5"
      },
      "outputs": [],
      "source": [
        "#wap make your parent class as empty class and also try to make a normal class\n",
        "# having some attributes related to students and try to find out the average\n",
        "# marks \n",
        "# of the student through the function itself and try to get the output of the \n",
        "# empty parent class normal class and the child class. \n",
        "\n",
        "class per:\n",
        "    pass\n",
        "per()\n",
        "\n",
        "class stu:\n",
        "    def __init__(self,name,age):\n",
        "        self.name = name\n",
        "        self.age = age\n",
        "        \n",
        "\n",
        "class child(stu):\n",
        "    def __init__(self,name,age,marks):\n",
        "        super().__init__(name,age)\n",
        "        self.marks = marks\n",
        "\n",
        "    def no_of_students(self,no_of_students):\n",
        "        avg_marks_of_students = self.marks/no_of_students\n",
        "        print(avg_marks_of_students)\n",
        "\n",
        "s = child(\"rana\",25,455)                               "
      ]
    },
    {
      "cell_type": "code",
      "execution_count": null,
      "metadata": {
        "colab": {
          "base_uri": "https://localhost:8080/"
        },
        "id": "RoTkErcf4BTx",
        "outputId": "eba61c50-3791-4dce-f1d6-cf105daa44ef"
      },
      "outputs": [
        {
          "data": {
            "text/plain": [
              "25"
            ]
          },
          "execution_count": 4,
          "metadata": {},
          "output_type": "execute_result"
        }
      ],
      "source": [
        "s.age"
      ]
    },
    {
      "cell_type": "code",
      "execution_count": null,
      "metadata": {
        "colab": {
          "base_uri": "https://localhost:8080/"
        },
        "id": "YMua6ZZi4FGa",
        "outputId": "25b6b4fd-8de1-4f31-97c6-562286621806"
      },
      "outputs": [
        {
          "name": "stdout",
          "output_type": "stream",
          "text": [
            "227.5\n"
          ]
        }
      ],
      "source": [
        "s.no_of_students(2)"
      ]
    },
    {
      "cell_type": "code",
      "execution_count": null,
      "metadata": {
        "colab": {
          "base_uri": "https://localhost:8080/"
        },
        "id": "SitzEcqFZ8iu",
        "outputId": "38247996-5cb6-45c6-9668-a46f29af50b5"
      },
      "outputs": [
        {
          "name": "stdout",
          "output_type": "stream",
          "text": [
            "A\n",
            "34\n"
          ]
        }
      ],
      "source": [
        "                     #  Encapsulation\n",
        "# public\n",
        "class student:\n",
        "    def info(self,name,age):\n",
        "        print(name)\n",
        "        print(age)\n",
        "        \n",
        "s= student()\n",
        "s.info('A',34)                     "
      ]
    },
    {
      "cell_type": "code",
      "execution_count": null,
      "metadata": {
        "colab": {
          "base_uri": "https://localhost:8080/",
          "height": 35
        },
        "id": "AfXHqyAmahOY",
        "outputId": "425a34a9-7503-4938-ac70-f217451444f9"
      },
      "outputs": [
        {
          "data": {
            "application/vnd.google.colaboratory.intrinsic+json": {
              "type": "string"
            },
            "text/plain": [
              "'A'"
            ]
          },
          "execution_count": 29,
          "metadata": {},
          "output_type": "execute_result"
        }
      ],
      "source": [
        "# private\n",
        "class std:\n",
        "    name = 'A'\n",
        "    __age = 34\n",
        "    \n",
        "s = std()\n",
        "s.name"
      ]
    },
    {
      "cell_type": "code",
      "execution_count": null,
      "metadata": {
        "colab": {
          "base_uri": "https://localhost:8080/",
          "height": 167
        },
        "id": "WN6awoA0bF0S",
        "outputId": "c0e04501-80ba-4462-9762-e0c4dfbf1b34"
      },
      "outputs": [
        {
          "ename": "AttributeError",
          "evalue": "ignored",
          "output_type": "error",
          "traceback": [
            "\u001b[0;31m---------------------------------------------------------------------------\u001b[0m",
            "\u001b[0;31mAttributeError\u001b[0m                            Traceback (most recent call last)",
            "\u001b[0;32m<ipython-input-30-023eb2836fd2>\u001b[0m in \u001b[0;36m<module>\u001b[0;34m()\u001b[0m\n\u001b[0;32m----> 1\u001b[0;31m \u001b[0ms\u001b[0m\u001b[0;34m.\u001b[0m\u001b[0mage\u001b[0m\u001b[0;34m\u001b[0m\u001b[0;34m\u001b[0m\u001b[0m\n\u001b[0m",
            "\u001b[0;31mAttributeError\u001b[0m: 'std' object has no attribute 'age'"
          ]
        }
      ],
      "source": [
        "s.age"
      ]
    },
    {
      "cell_type": "code",
      "execution_count": null,
      "metadata": {
        "colab": {
          "base_uri": "https://localhost:8080/",
          "height": 35
        },
        "id": "qc8BGywdangL",
        "outputId": "5f2234b3-1471-4c72-c25e-61e3c5d42fb8"
      },
      "outputs": [
        {
          "data": {
            "application/vnd.google.colaboratory.intrinsic+json": {
              "type": "string"
            },
            "text/plain": [
              "'john'"
            ]
          },
          "execution_count": 7,
          "metadata": {},
          "output_type": "execute_result"
        }
      ],
      "source": [
        "# protected\n",
        "class emp:\n",
        "    name = 'john'\n",
        "    __age = 45\n",
        "    _salary = 78000\n",
        "    \n",
        "e = emp()\n",
        "e.name"
      ]
    },
    {
      "cell_type": "code",
      "execution_count": null,
      "metadata": {
        "colab": {
          "base_uri": "https://localhost:8080/",
          "height": 167
        },
        "id": "CdELmqnBbU62",
        "outputId": "fbf9a0b7-365f-4f80-8adb-f2952b814d2c"
      },
      "outputs": [
        {
          "ename": "AttributeError",
          "evalue": "ignored",
          "output_type": "error",
          "traceback": [
            "\u001b[0;31m---------------------------------------------------------------------------\u001b[0m",
            "\u001b[0;31mAttributeError\u001b[0m                            Traceback (most recent call last)",
            "\u001b[0;32m<ipython-input-8-2d0bd5996799>\u001b[0m in \u001b[0;36m<module>\u001b[0;34m()\u001b[0m\n\u001b[0;32m----> 1\u001b[0;31m \u001b[0me\u001b[0m\u001b[0;34m.\u001b[0m\u001b[0mage\u001b[0m\u001b[0;34m\u001b[0m\u001b[0;34m\u001b[0m\u001b[0m\n\u001b[0m",
            "\u001b[0;31mAttributeError\u001b[0m: 'emp' object has no attribute 'age'"
          ]
        }
      ],
      "source": [
        "e.age"
      ]
    },
    {
      "cell_type": "code",
      "execution_count": null,
      "metadata": {
        "colab": {
          "base_uri": "https://localhost:8080/",
          "height": 167
        },
        "id": "D3azYIbObZBm",
        "outputId": "a1a8a9fe-a790-42d1-fc86-733b34926413"
      },
      "outputs": [
        {
          "ename": "AttributeError",
          "evalue": "ignored",
          "output_type": "error",
          "traceback": [
            "\u001b[0;31m---------------------------------------------------------------------------\u001b[0m",
            "\u001b[0;31mAttributeError\u001b[0m                            Traceback (most recent call last)",
            "\u001b[0;32m<ipython-input-9-05daba07a9a5>\u001b[0m in \u001b[0;36m<module>\u001b[0;34m()\u001b[0m\n\u001b[0;32m----> 1\u001b[0;31m \u001b[0me\u001b[0m\u001b[0;34m.\u001b[0m\u001b[0msalary\u001b[0m\u001b[0;34m\u001b[0m\u001b[0;34m\u001b[0m\u001b[0m\n\u001b[0m",
            "\u001b[0;31mAttributeError\u001b[0m: 'emp' object has no attribute 'salary'"
          ]
        }
      ],
      "source": [
        "e.salary"
      ]
    },
    {
      "cell_type": "code",
      "execution_count": null,
      "metadata": {
        "colab": {
          "base_uri": "https://localhost:8080/"
        },
        "id": "DrzG1Lm9beLd",
        "outputId": "3503edd3-9888-4947-fa43-bbfb567abcf4"
      },
      "outputs": [
        {
          "data": {
            "text/plain": [
              "78000"
            ]
          },
          "execution_count": 10,
          "metadata": {},
          "output_type": "execute_result"
        }
      ],
      "source": [
        "e._salary"
      ]
    },
    {
      "cell_type": "code",
      "execution_count": null,
      "metadata": {
        "colab": {
          "base_uri": "https://localhost:8080/"
        },
        "id": "vsfBHGEAblA9",
        "outputId": "9b98985c-bcbc-4397-d9e0-16180aff4df0"
      },
      "outputs": [
        {
          "name": "stdout",
          "output_type": "stream",
          "text": [
            "Jem\n",
            "34000\n",
            "121KSW\n"
          ]
        }
      ],
      "source": [
        "# variables\n",
        "\n",
        "#wap to make a function public private & protected.\n",
        "# public with function\n",
        "class emp:\n",
        "    def detail(self,name,salary,emp_id):\n",
        "        print(name)\n",
        "        print(salary)\n",
        "        print(emp_id)\n",
        "e = emp()\n",
        "e.detail('Jem',34000,'121KSW')"
      ]
    },
    {
      "cell_type": "code",
      "execution_count": null,
      "metadata": {
        "colab": {
          "base_uri": "https://localhost:8080/",
          "height": 202
        },
        "id": "j_V3310FcAND",
        "outputId": "05d8c59f-e67d-4752-d04e-f16dce9c4ddd"
      },
      "outputs": [
        {
          "ename": "AttributeError",
          "evalue": "ignored",
          "output_type": "error",
          "traceback": [
            "\u001b[0;31m---------------------------------------------------------------------------\u001b[0m",
            "\u001b[0;31mAttributeError\u001b[0m                            Traceback (most recent call last)",
            "\u001b[0;32m<ipython-input-32-480ec5f122f6>\u001b[0m in \u001b[0;36m<module>\u001b[0;34m()\u001b[0m\n\u001b[1;32m     10\u001b[0m \u001b[0;34m\u001b[0m\u001b[0m\n\u001b[1;32m     11\u001b[0m \u001b[0me\u001b[0m \u001b[0;34m=\u001b[0m \u001b[0memp\u001b[0m\u001b[0;34m(\u001b[0m\u001b[0;34m)\u001b[0m\u001b[0;34m\u001b[0m\u001b[0;34m\u001b[0m\u001b[0m\n\u001b[0;32m---> 12\u001b[0;31m \u001b[0me\u001b[0m\u001b[0;34m.\u001b[0m\u001b[0mdetail\u001b[0m\u001b[0;34m(\u001b[0m\u001b[0;34m'Jem'\u001b[0m\u001b[0;34m,\u001b[0m\u001b[0;36m34000\u001b[0m\u001b[0;34m,\u001b[0m\u001b[0;34m'121KSW'\u001b[0m\u001b[0;34m)\u001b[0m\u001b[0;34m\u001b[0m\u001b[0;34m\u001b[0m\u001b[0m\n\u001b[0m",
            "\u001b[0;31mAttributeError\u001b[0m: 'emp' object has no attribute 'detail'"
          ]
        }
      ],
      "source": [
        "# privet with function\n",
        "class emp:\n",
        "    def __detail(self,name,salary,emp_id):\n",
        "        print(name)\n",
        "        print(salary)\n",
        "        print(emp_id)\n",
        "                \n",
        "e = emp()\n",
        "e.detail('Jem',34000,'121KSW')"
      ]
    },
    {
      "cell_type": "code",
      "execution_count": null,
      "metadata": {
        "colab": {
          "base_uri": "https://localhost:8080/",
          "height": 202
        },
        "id": "VMGdK-ZNcFSP",
        "outputId": "e237eba2-b50c-42a8-8d50-5c85803fd3d4"
      },
      "outputs": [
        {
          "ename": "AttributeError",
          "evalue": "ignored",
          "output_type": "error",
          "traceback": [
            "\u001b[0;31m---------------------------------------------------------------------------\u001b[0m",
            "\u001b[0;31mAttributeError\u001b[0m                            Traceback (most recent call last)",
            "\u001b[0;32m<ipython-input-33-b63bc99802ed>\u001b[0m in \u001b[0;36m<module>\u001b[0;34m()\u001b[0m\n\u001b[1;32m      7\u001b[0m \u001b[0;34m\u001b[0m\u001b[0m\n\u001b[1;32m      8\u001b[0m \u001b[0me\u001b[0m \u001b[0;34m=\u001b[0m \u001b[0memp\u001b[0m\u001b[0;34m(\u001b[0m\u001b[0;34m)\u001b[0m\u001b[0;34m\u001b[0m\u001b[0;34m\u001b[0m\u001b[0m\n\u001b[0;32m----> 9\u001b[0;31m \u001b[0me\u001b[0m\u001b[0;34m.\u001b[0m\u001b[0mdetail\u001b[0m\u001b[0;34m(\u001b[0m\u001b[0;34m'Jem'\u001b[0m\u001b[0;34m,\u001b[0m\u001b[0;36m34000\u001b[0m\u001b[0;34m,\u001b[0m\u001b[0;34m'121KSW'\u001b[0m\u001b[0;34m)\u001b[0m\u001b[0;34m\u001b[0m\u001b[0;34m\u001b[0m\u001b[0m\n\u001b[0m",
            "\u001b[0;31mAttributeError\u001b[0m: 'emp' object has no attribute 'detail'"
          ]
        }
      ],
      "source": [
        "# protected with function\n",
        "class emp:\n",
        "    def _detail(self,name,salary,emp_id):\n",
        "        print(name)\n",
        "        print(salary)\n",
        "        print(emp_id)\n",
        "\n",
        "e = emp()\n",
        "e.detail('Jem',34000,'121KSW')"
      ]
    },
    {
      "cell_type": "code",
      "execution_count": null,
      "metadata": {
        "colab": {
          "base_uri": "https://localhost:8080/"
        },
        "id": "_l2z41ercU0b",
        "outputId": "4e251252-91e8-4234-9f39-41f291a24e95"
      },
      "outputs": [
        {
          "name": "stdout",
          "output_type": "stream",
          "text": [
            "Jem\n",
            "34000\n",
            "121KSW\n"
          ]
        }
      ],
      "source": [
        "# unprotected with function\n",
        "class emp:\n",
        "    def _detail(self,name,salary,emp_id):\n",
        "        print(name)\n",
        "        print(salary)\n",
        "        print(emp_id)\n",
        "        \n",
        "        \n",
        "\n",
        "        \n",
        "e = emp()\n",
        "e._detail('Jem',34000,'121KSW')"
      ]
    },
    {
      "cell_type": "code",
      "execution_count": null,
      "metadata": {
        "id": "wXrHxru9dQE5"
      },
      "outputs": [],
      "source": [
        "                  # Polymorphism\n",
        "# Overloading----->\n",
        "\n",
        "# 1. operator overloading   ------> +\n",
        "# 2. method overloading\n",
        "                  "
      ]
    },
    {
      "cell_type": "code",
      "execution_count": null,
      "metadata": {
        "colab": {
          "base_uri": "https://localhost:8080/"
        },
        "id": "ZKldwJ8cdZdO",
        "outputId": "5c8fb03e-3a06-45c6-834f-14d2e392507b"
      },
      "outputs": [
        {
          "data": {
            "text/plain": [
              "3"
            ]
          },
          "execution_count": 36,
          "metadata": {},
          "output_type": "execute_result"
        }
      ],
      "source": [
        "# 1. operator overloading  -------> +\n",
        "# two type of addetion\n",
        "# 1=>\n",
        "a = 1\n",
        "b = 2\n",
        "c = a+b\n",
        "c"
      ]
    },
    {
      "cell_type": "code",
      "execution_count": null,
      "metadata": {
        "colab": {
          "base_uri": "https://localhost:8080/"
        },
        "id": "aDg2dv7bd22J",
        "outputId": "81fd37fc-9c51-49fa-be71-af80a2715b7a"
      },
      "outputs": [
        {
          "name": "stdout",
          "output_type": "stream",
          "text": [
            "12\n"
          ]
        }
      ],
      "source": [
        "# 2=>\n",
        "a = '1'\n",
        "b = '2'\n",
        "c = a+b\n",
        "print(c)"
      ]
    },
    {
      "cell_type": "code",
      "execution_count": null,
      "metadata": {
        "colab": {
          "base_uri": "https://localhost:8080/"
        },
        "id": "-BOCiLDZeQPT",
        "outputId": "ed141363-66e9-4a00-bbb5-6e75306d7d13"
      },
      "outputs": [
        {
          "data": {
            "text/plain": [
              "3"
            ]
          },
          "execution_count": 38,
          "metadata": {},
          "output_type": "execute_result"
        }
      ],
      "source": [
        "# 2-> method overloading......\n",
        "\n",
        "def x(a,b=9):\n",
        "    result = a+b\n",
        "    return result\n",
        "x(1,2)"
      ]
    },
    {
      "cell_type": "code",
      "execution_count": null,
      "metadata": {
        "colab": {
          "base_uri": "https://localhost:8080/"
        },
        "id": "1L8tvsd3eoM2",
        "outputId": "fd7966b1-65e9-4757-e1ce-3f754ff0017d"
      },
      "outputs": [
        {
          "data": {
            "text/plain": [
              "14"
            ]
          },
          "execution_count": 39,
          "metadata": {},
          "output_type": "execute_result"
        }
      ],
      "source": [
        "x(6,8)"
      ]
    },
    {
      "cell_type": "code",
      "execution_count": null,
      "metadata": {
        "colab": {
          "base_uri": "https://localhost:8080/"
        },
        "id": "SL-eD6-deqd5",
        "outputId": "b3b3eeac-e983-485c-8fd2-3327ee83e3e8"
      },
      "outputs": [
        {
          "data": {
            "text/plain": [
              "13"
            ]
          },
          "execution_count": 40,
          "metadata": {},
          "output_type": "execute_result"
        }
      ],
      "source": [
        "x(4)"
      ]
    },
    {
      "cell_type": "code",
      "execution_count": null,
      "metadata": {
        "colab": {
          "base_uri": "https://localhost:8080/"
        },
        "id": "AT5bzRRDjKS5",
        "outputId": "f9a4576f-6bdc-4af0-9ea5-86067b26a656"
      },
      "outputs": [
        {
          "data": {
            "text/plain": [
              "3"
            ]
          },
          "execution_count": 41,
          "metadata": {},
          "output_type": "execute_result"
        }
      ],
      "source": [
        "# # try to implement these code in class and object.\n",
        "class add:\n",
        "    def x(self,a,b=9):\n",
        "        c = a+b\n",
        "        return c\n",
        "a=add()    \n",
        "a.x(1,2)"
      ]
    },
    {
      "cell_type": "code",
      "execution_count": null,
      "metadata": {
        "colab": {
          "base_uri": "https://localhost:8080/",
          "height": 237
        },
        "id": "X3HmG-t5et5S",
        "outputId": "8b56af91-235a-4a71-acb5-f186727636bc"
      },
      "outputs": [
        {
          "ename": "TypeError",
          "evalue": "ignored",
          "output_type": "error",
          "traceback": [
            "\u001b[0;31m---------------------------------------------------------------------------\u001b[0m",
            "\u001b[0;31mTypeError\u001b[0m                                 Traceback (most recent call last)",
            "\u001b[0;32m<ipython-input-42-d2b7704978d5>\u001b[0m in \u001b[0;36m<module>\u001b[0;34m()\u001b[0m\n\u001b[1;32m     15\u001b[0m         \u001b[0mprint\u001b[0m\u001b[0;34m(\u001b[0m\u001b[0;34m\"Batman\"\u001b[0m\u001b[0;34m)\u001b[0m\u001b[0;34m\u001b[0m\u001b[0;34m\u001b[0m\u001b[0m\n\u001b[1;32m     16\u001b[0m \u001b[0;34m\u001b[0m\u001b[0m\n\u001b[0;32m---> 17\u001b[0;31m \u001b[0mx\u001b[0m \u001b[0;34m=\u001b[0m \u001b[0ma\u001b[0m\u001b[0;34m(\u001b[0m\u001b[0;34m)\u001b[0m\u001b[0;34m\u001b[0m\u001b[0;34m\u001b[0m\u001b[0m\n\u001b[0m\u001b[1;32m     18\u001b[0m \u001b[0mx\u001b[0m\u001b[0;34m.\u001b[0m\u001b[0mdetail\u001b[0m\u001b[0;34m(\u001b[0m\u001b[0;34m)\u001b[0m\u001b[0;34m\u001b[0m\u001b[0;34m\u001b[0m\u001b[0m\n\u001b[1;32m     19\u001b[0m \u001b[0mx\u001b[0m\u001b[0;34m.\u001b[0m\u001b[0minfo\u001b[0m\u001b[0;34m(\u001b[0m\u001b[0;34m)\u001b[0m\u001b[0;34m\u001b[0m\u001b[0;34m\u001b[0m\u001b[0m\n",
            "\u001b[0;31mTypeError\u001b[0m: Can't instantiate abstract class a with abstract methods info"
          ]
        }
      ],
      "source": [
        "                         # Abstraction\n",
        "\n",
        "from abc import ABC,abstractmethod\n",
        "\n",
        "class a(ABC):\n",
        "    @abstractmethod\n",
        "    def info(self):\n",
        "        print(\"hello\")\n",
        "    \n",
        "class b:\n",
        "    def detail(self):\n",
        "        print(\"Hello iron man\")\n",
        "class c(b):\n",
        "    def information(self):\n",
        "        print(\"Batman\")\n",
        "        \n",
        "x = a()\n",
        "x.detail()\n",
        "x.info()"
      ]
    },
    {
      "cell_type": "code",
      "execution_count": null,
      "metadata": {
        "colab": {
          "base_uri": "https://localhost:8080/"
        },
        "id": "8vUbq0c7vFo6",
        "outputId": "a7e1a876-eddb-4155-ecb2-76878aaf6b93"
      },
      "outputs": [
        {
          "data": {
            "text/plain": [
              "7"
            ]
          },
          "execution_count": 1,
          "metadata": {},
          "output_type": "execute_result"
        }
      ],
      "source": [
        "                      # advance function\n",
        "# Lambda Function\n",
        "def fun(a,b):\n",
        "    result = a+b\n",
        "    return result\n",
        "\n",
        "fun(3,4)\n",
        "    "
      ]
    },
    {
      "cell_type": "code",
      "execution_count": null,
      "metadata": {
        "colab": {
          "base_uri": "https://localhost:8080/",
          "height": 185
        },
        "id": "931uxBR0yZPO",
        "outputId": "2b5e31dc-a249-49d0-c3bd-cfc44f91839f"
      },
      "outputs": [
        {
          "ename": "NameError",
          "evalue": "ignored",
          "output_type": "error",
          "traceback": [
            "\u001b[0;31m---------------------------------------------------------------------------\u001b[0m",
            "\u001b[0;31mNameError\u001b[0m                                 Traceback (most recent call last)",
            "\u001b[0;32m<ipython-input-2-a14b92d745e4>\u001b[0m in \u001b[0;36m<module>\u001b[0;34m()\u001b[0m\n\u001b[0;32m----> 1\u001b[0;31m \u001b[0ma\u001b[0m \u001b[0;34m=\u001b[0m \u001b[0;32mlambda\u001b[0m \u001b[0mx\u001b[0m\u001b[0;34m,\u001b[0m\u001b[0my\u001b[0m\u001b[0;34m:\u001b[0m\u001b[0mx\u001b[0m\u001b[0;34m+\u001b[0m\u001b[0my\u001b[0m\u001b[0;34m,\u001b[0m\u001b[0mx\u001b[0m\u001b[0;34m-\u001b[0m\u001b[0my\u001b[0m\u001b[0;34m\u001b[0m\u001b[0;34m\u001b[0m\u001b[0m\n\u001b[0m\u001b[1;32m      2\u001b[0m \u001b[0ma\u001b[0m\u001b[0;34m(\u001b[0m\u001b[0;36m3\u001b[0m\u001b[0;34m,\u001b[0m\u001b[0;36m4\u001b[0m\u001b[0;34m)\u001b[0m\u001b[0;34m\u001b[0m\u001b[0;34m\u001b[0m\u001b[0m\n",
            "\u001b[0;31mNameError\u001b[0m: name 'x' is not defined"
          ]
        }
      ],
      "source": [
        "a = lambda x,y:x+y,x-y\n",
        "a(3,4)"
      ]
    },
    {
      "cell_type": "code",
      "execution_count": null,
      "metadata": {
        "colab": {
          "base_uri": "https://localhost:8080/"
        },
        "id": "_9-OtYWdyiIv",
        "outputId": "901a9726-d3d7-4946-b85f-11a23effd15a"
      },
      "outputs": [
        {
          "data": {
            "text/plain": [
              "6"
            ]
          },
          "execution_count": 3,
          "metadata": {},
          "output_type": "execute_result"
        }
      ],
      "source": [
        "#wap to add a number with the help of lambda function.\n",
        "c = lambda x:x+4\n",
        "c(2)"
      ]
    },
    {
      "cell_type": "code",
      "execution_count": null,
      "metadata": {
        "colab": {
          "base_uri": "https://localhost:8080/"
        },
        "id": "HX0bjYwlytWO",
        "outputId": "7e09c7b7-ad57-4c79-845f-6c0fd5098c9d"
      },
      "outputs": [
        {
          "data": {
            "text/plain": [
              "6"
            ]
          },
          "execution_count": 4,
          "metadata": {},
          "output_type": "execute_result"
        }
      ],
      "source": [
        "a = lambda x,y,z : x+y*z-x\n",
        "a(1,2,3)"
      ]
    },
    {
      "cell_type": "code",
      "execution_count": null,
      "metadata": {
        "colab": {
          "base_uri": "https://localhost:8080/"
        },
        "id": "iMZsZJWfy0t_",
        "outputId": "067116eb-93a0-4107-a781-667904575585"
      },
      "outputs": [
        {
          "name": "stdout",
          "output_type": "stream",
          "text": [
            "67\n",
            "90\n",
            "78\n",
            "99\n"
          ]
        }
      ],
      "source": [
        "# filter \n",
        "\n",
        "a = [23,67,90,34,78,45,55,99,21]\n",
        "for i in a:\n",
        "    if i>=60:\n",
        "        print(i)"
      ]
    },
    {
      "cell_type": "code",
      "execution_count": null,
      "metadata": {
        "colab": {
          "base_uri": "https://localhost:8080/"
        },
        "id": "DwjiYfvYy3Bz",
        "outputId": "7a84374c-83fd-45c0-9b50-452996c6a30a"
      },
      "outputs": [
        {
          "name": "stdout",
          "output_type": "stream",
          "text": [
            "67\n",
            "90\n",
            "78\n",
            "99\n"
          ]
        }
      ],
      "source": [
        "def fun():\n",
        "    a = [23,67,90,34,78,45,55,99,21]\n",
        "    for i in a:\n",
        "        if i>=60:\n",
        "            print(i)\n",
        "            \n",
        "fun()"
      ]
    },
    {
      "cell_type": "code",
      "execution_count": null,
      "metadata": {
        "colab": {
          "base_uri": "https://localhost:8080/"
        },
        "id": "bgwELEl4zGph",
        "outputId": "e42fbe9d-f627-4b6f-eea3-6ff8fcd901bd"
      },
      "outputs": [
        {
          "name": "stdout",
          "output_type": "stream",
          "text": [
            "[67, 90, 78, 99, 67]\n"
          ]
        }
      ],
      "source": [
        "# function + filter function\n",
        "a = [23,67,90,34,78,45,55,99,21,67]\n",
        "\n",
        "def fun(a):\n",
        "    if a>=60:\n",
        "        return True\n",
        "    else:\n",
        "        return False\n",
        "    \n",
        "x = list(filter(fun,a))\n",
        "print(x)"
      ]
    },
    {
      "cell_type": "code",
      "execution_count": null,
      "metadata": {
        "colab": {
          "base_uri": "https://localhost:8080/"
        },
        "id": "e8NDkg99zMYx",
        "outputId": "5dcb42ed-e53d-45ce-c32e-c903cde1b947"
      },
      "outputs": [
        {
          "data": {
            "text/plain": [
              "[67, 90, 78, 99, 67]"
            ]
          },
          "execution_count": 8,
          "metadata": {},
          "output_type": "execute_result"
        }
      ],
      "source": [
        "x"
      ]
    },
    {
      "cell_type": "code",
      "execution_count": null,
      "metadata": {
        "id": "4jq8LNuLzXND"
      },
      "outputs": [],
      "source": [
        "x[0]=100"
      ]
    },
    {
      "cell_type": "code",
      "execution_count": null,
      "metadata": {
        "colab": {
          "base_uri": "https://localhost:8080/"
        },
        "id": "dDcvGcj8zaen",
        "outputId": "68cc1a6a-57be-4062-9926-5306359f15de"
      },
      "outputs": [
        {
          "data": {
            "text/plain": [
              "[100, 90, 78, 99, 67]"
            ]
          },
          "execution_count": 10,
          "metadata": {},
          "output_type": "execute_result"
        }
      ],
      "source": [
        "x"
      ]
    },
    {
      "cell_type": "code",
      "execution_count": null,
      "metadata": {
        "colab": {
          "base_uri": "https://localhost:8080/"
        },
        "id": "UbQQ4b1DzebV",
        "outputId": "12c74cc1-123d-4c11-ff50-cdb90670a6e1"
      },
      "outputs": [
        {
          "data": {
            "text/plain": [
              "(67, 90, 78, 99, 67)"
            ]
          },
          "execution_count": 11,
          "metadata": {},
          "output_type": "execute_result"
        }
      ],
      "source": [
        "# lambda + filter function\n",
        "\n",
        "a = [23,67,90,34,78,45,55,99,21,67]\n",
        "tuple(filter(lambda a:True if a>=60 else False,a))"
      ]
    },
    {
      "cell_type": "code",
      "execution_count": null,
      "metadata": {
        "colab": {
          "base_uri": "https://localhost:8080/"
        },
        "id": "SFz6e5FHzonu",
        "outputId": "21b95146-fe86-451f-e44e-7f9d5d5f75c8"
      },
      "outputs": [
        {
          "name": "stdout",
          "output_type": "stream",
          "text": [
            "(67, 90, 78, 99, 67)\n"
          ]
        }
      ],
      "source": [
        "a = [23,67,90,34,78,45,55,99,21,67]\n",
        "x = tuple(filter(lambda a:True if a>=60 else False,a))\n",
        "print(x)"
      ]
    },
    {
      "cell_type": "code",
      "execution_count": null,
      "metadata": {
        "colab": {
          "base_uri": "https://localhost:8080/"
        },
        "id": "BO-OPeCSzz6l",
        "outputId": "6ca88eba-c98c-48b1-9a9b-32a557131927"
      },
      "outputs": [
        {
          "data": {
            "text/plain": [
              "20"
            ]
          },
          "execution_count": 13,
          "metadata": {},
          "output_type": "execute_result"
        }
      ],
      "source": [
        "# 1.Write a Python program to create a lambda function that adds 15 \n",
        "# to a given number passed in as an argument, also create a lambda \n",
        "# function that multiplies argument x with argument y and \n",
        "# print the result.\n",
        "\n",
        "\n",
        "a = lambda x:x+15\n",
        "a(5)"
      ]
    },
    {
      "cell_type": "code",
      "execution_count": null,
      "metadata": {
        "colab": {
          "base_uri": "https://localhost:8080/"
        },
        "id": "l7lzT5-Dz9nT",
        "outputId": "669d008e-cb57-4343-f5bb-033de9978a08"
      },
      "outputs": [
        {
          "data": {
            "text/plain": [
              "70"
            ]
          },
          "execution_count": 14,
          "metadata": {},
          "output_type": "execute_result"
        }
      ],
      "source": [
        "result = lambda x,y:x*y\n",
        "result(14,5)"
      ]
    },
    {
      "cell_type": "code",
      "execution_count": null,
      "metadata": {
        "id": "jfDk-Wag0B-H"
      },
      "outputs": [],
      "source": [
        "# map function\n",
        "\n",
        "a = [2,5,7,9]\n",
        "\n",
        "z = list(map(lambda x:x**2,a))"
      ]
    },
    {
      "cell_type": "code",
      "execution_count": null,
      "metadata": {
        "colab": {
          "base_uri": "https://localhost:8080/"
        },
        "id": "yTjWhJxr5j17",
        "outputId": "d4bcca76-05c8-4295-ffce-fb048733944c"
      },
      "outputs": [
        {
          "name": "stdout",
          "output_type": "stream",
          "text": [
            "[4, 25, 49, 81]\n"
          ]
        }
      ],
      "source": [
        "print(z)"
      ]
    },
    {
      "cell_type": "code",
      "execution_count": null,
      "metadata": {
        "colab": {
          "base_uri": "https://localhost:8080/"
        },
        "id": "XwJcmJK65qVr",
        "outputId": "574cabc2-45b0-40db-9ef7-7cbea96c28b8"
      },
      "outputs": [
        {
          "data": {
            "text/plain": [
              "[7, 10, 12, 14]"
            ]
          },
          "execution_count": 3,
          "metadata": {},
          "output_type": "execute_result"
        }
      ],
      "source": [
        "a = [2,5,7,9]\n",
        "list(map(lambda x:x+5,a))"
      ]
    },
    {
      "cell_type": "code",
      "execution_count": null,
      "metadata": {
        "id": "2PMLJ-Ag5wrM"
      },
      "outputs": [],
      "source": [
        "# reduce function.\n",
        "from functools import reduce"
      ]
    },
    {
      "cell_type": "code",
      "execution_count": null,
      "metadata": {
        "colab": {
          "base_uri": "https://localhost:8080/"
        },
        "id": "vgD1x_A-5270",
        "outputId": "5127de31-6755-4a89-c962-d7f587674bcf"
      },
      "outputs": [
        {
          "data": {
            "text/plain": [
              "701"
            ]
          },
          "execution_count": 5,
          "metadata": {},
          "output_type": "execute_result"
        }
      ],
      "source": [
        "a = [23,56,89,23,56,78,12,45,90,99,7,43,34,12,34]\n",
        "reduce(lambda x,y:x+y,a)"
      ]
    },
    {
      "cell_type": "code",
      "execution_count": null,
      "metadata": {
        "colab": {
          "base_uri": "https://localhost:8080/",
          "height": 186
        },
        "id": "rozoAie16Uxa",
        "outputId": "8c3e3ee7-f19e-4179-c6f3-2bbf6f88613e"
      },
      "outputs": [
        {
          "ename": "TypeError",
          "evalue": "ignored",
          "output_type": "error",
          "traceback": [
            "\u001b[0;31m---------------------------------------------------------------------------\u001b[0m",
            "\u001b[0;31mTypeError\u001b[0m                                 Traceback (most recent call last)",
            "\u001b[0;32m<ipython-input-6-ec6605df05d6>\u001b[0m in \u001b[0;36m<module>\u001b[0;34m()\u001b[0m\n\u001b[1;32m      1\u001b[0m \u001b[0ma\u001b[0m \u001b[0;34m=\u001b[0m \u001b[0;34m[\u001b[0m\u001b[0;36m1\u001b[0m\u001b[0;34m,\u001b[0m\u001b[0;36m2\u001b[0m\u001b[0;34m,\u001b[0m\u001b[0;36m3\u001b[0m\u001b[0;34m,\u001b[0m\u001b[0;36m4\u001b[0m\u001b[0;34m]\u001b[0m\u001b[0;34m\u001b[0m\u001b[0;34m\u001b[0m\u001b[0m\n\u001b[0;32m----> 2\u001b[0;31m \u001b[0mlist\u001b[0m\u001b[0;34m(\u001b[0m\u001b[0mmap\u001b[0m\u001b[0;34m(\u001b[0m\u001b[0;32mlambda\u001b[0m \u001b[0mx\u001b[0m\u001b[0;34m,\u001b[0m\u001b[0my\u001b[0m\u001b[0;34m,\u001b[0m\u001b[0mz\u001b[0m\u001b[0;34m:\u001b[0m\u001b[0mx\u001b[0m\u001b[0;34m+\u001b[0m\u001b[0my\u001b[0m\u001b[0;34m+\u001b[0m\u001b[0mz\u001b[0m\u001b[0;34m,\u001b[0m\u001b[0ma\u001b[0m\u001b[0;34m)\u001b[0m\u001b[0;34m)\u001b[0m\u001b[0;34m\u001b[0m\u001b[0;34m\u001b[0m\u001b[0m\n\u001b[0m",
            "\u001b[0;31mTypeError\u001b[0m: <lambda>() missing 2 required positional arguments: 'y' and 'z'"
          ]
        }
      ],
      "source": [
        "a = [1,2,3,4]\n",
        "list(map(lambda x,y,z:x+y+z,a))"
      ]
    },
    {
      "cell_type": "code",
      "execution_count": null,
      "metadata": {
        "colab": {
          "base_uri": "https://localhost:8080/"
        },
        "id": "YWxfBdc761Hw",
        "outputId": "87797929-4de4-4edd-91b5-b93012d69592"
      },
      "outputs": [
        {
          "name": "stdout",
          "output_type": "stream",
          "text": [
            "678\n",
            "<class 'int'>\n"
          ]
        }
      ],
      "source": [
        "a = [23,56,89,56,78,12,45,90,99,7,43,34,12,34]\n",
        "z = reduce(lambda x,y:x+y,a)\n",
        "print(z)\n",
        "print(type(z))"
      ]
    },
    {
      "cell_type": "code",
      "source": [
        "#                    questions\n",
        "\n",
        "#2.Write a Python program to create a function that takes one argument, \n",
        "#and that argument will be multiplied with an unknown given number. \n",
        "\n",
        "#Sample Output:\n",
        "#Double the number of 15 = 30\n",
        "#Triple the number of 15 = 45\n",
        "#Quadruple the number of 15 = 60\n",
        "#Quintuple the number 15 = 75\n",
        "\n",
        "#3. Write a Python program to filter a list of integers using Lambda.\n",
        " \n",
        "#Original list of integers:\n",
        "#[1, 2, 3, 4, 5, 6, 7, 8, 9, 10]\n",
        "#Even numbers from the said list:\n",
        "#[2, 4, 6, 8, 10]\n",
        "#Odd numbers from the said list:\n",
        "#[1, 3, 5, 7, 9]\n",
        "\n",
        "#4.Write a Python program to check whether a given string is number \n",
        "#or not using Lambda.\n",
        "\n",
        "#5.Write a Python program to count the even, odd numbers in a given\n",
        "#list of integers using Lambda.\n",
        "#Original list:\n",
        "#[1, 2, 3, 5, 7, 8, 9, 10]\n",
        "\n",
        "#6.Write a Python program to add two given lists using map and lambda. \n",
        "#Original list:\n",
        "#[1, 2, 3]\n",
        "#[4, 5, 6]\n",
        "#Result: after adding two list\n",
        "#[5, 7, 9]\n",
        "\n",
        "#7.Write a Python program to find numbers divisible by nineteen or \n",
        "#thirteen from a list of numbers using Lambda.\n",
        "#Orginal list:\n",
        "#[19, 65, 57, 39, 152, 639, 121, 44, 90, 190]\n",
        "#Numbers of the above list divisible by nineteen or thirteen:\n",
        "#[19, 65, 57, 39, 152, 190]\n",
        "\n",
        "#8.Write a Python program that multiply each number of given list \n",
        "#with a given number using lambda function. Print the result.\n",
        "#Original list: [2, 4, 6, 9, 11]\n",
        "#Given number: 2\n",
        "\n",
        "#9->Write a Python program to triple \n",
        "#all numbers of a given list of integers. \n",
        "#Use Python map\n",
        "\n",
        "#10->Write a Python program to add three \n",
        "#given lists using Python map and lambda. \n",
        "\n",
        "#11-> Write a Python program to square the \n",
        "#elements of a list using map() function. \n",
        "\n",
        "#12=wap a program to find the average of 5 numbers using lamda \n",
        "# function.\n",
        "\n",
        "# 13=>Wap to find the max and min of 3 numbers and find their average\n",
        "# with the help of lamda function."
      ],
      "metadata": {
        "id": "yM19H9Hzy0Ru"
      },
      "execution_count": null,
      "outputs": []
    },
    {
      "cell_type": "code",
      "source": [
        "#2.Write a Python program to create a function that takes one argument, \n",
        "#and that argument will be multiplied with an unknown given number. \n",
        "\n",
        "#Sample Output:\n",
        "#Double the number of 15 = 30\n",
        "#Triple the number of 15 = 45\n",
        "#Quadruple the number of 15 = 60\n",
        "#Quintuple the number 15 = 75\n",
        "\n",
        "a= lambda x:x*15\n",
        "a(2)"
      ],
      "metadata": {
        "colab": {
          "base_uri": "https://localhost:8080/"
        },
        "id": "yBgJjqyk_2bk",
        "outputId": "d7827b41-cd29-456f-f875-d7d6ea5df641"
      },
      "execution_count": null,
      "outputs": [
        {
          "output_type": "execute_result",
          "data": {
            "text/plain": [
              "30"
            ]
          },
          "metadata": {},
          "execution_count": 1
        }
      ]
    },
    {
      "cell_type": "code",
      "source": [
        "a= lambda x:x*15\n",
        "a(3)"
      ],
      "metadata": {
        "colab": {
          "base_uri": "https://localhost:8080/"
        },
        "id": "xi8gUVOaARxJ",
        "outputId": "499bd140-143e-4acf-f144-8591f07a7ecd"
      },
      "execution_count": null,
      "outputs": [
        {
          "output_type": "execute_result",
          "data": {
            "text/plain": [
              "45"
            ]
          },
          "metadata": {},
          "execution_count": 4
        }
      ]
    },
    {
      "cell_type": "code",
      "source": [
        "a= lambda x:x*15\n",
        "a(4)"
      ],
      "metadata": {
        "colab": {
          "base_uri": "https://localhost:8080/"
        },
        "id": "Mih87O14AlKM",
        "outputId": "a8449c09-6985-4264-ffc3-735d0ffe9291"
      },
      "execution_count": null,
      "outputs": [
        {
          "output_type": "execute_result",
          "data": {
            "text/plain": [
              "60"
            ]
          },
          "metadata": {},
          "execution_count": 5
        }
      ]
    },
    {
      "cell_type": "code",
      "source": [
        "a = lambda x:x*15\n",
        "a(5)"
      ],
      "metadata": {
        "colab": {
          "base_uri": "https://localhost:8080/"
        },
        "id": "DY0EFevGAsw-",
        "outputId": "8659b847-a697-4a1f-e3aa-85a2979106bc"
      },
      "execution_count": null,
      "outputs": [
        {
          "output_type": "execute_result",
          "data": {
            "text/plain": [
              "75"
            ]
          },
          "metadata": {},
          "execution_count": 6
        }
      ]
    },
    {
      "cell_type": "code",
      "source": [
        "#3. Write a Python program to filter a list of integers using Lambda.\n",
        " \n",
        "#Original list of integers:\n",
        "#[1, 2, 3, 4, 5, 6, 7, 8, 9, 10]\n",
        "#Even numbers from the said list:\n",
        "#[2, 4, 6, 8, 10]\n",
        "#Odd numbers from the said list:\n",
        "#[1, 3, 5, 7, 9]\n",
        "p = [1, 2, 3, 4, 5, 6, 7, 8, 9, 10]"
      ],
      "metadata": {
        "id": "vGQAU-KaA8hX"
      },
      "execution_count": null,
      "outputs": []
    },
    {
      "cell_type": "code",
      "source": [
        "p=[1, 2, 3, 4, 5, 6, 7, 8, 9,10 ]\n",
        "even_num=list(filter(lambda x:True if x%2==0 else False ,p))\n",
        "print(even_num)"
      ],
      "metadata": {
        "colab": {
          "base_uri": "https://localhost:8080/"
        },
        "id": "10Rj3doeDvW6",
        "outputId": "4df7f0d5-3d6d-40d7-cbcd-c7201be65fb1"
      },
      "execution_count": null,
      "outputs": [
        {
          "output_type": "stream",
          "name": "stdout",
          "text": [
            "[2, 4, 6, 8, 10]\n"
          ]
        }
      ]
    },
    {
      "cell_type": "code",
      "source": [
        "p=[1, 2, 3, 4, 5, 6, 7, 8, 9 ]\n",
        "odd_num=list(filter(lambda x:True if x%2!=0 else False ,p))\n",
        "print(odd_num)"
      ],
      "metadata": {
        "colab": {
          "base_uri": "https://localhost:8080/"
        },
        "id": "ETYiiOtbDR8S",
        "outputId": "e713cec6-63a6-4371-997b-1ea31ca1ac0e"
      },
      "execution_count": null,
      "outputs": [
        {
          "output_type": "stream",
          "name": "stdout",
          "text": [
            "[1, 3, 5, 7, 9]\n"
          ]
        }
      ]
    },
    {
      "cell_type": "code",
      "source": [
        "#4.Write a Python program to check whether a given string is number \n",
        "#or not using Lambda.\n",
        "a='123'\n",
        "print(a)\n",
        "print(type(a))"
      ],
      "metadata": {
        "colab": {
          "base_uri": "https://localhost:8080/"
        },
        "id": "bqJNImTcH2lS",
        "outputId": "d835b55a-c5cb-48c8-af17-5d00f1a8fbe3"
      },
      "execution_count": null,
      "outputs": [
        {
          "output_type": "stream",
          "name": "stdout",
          "text": [
            "123\n",
            "<class 'str'>\n"
          ]
        }
      ]
    },
    {
      "cell_type": "code",
      "source": [
        "#5.Write a Python program to count the even, odd numbers in a given\n",
        "#list of integers using Lambda.\n",
        "#Original list:\n",
        "#[1, 2, 3, 5, 7, 8, 9, 10]\n",
        "\n",
        "list_nums=[1,2,3,4,5,6,7,8,9,10]\n",
        "odd_no = len(list(filter(lambda x: (x%2 != 0) , list_nums)))\n",
        "even_no =len(list(filter(lambda x: (x%2 == 0) ,list_nums)))\n",
        "print(odd_no)\n",
        "print(even_no)\n"
      ],
      "metadata": {
        "colab": {
          "base_uri": "https://localhost:8080/"
        },
        "id": "l-cUXI_HISDW",
        "outputId": "0ea870d6-77b8-4396-9ed3-86775419af32"
      },
      "execution_count": null,
      "outputs": [
        {
          "output_type": "stream",
          "name": "stdout",
          "text": [
            "5\n",
            "5\n"
          ]
        }
      ]
    },
    {
      "cell_type": "code",
      "source": [
        "#6.Write a Python program to add two given lists using map and lambda. \n",
        "#Original list:\n",
        "#[1, 2, 3]\n",
        "#[4, 5, 6]\n",
        "#Result: after adding two list\n",
        "#[5, 7, 9]\n",
        "a =[1,2,3]\n",
        "b =[4,5,6]\n",
        "list(map(lambda x,y:x+y,a,b))\n"
      ],
      "metadata": {
        "colab": {
          "base_uri": "https://localhost:8080/"
        },
        "id": "FR8Rd845NGh8",
        "outputId": "ae5fb9ac-f951-4b11-ebab-844471e46621"
      },
      "execution_count": null,
      "outputs": [
        {
          "output_type": "execute_result",
          "data": {
            "text/plain": [
              "[5, 7, 9]"
            ]
          },
          "metadata": {},
          "execution_count": 139
        }
      ]
    },
    {
      "cell_type": "code",
      "source": [
        "##7.Write a Python program to find numbers divisible by nineteen or \n",
        "#thirteen from a list of numbers using Lambda.\n",
        "#Orginal list:\n",
        "#[19, 65, 57, 39, 152, 639, 121, 44, 90, 190]\n",
        "#Numbers of the above list divisible by nineteen or thirteen:\n",
        "#[19, 65, 57, 39, 152, 190]\n",
        "\n",
        "a = [19, 65, 57, 39, 152, 639, 121, 44, 90, 190]\n",
        "\n",
        "z = list(filter(lambda x:(x % 19 == 0 or x % 13 == 0),a))\n"
      ],
      "metadata": {
        "id": "LX8uSxKWOAEv"
      },
      "execution_count": null,
      "outputs": []
    },
    {
      "cell_type": "code",
      "source": [
        "print(z)"
      ],
      "metadata": {
        "colab": {
          "base_uri": "https://localhost:8080/"
        },
        "id": "CTFB_qI_VCbb",
        "outputId": "029c3779-106d-4110-ee9d-8e1414eeccda"
      },
      "execution_count": null,
      "outputs": [
        {
          "output_type": "stream",
          "name": "stdout",
          "text": [
            "[19, 65, 57, 39, 152, 190]\n"
          ]
        }
      ]
    },
    {
      "cell_type": "code",
      "source": [
        "#8.Write a Python program that multiply each number of given list \n",
        "#with a given number using lambda function. Print the result.\n",
        "#Original list: [2, 4, 6, 9, 11]\n",
        "#Given number: 2\n",
        "\n",
        "num = [2,4,6,9,11]\n",
        "z = list(map(lambda x:x*2,num))\n"
      ],
      "metadata": {
        "id": "vOy0nIuiZN0e"
      },
      "execution_count": null,
      "outputs": []
    },
    {
      "cell_type": "code",
      "source": [
        "print(x)"
      ],
      "metadata": {
        "colab": {
          "base_uri": "https://localhost:8080/"
        },
        "id": "i7UIbuGWuj8K",
        "outputId": "4f399014-92cc-457a-fca6-5a91a76399a0"
      },
      "execution_count": null,
      "outputs": [
        {
          "output_type": "stream",
          "name": "stdout",
          "text": [
            "[4, 8, 12, 18, 22]\n"
          ]
        }
      ]
    },
    {
      "cell_type": "code",
      "source": [
        "#9->Write a Python program to triple \n",
        "#all numbers of a given list of integers. \n",
        "#Use Python map\n",
        "a = [2,3,4,5,6,7]\n",
        "z = list(map(lambda x:x*3,a))"
      ],
      "metadata": {
        "id": "q3qjA4K4uvrA"
      },
      "execution_count": null,
      "outputs": []
    },
    {
      "cell_type": "code",
      "source": [
        "print(z)"
      ],
      "metadata": {
        "colab": {
          "base_uri": "https://localhost:8080/"
        },
        "id": "gvq_LXbFvaXo",
        "outputId": "2e8d19af-8eba-422a-b77c-99767de7d23f"
      },
      "execution_count": null,
      "outputs": [
        {
          "output_type": "stream",
          "name": "stdout",
          "text": [
            "[6, 9, 12, 15, 18, 21]\n"
          ]
        }
      ]
    },
    {
      "cell_type": "code",
      "source": [
        "#10->Write a Python program to add three \n",
        "#given lists using Python map and lambda. \n",
        "a =[1,2,3,4]\n",
        "b =[5,6,7,8]\n",
        "c =[9,10,11,12]\n",
        "list(map(lambda x,y,z:x+y+z,a,b,c))"
      ],
      "metadata": {
        "colab": {
          "base_uri": "https://localhost:8080/"
        },
        "id": "ghVqypvyvkC9",
        "outputId": "e535c567-9989-4300-96b8-cbb611b56e41"
      },
      "execution_count": null,
      "outputs": [
        {
          "output_type": "execute_result",
          "data": {
            "text/plain": [
              "[15, 18, 21, 24]"
            ]
          },
          "metadata": {},
          "execution_count": 19
        }
      ]
    },
    {
      "cell_type": "code",
      "source": [
        "#11= write a python program to square the elements of a list using map\n",
        "#function\n",
        "a =[2,3,4,5,6]\n",
        "list(map(lambda x:x**2,a))"
      ],
      "metadata": {
        "colab": {
          "base_uri": "https://localhost:8080/"
        },
        "id": "v1K_WwgRyF02",
        "outputId": "b373aee1-e27f-4af8-f0a2-fe11d62c1b71"
      },
      "execution_count": null,
      "outputs": [
        {
          "output_type": "execute_result",
          "data": {
            "text/plain": [
              "[4, 9, 16, 25, 36]"
            ]
          },
          "metadata": {},
          "execution_count": 20
        }
      ]
    },
    {
      "cell_type": "code",
      "source": [
        "#12= wap to find the average of 5 numbers using lambda function,\n",
        "a = lambda x,y,z,e,r : (x+y+z+e+r)/5"
      ],
      "metadata": {
        "id": "EMDE6FJNy9I9"
      },
      "execution_count": null,
      "outputs": []
    },
    {
      "cell_type": "code",
      "source": [
        "a(1,2,3,4,5)"
      ],
      "metadata": {
        "colab": {
          "base_uri": "https://localhost:8080/"
        },
        "id": "CyGSagY-zgl8",
        "outputId": "db9e3578-cba4-4d5f-af2e-068d802165cb"
      },
      "execution_count": null,
      "outputs": [
        {
          "output_type": "execute_result",
          "data": {
            "text/plain": [
              "3.0"
            ]
          },
          "metadata": {},
          "execution_count": 26
        }
      ]
    },
    {
      "cell_type": "code",
      "source": [
        "#13 wap to find the max and min of 3 numbers and find their average \n",
        "#with the help of lambda function.\n",
        "a=2\n",
        "b=3\n",
        "c=4\n",
        "                           "
      ],
      "metadata": {
        "id": "wetMosL50HKB"
      },
      "execution_count": null,
      "outputs": []
    },
    {
      "cell_type": "code",
      "source": [
        "                     # Regex\n",
        "\n",
        "import re                     "
      ],
      "metadata": {
        "id": "ofO61D3qO4HA"
      },
      "execution_count": null,
      "outputs": []
    },
    {
      "cell_type": "code",
      "source": [
        "#1= search\n",
        "#2= findall\n",
        "#3= sub\n",
        "#4= finditer\n",
        "#5= split\n",
        "\n",
        "#1-> findall\n",
        "\n",
        "a = 'I am a lion.Lion is a wild animal.lion is very chill bro.'\n",
        "x = re.findall('i',a)"
      ],
      "metadata": {
        "id": "5q1oGNzVPN7F"
      },
      "execution_count": null,
      "outputs": []
    },
    {
      "cell_type": "code",
      "source": [
        "x"
      ],
      "metadata": {
        "colab": {
          "base_uri": "https://localhost:8080/"
        },
        "id": "GrJLuDFzPfWt",
        "outputId": "5d2d4d56-ab6f-432d-85a2-8b3c2ce80408"
      },
      "execution_count": null,
      "outputs": [
        {
          "output_type": "execute_result",
          "data": {
            "text/plain": [
              "['i', 'i', 'i', 'i', 'i', 'i', 'i', 'i']"
            ]
          },
          "metadata": {},
          "execution_count": 4
        }
      ]
    },
    {
      "cell_type": "code",
      "source": [
        "#search\n",
        "\n",
        "a = 'I am a lion.Lion is a wild animal.lion is very chill bro.'"
      ],
      "metadata": {
        "id": "kaoUe6pvPmhX"
      },
      "execution_count": null,
      "outputs": []
    },
    {
      "cell_type": "code",
      "source": [
        "re.search('lion',a)"
      ],
      "metadata": {
        "colab": {
          "base_uri": "https://localhost:8080/"
        },
        "id": "zuGLBq3XP5hm",
        "outputId": "72b880df-8f95-44cb-b0ed-2a8452a18303"
      },
      "execution_count": null,
      "outputs": [
        {
          "output_type": "execute_result",
          "data": {
            "text/plain": [
              "<re.Match object; span=(7, 11), match='lion'>"
            ]
          },
          "metadata": {},
          "execution_count": 6
        }
      ]
    },
    {
      "cell_type": "code",
      "source": [
        "# sub\n",
        "a = 'I am a lion.Lion is a wild animal.lion is very chill bro.'\n",
        "re.sub('lion','tiger',a)"
      ],
      "metadata": {
        "colab": {
          "base_uri": "https://localhost:8080/",
          "height": 36
        },
        "id": "c-eg-vGvP-KZ",
        "outputId": "db43d6f5-2a4c-4f31-8abc-bdc814181659"
      },
      "execution_count": null,
      "outputs": [
        {
          "output_type": "execute_result",
          "data": {
            "text/plain": [
              "'I am a tiger.Lion is a wild animal.tiger is very chill bro.'"
            ],
            "application/vnd.google.colaboratory.intrinsic+json": {
              "type": "string"
            }
          },
          "metadata": {},
          "execution_count": 7
        }
      ]
    },
    {
      "cell_type": "code",
      "source": [
        "# split----> \n",
        "a = 'I am a lion.Lion is a wild animal.lion is very chill bro.'\n",
        "re.split('lion',a)"
      ],
      "metadata": {
        "colab": {
          "base_uri": "https://localhost:8080/"
        },
        "id": "KxgfujYYQCkh",
        "outputId": "580cc5b5-cf5c-4b79-8323-fd95b51fdf60"
      },
      "execution_count": null,
      "outputs": [
        {
          "output_type": "execute_result",
          "data": {
            "text/plain": [
              "['I am a ', '.Lion is a wild animal.', ' is very chill bro.']"
            ]
          },
          "metadata": {},
          "execution_count": 8
        }
      ]
    },
    {
      "cell_type": "code",
      "source": [
        "# finditer\n",
        "a = 'I am a lion.Lion is a wild animal.lion is very chill bro.'\n",
        "pattern = 'lion is'\n",
        "for i in re.finditer(pattern,a):\n",
        "    x = i.start()\n",
        "    y = i.end()\n",
        "    print(\"Starting point is---->\",x,\"Ending point is ------>\",y)"
      ],
      "metadata": {
        "colab": {
          "base_uri": "https://localhost:8080/"
        },
        "id": "HWL1afpEQKDU",
        "outputId": "7fd75912-f93e-4416-a1ae-70ceb51abe03"
      },
      "execution_count": null,
      "outputs": [
        {
          "output_type": "stream",
          "name": "stdout",
          "text": [
            "Starting point is----> 34 Ending point is ------> 41\n"
          ]
        }
      ]
    },
    {
      "cell_type": "code",
      "source": [
        "for i in re.finditer('i',a):\n",
        "    x = i.start()\n",
        "    y = i.end()\n",
        "    print(\"Starting point---->\",x,\"Ending point---->\",y)\n",
        "    "
      ],
      "metadata": {
        "colab": {
          "base_uri": "https://localhost:8080/"
        },
        "id": "nW8Vjg_vQP9a",
        "outputId": "8889eb73-786f-4e82-d851-33f00cd0fd0d"
      },
      "execution_count": null,
      "outputs": [
        {
          "output_type": "stream",
          "name": "stdout",
          "text": [
            "Starting point----> 8 Ending point----> 9\n",
            "Starting point----> 13 Ending point----> 14\n",
            "Starting point----> 17 Ending point----> 18\n",
            "Starting point----> 23 Ending point----> 24\n",
            "Starting point----> 29 Ending point----> 30\n",
            "Starting point----> 35 Ending point----> 36\n",
            "Starting point----> 39 Ending point----> 40\n",
            "Starting point----> 49 Ending point----> 50\n"
          ]
        }
      ]
    }
  ],
  "metadata": {
    "colab": {
      "name": "Untitled0.ipynb",
      "provenance": []
    },
    "kernelspec": {
      "display_name": "Python 3",
      "name": "python3"
    },
    "language_info": {
      "name": "python"
    }
  },
  "nbformat": 4,
  "nbformat_minor": 0
}